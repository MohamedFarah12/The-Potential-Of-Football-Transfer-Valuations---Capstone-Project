{
 "cells": [
  {
   "cell_type": "markdown",
   "metadata": {},
   "source": [
    "# Modelling"
   ]
  },
  {
   "cell_type": "markdown",
   "metadata": {},
   "source": [
    "In this notebook I'll be starting the modelling phase of my project."
   ]
  },
  {
   "cell_type": "code",
   "execution_count": 1,
   "metadata": {},
   "outputs": [],
   "source": [
    "import pandas as pd\n",
    "pd.set_option('display.max_columns', 100)\n",
    "import numpy as np\n",
    "import matplotlib.pyplot as plt\n",
    "import seaborn as sns"
   ]
  },
  {
   "cell_type": "markdown",
   "metadata": {},
   "source": [
    "## Data Loading"
   ]
  },
  {
   "cell_type": "code",
   "execution_count": 2,
   "metadata": {},
   "outputs": [],
   "source": [
    "X_train_s = pd.read_pickle('data1/X_train_s.pkl')\n",
    "X_val_s = pd.read_pickle('data1/X_val_s.pkl')\n",
    "X_test_s = pd.read_pickle('data1/X_test_s.pkl')\n",
    "y_train = pd.read_pickle('data1/y_train.pkl')\n",
    "y_val = pd.read_pickle('data1/y_val.pkl')\n",
    "y_test = pd.read_pickle('data1/y_test.pkl')\n",
    "df=pd.read_pickle(\"data1/df.pkl\")\n"
   ]
  },
  {
   "cell_type": "markdown",
   "metadata": {},
   "source": [
    "Data has been loaded."
   ]
  },
  {
   "cell_type": "markdown",
   "metadata": {},
   "source": [
    "## Linear Regression"
   ]
  },
  {
   "cell_type": "markdown",
   "metadata": {},
   "source": [
    "### Linearity"
   ]
  },
  {
   "cell_type": "markdown",
   "metadata": {},
   "source": [
    "Since we are doing Linear Regression we should check for linearity between our variables."
   ]
  },
  {
   "cell_type": "code",
   "execution_count": 3,
   "metadata": {},
   "outputs": [],
   "source": [
    "#concat the train data\n",
    "train_data = pd.concat([X_train_s, y_train], axis=1)\n",
    "\n",
    "#set up the corr matrix\n",
    "correlation_matrix = train_data.corr()"
   ]
  },
  {
   "cell_type": "code",
   "execution_count": 4,
   "metadata": {},
   "outputs": [
    {
     "name": "stdout",
     "output_type": "stream",
     "text": [
      "market_value                     1.000000\n",
      "Country_Russia                   0.011604\n",
      "sub_position_Central Midfield    0.007945\n",
      "Country_Morocco                  0.007656\n",
      "league_id_ES1                    0.007512\n",
      "height_in_cm                     0.006708\n",
      "Country_Cote d'Ivoire            0.006066\n",
      "sub_position_Second Striker      0.004974\n",
      "Country_Scotland                 0.004743\n",
      "last_season_x                    0.004453\n",
      "Country_Spain                    0.004043\n",
      "Country_Denmark                  0.003680\n",
      "position_Midfield                0.003362\n",
      "sub_position_Centre-Back         0.003239\n",
      "age                              0.002990\n",
      "Country_Ukraine                  0.002971\n",
      "league_id_UKR1                   0.002880\n",
      "Country_Portugal                 0.002694\n",
      "league_id_FR1                    0.002657\n",
      "league_id_RU1                    0.002654\n",
      "Name: market_value, dtype: float64\n"
     ]
    }
   ],
   "source": [
    "#get corr matrix\n",
    "correlation_values = correlation_matrix[\"market_value\"]\n",
    "\n",
    "#sort the correlation values in descending order and get the top 10 for positive and negative correlation\n",
    "sortedposcorr = correlation_values.sort_values(ascending=False).head(20)\n",
    "sortednegcorr= correlation_values.sort_values(ascending=True).head(20)\n",
    "\n",
    "print(sortedposcorr)\n"
   ]
  },
  {
   "cell_type": "code",
   "execution_count": 5,
   "metadata": {},
   "outputs": [
    {
     "name": "stdout",
     "output_type": "stream",
     "text": [
      "sub_position_Right Midfield       -0.008534\n",
      "Country_Turkey                    -0.008409\n",
      "Country_England                   -0.008379\n",
      "league_id_TR1                     -0.007212\n",
      "sub_position_Left-Back            -0.006865\n",
      "Country_Brazil                    -0.006024\n",
      "month                             -0.005411\n",
      "Country_Greece                    -0.005313\n",
      "yellow_cards                      -0.005298\n",
      "sub_position_Attacking Midfield   -0.004437\n",
      "net_transfer_record               -0.004117\n",
      "assists                           -0.004090\n",
      "minutes_played                    -0.004055\n",
      "league_id_DK1                     -0.003989\n",
      "league_id_L1                      -0.003629\n",
      "year                              -0.003471\n",
      "sub_position_Right Winger         -0.003334\n",
      "sub_position_Right-Back           -0.003228\n",
      "Country_Croatia                   -0.003192\n",
      "Country_Senegal                   -0.003088\n",
      "Name: market_value, dtype: float64\n"
     ]
    }
   ],
   "source": [
    "print(sortednegcorr)"
   ]
  },
  {
   "cell_type": "markdown",
   "metadata": {},
   "source": [
    " We dont seem to have any strong postive or negative correlations. This could be down to the scaling as in the EDA step there was a decent amount of correlation in the dataset, but we can likely say that a linear regression is not the best machine learning algorithm for this dataset. We will do it anyway as a baseline model however."
   ]
  },
  {
   "cell_type": "markdown",
   "metadata": {},
   "source": [
    "### Base Model"
   ]
  },
  {
   "cell_type": "markdown",
   "metadata": {},
   "source": [
    "The first step in Modelling for my project will be a baseline linear regression model."
   ]
  },
  {
   "cell_type": "code",
   "execution_count": 6,
   "metadata": {},
   "outputs": [
    {
     "name": "stdout",
     "output_type": "stream",
     "text": [
      "train R^2 score:0.693051423049036\n",
      "validation R^2 score:0.6898009108330572\n"
     ]
    }
   ],
   "source": [
    "#import LinearRegression\n",
    "from sklearn.linear_model import LinearRegression\n",
    "\n",
    "#instantiate\n",
    "LinReg=LinearRegression()\n",
    "\n",
    "#fit\n",
    "LinReg.fit(X_train_s,y_train)\n",
    "\n",
    "#Score\n",
    "#Train\n",
    "print(f\"train R^2 score:{LinReg.score(X_train_s,y_train)}\")\n",
    "\n",
    "#Val\n",
    "print(f\"validation R^2 score:{LinReg.score(X_val_s,y_val)}\")\n"
   ]
  },
  {
   "cell_type": "markdown",
   "metadata": {},
   "source": [
    "The training R^2 score of 0.6933 indicates our Linear Regression model captures about 70% of training variance. The validation R^2 score of 0.69 also indicates about 70% variance.This is decent as higher R-squared values, closer to 1, signify a better fit hence showcasing the model's moderate ability to recognise and capture patterns in the validation set."
   ]
  },
  {
   "cell_type": "markdown",
   "metadata": {},
   "source": [
    "### Coefficients & Intercepts"
   ]
  },
  {
   "cell_type": "code",
   "execution_count": 7,
   "metadata": {},
   "outputs": [
    {
     "data": {
      "text/plain": [
       "5096796.852634913"
      ]
     },
     "execution_count": 7,
     "metadata": {},
     "output_type": "execute_result"
    }
   ],
   "source": [
    "LinReg.intercept_"
   ]
  },
  {
   "cell_type": "markdown",
   "metadata": {},
   "source": [
    "My Linear Regression Model has a y-intercept of approximately €5.1 million indicating that when all my other features are set to zero (have no effect) the baseline value of the player is 5.1 million euros."
   ]
  },
  {
   "cell_type": "code",
   "execution_count": 8,
   "metadata": {},
   "outputs": [
    {
     "name": "stdout",
     "output_type": "stream",
     "text": [
      "                Feature  coefficients\n",
      "63        Country_Other  2.515608e+19\n",
      "70        Country_Spain  1.665870e+19\n",
      "56       Country_France  1.448118e+19\n",
      "72       Country_Turkey  1.355611e+19\n",
      "61  Country_Netherlands  1.352889e+19\n",
      "51       Country_Brazil  1.344074e+19\n",
      "65     Country_Portugal  1.308863e+19\n",
      "57      Country_Germany  1.301109e+19\n",
      "59        Country_Italy  1.263444e+19\n",
      "66       Country_Russia  1.212863e+19\n"
     ]
    }
   ],
   "source": [
    "\n",
    "coefficients = LinReg.coef_\n",
    "\n",
    "# set up a dataframe\n",
    "coefficientsdf = pd.DataFrame({'Feature': LinReg.feature_names_in_, 'coefficients': coefficients})\n",
    "\n",
    "#sort in desc order\n",
    "coefficientsdf = coefficientsdf.sort_values(by='coefficients', ascending=False)\n",
    "\n",
    "#display the 10 highest coefficients\n",
    "print(coefficientsdf.head(10))\n"
   ]
  },
  {
   "cell_type": "code",
   "execution_count": 9,
   "metadata": {},
   "outputs": [
    {
     "name": "stdout",
     "output_type": "stream",
     "text": [
      "                        Feature  coefficients\n",
      "17                   foot_right -5.819010e+18\n",
      "37                league_id_ES1 -5.909463e+18\n",
      "29     sub_position_Left Winger -6.932207e+18\n",
      "32    sub_position_Right Winger -6.984300e+18\n",
      "30       sub_position_Left-Back -8.518018e+18\n",
      "33      sub_position_Right-Back -8.947421e+18\n",
      "25  sub_position_Centre-Forward -9.637604e+18\n",
      "24     sub_position_Centre-Back -1.263725e+19\n",
      "27      sub_position_Goalkeeper -1.856675e+19\n",
      "21            position_Midfield -2.387822e+19\n"
     ]
    }
   ],
   "source": [
    "#display the 10 lowest coefficients\n",
    "print(coefficientsdf.tail(10))\n"
   ]
  },
  {
   "cell_type": "markdown",
   "metadata": {},
   "source": [
    "#### Analysis:\n",
    "\n",
    "- **Positive Coefficients:** Features like 'Country_Other,' 'Country_Spain,' etc., have large positive coefficients, indicating a strong positive influence on the target variable.They seem to be majority in the country collumns suggesting that for this specific dataset, countries have the strongest positive influence in a players valuation.\n",
    "\n",
    "- **Negative Coefficients:** Features like 'position_Goalkeeper,' 'position_Midfield,' etc., have large negative coefficients, suggesting a strong negative influence on the target variable. They seem to be mostly in the sub-position collumns suggesting that the specific subposition of a player is one of the leading factors for a lower transfer fee.\n"
   ]
  },
  {
   "cell_type": "markdown",
   "metadata": {},
   "source": [
    "## Decision Tree Regressor"
   ]
  },
  {
   "cell_type": "markdown",
   "metadata": {},
   "source": [
    "I will be setting up a basic, unoptimised Decision Tree Regressor to get a gauge of how it would look."
   ]
  },
  {
   "cell_type": "code",
   "execution_count": 10,
   "metadata": {},
   "outputs": [
    {
     "name": "stdout",
     "output_type": "stream",
     "text": [
      "0.999995981097694\n",
      "0.8743630296286344\n"
     ]
    }
   ],
   "source": [
    "#import DT regressor\n",
    "from sklearn.tree import DecisionTreeRegressor\n",
    "\n",
    "#instantiate\n",
    "DTmodel=DecisionTreeRegressor()\n",
    "\n",
    "#fit\n",
    "DTmodel.fit(X_train_s,y_train)\n",
    "\n",
    "#Score\n",
    "#Train\n",
    "print(DTmodel.score(X_train_s,y_train))\n",
    "\n",
    "#Val\n",
    "print(DTmodel.score(X_val_s,y_val))"
   ]
  },
  {
   "cell_type": "markdown",
   "metadata": {},
   "source": [
    "Here I get a train score of 99.999% accuracy which would be great if the validation score followed suit however the validation score is quite a bit lower suggesting quite a significant overfit even if these values are good."
   ]
  },
  {
   "cell_type": "markdown",
   "metadata": {},
   "source": [
    "### GridSearch & Cross-Validation"
   ]
  },
  {
   "cell_type": "markdown",
   "metadata": {},
   "source": [
    "Since I have quite a significant amount of overfitting I need to tune my hyperparameters and run a gridsearch. I can do this by setting up a parameter grid and passing that into my decision tree regressor model with a 5-fold cross validation.I will be tuning 4 hyperparameters including \"max_depth\",\"min_samples_split\",\"min_samples_leaf\",\"criterion\" with a range of values for each."
   ]
  },
  {
   "cell_type": "code",
   "execution_count": 11,
   "metadata": {
    "scrolled": true
   },
   "outputs": [
    {
     "name": "stdout",
     "output_type": "stream",
     "text": [
      "Fitting 5 folds for each of 150 candidates, totalling 750 fits\n",
      "[CV 1/5] END criterion=squared_error, max_depth=2, min_samples_leaf=1, min_samples_split=2;, score=0.559 total time=   0.3s\n",
      "[CV 2/5] END criterion=squared_error, max_depth=2, min_samples_leaf=1, min_samples_split=2;, score=0.568 total time=   0.3s\n",
      "[CV 3/5] END criterion=squared_error, max_depth=2, min_samples_leaf=1, min_samples_split=2;, score=0.585 total time=   0.3s\n",
      "[CV 4/5] END criterion=squared_error, max_depth=2, min_samples_leaf=1, min_samples_split=2;, score=0.561 total time=   0.3s\n",
      "[CV 5/5] END criterion=squared_error, max_depth=2, min_samples_leaf=1, min_samples_split=2;, score=0.578 total time=   0.3s\n",
      "[CV 1/5] END criterion=squared_error, max_depth=2, min_samples_leaf=1, min_samples_split=4;, score=0.559 total time=   0.3s\n",
      "[CV 2/5] END criterion=squared_error, max_depth=2, min_samples_leaf=1, min_samples_split=4;, score=0.568 total time=   0.3s\n",
      "[CV 3/5] END criterion=squared_error, max_depth=2, min_samples_leaf=1, min_samples_split=4;, score=0.585 total time=   0.3s\n",
      "[CV 4/5] END criterion=squared_error, max_depth=2, min_samples_leaf=1, min_samples_split=4;, score=0.561 total time=   0.3s\n",
      "[CV 5/5] END criterion=squared_error, max_depth=2, min_samples_leaf=1, min_samples_split=4;, score=0.578 total time=   0.3s\n",
      "[CV 1/5] END criterion=squared_error, max_depth=2, min_samples_leaf=1, min_samples_split=6;, score=0.559 total time=   0.3s\n",
      "[CV 2/5] END criterion=squared_error, max_depth=2, min_samples_leaf=1, min_samples_split=6;, score=0.568 total time=   0.3s\n",
      "[CV 3/5] END criterion=squared_error, max_depth=2, min_samples_leaf=1, min_samples_split=6;, score=0.585 total time=   0.3s\n",
      "[CV 4/5] END criterion=squared_error, max_depth=2, min_samples_leaf=1, min_samples_split=6;, score=0.561 total time=   0.3s\n",
      "[CV 5/5] END criterion=squared_error, max_depth=2, min_samples_leaf=1, min_samples_split=6;, score=0.578 total time=   0.2s\n",
      "[CV 1/5] END criterion=squared_error, max_depth=2, min_samples_leaf=1, min_samples_split=8;, score=0.559 total time=   0.2s\n",
      "[CV 2/5] END criterion=squared_error, max_depth=2, min_samples_leaf=1, min_samples_split=8;, score=0.568 total time=   0.3s\n",
      "[CV 3/5] END criterion=squared_error, max_depth=2, min_samples_leaf=1, min_samples_split=8;, score=0.585 total time=   0.2s\n",
      "[CV 4/5] END criterion=squared_error, max_depth=2, min_samples_leaf=1, min_samples_split=8;, score=0.561 total time=   0.2s\n",
      "[CV 5/5] END criterion=squared_error, max_depth=2, min_samples_leaf=1, min_samples_split=8;, score=0.578 total time=   0.3s\n",
      "[CV 1/5] END criterion=squared_error, max_depth=2, min_samples_leaf=1, min_samples_split=10;, score=0.559 total time=   0.2s\n",
      "[CV 2/5] END criterion=squared_error, max_depth=2, min_samples_leaf=1, min_samples_split=10;, score=0.568 total time=   0.2s\n",
      "[CV 3/5] END criterion=squared_error, max_depth=2, min_samples_leaf=1, min_samples_split=10;, score=0.585 total time=   0.1s\n",
      "[CV 4/5] END criterion=squared_error, max_depth=2, min_samples_leaf=1, min_samples_split=10;, score=0.561 total time=   0.2s\n",
      "[CV 5/5] END criterion=squared_error, max_depth=2, min_samples_leaf=1, min_samples_split=10;, score=0.578 total time=   0.2s\n",
      "[CV 1/5] END criterion=squared_error, max_depth=2, min_samples_leaf=2, min_samples_split=2;, score=0.559 total time=   0.2s\n",
      "[CV 2/5] END criterion=squared_error, max_depth=2, min_samples_leaf=2, min_samples_split=2;, score=0.568 total time=   0.2s\n",
      "[CV 3/5] END criterion=squared_error, max_depth=2, min_samples_leaf=2, min_samples_split=2;, score=0.585 total time=   0.2s\n",
      "[CV 4/5] END criterion=squared_error, max_depth=2, min_samples_leaf=2, min_samples_split=2;, score=0.561 total time=   0.2s\n",
      "[CV 5/5] END criterion=squared_error, max_depth=2, min_samples_leaf=2, min_samples_split=2;, score=0.578 total time=   0.2s\n",
      "[CV 1/5] END criterion=squared_error, max_depth=2, min_samples_leaf=2, min_samples_split=4;, score=0.559 total time=   0.2s\n",
      "[CV 2/5] END criterion=squared_error, max_depth=2, min_samples_leaf=2, min_samples_split=4;, score=0.568 total time=   0.2s\n",
      "[CV 3/5] END criterion=squared_error, max_depth=2, min_samples_leaf=2, min_samples_split=4;, score=0.585 total time=   0.3s\n",
      "[CV 4/5] END criterion=squared_error, max_depth=2, min_samples_leaf=2, min_samples_split=4;, score=0.561 total time=   0.2s\n",
      "[CV 5/5] END criterion=squared_error, max_depth=2, min_samples_leaf=2, min_samples_split=4;, score=0.578 total time=   0.3s\n",
      "[CV 1/5] END criterion=squared_error, max_depth=2, min_samples_leaf=2, min_samples_split=6;, score=0.559 total time=   0.2s\n",
      "[CV 2/5] END criterion=squared_error, max_depth=2, min_samples_leaf=2, min_samples_split=6;, score=0.568 total time=   0.2s\n",
      "[CV 3/5] END criterion=squared_error, max_depth=2, min_samples_leaf=2, min_samples_split=6;, score=0.585 total time=   0.3s\n",
      "[CV 4/5] END criterion=squared_error, max_depth=2, min_samples_leaf=2, min_samples_split=6;, score=0.561 total time=   0.3s\n",
      "[CV 5/5] END criterion=squared_error, max_depth=2, min_samples_leaf=2, min_samples_split=6;, score=0.578 total time=   0.3s\n",
      "[CV 1/5] END criterion=squared_error, max_depth=2, min_samples_leaf=2, min_samples_split=8;, score=0.559 total time=   0.3s\n",
      "[CV 2/5] END criterion=squared_error, max_depth=2, min_samples_leaf=2, min_samples_split=8;, score=0.568 total time=   0.3s\n",
      "[CV 3/5] END criterion=squared_error, max_depth=2, min_samples_leaf=2, min_samples_split=8;, score=0.585 total time=   0.3s\n",
      "[CV 4/5] END criterion=squared_error, max_depth=2, min_samples_leaf=2, min_samples_split=8;, score=0.561 total time=   0.3s\n",
      "[CV 5/5] END criterion=squared_error, max_depth=2, min_samples_leaf=2, min_samples_split=8;, score=0.578 total time=   0.3s\n",
      "[CV 1/5] END criterion=squared_error, max_depth=2, min_samples_leaf=2, min_samples_split=10;, score=0.559 total time=   0.3s\n",
      "[CV 2/5] END criterion=squared_error, max_depth=2, min_samples_leaf=2, min_samples_split=10;, score=0.568 total time=   0.3s\n",
      "[CV 3/5] END criterion=squared_error, max_depth=2, min_samples_leaf=2, min_samples_split=10;, score=0.585 total time=   0.3s\n",
      "[CV 4/5] END criterion=squared_error, max_depth=2, min_samples_leaf=2, min_samples_split=10;, score=0.561 total time=   0.3s\n",
      "[CV 5/5] END criterion=squared_error, max_depth=2, min_samples_leaf=2, min_samples_split=10;, score=0.578 total time=   0.3s\n",
      "[CV 1/5] END criterion=squared_error, max_depth=2, min_samples_leaf=4, min_samples_split=2;, score=0.559 total time=   0.3s\n",
      "[CV 2/5] END criterion=squared_error, max_depth=2, min_samples_leaf=4, min_samples_split=2;, score=0.568 total time=   0.3s\n",
      "[CV 3/5] END criterion=squared_error, max_depth=2, min_samples_leaf=4, min_samples_split=2;, score=0.585 total time=   0.3s\n",
      "[CV 4/5] END criterion=squared_error, max_depth=2, min_samples_leaf=4, min_samples_split=2;, score=0.561 total time=   0.3s\n",
      "[CV 5/5] END criterion=squared_error, max_depth=2, min_samples_leaf=4, min_samples_split=2;, score=0.578 total time=   0.3s\n",
      "[CV 1/5] END criterion=squared_error, max_depth=2, min_samples_leaf=4, min_samples_split=4;, score=0.559 total time=   0.3s\n",
      "[CV 2/5] END criterion=squared_error, max_depth=2, min_samples_leaf=4, min_samples_split=4;, score=0.568 total time=   0.3s\n",
      "[CV 3/5] END criterion=squared_error, max_depth=2, min_samples_leaf=4, min_samples_split=4;, score=0.585 total time=   0.3s\n",
      "[CV 4/5] END criterion=squared_error, max_depth=2, min_samples_leaf=4, min_samples_split=4;, score=0.561 total time=   0.2s\n",
      "[CV 5/5] END criterion=squared_error, max_depth=2, min_samples_leaf=4, min_samples_split=4;, score=0.578 total time=   0.3s\n",
      "[CV 1/5] END criterion=squared_error, max_depth=2, min_samples_leaf=4, min_samples_split=6;, score=0.559 total time=   0.3s\n",
      "[CV 2/5] END criterion=squared_error, max_depth=2, min_samples_leaf=4, min_samples_split=6;, score=0.568 total time=   0.3s\n",
      "[CV 3/5] END criterion=squared_error, max_depth=2, min_samples_leaf=4, min_samples_split=6;, score=0.585 total time=   0.3s\n",
      "[CV 4/5] END criterion=squared_error, max_depth=2, min_samples_leaf=4, min_samples_split=6;, score=0.561 total time=   0.3s\n",
      "[CV 5/5] END criterion=squared_error, max_depth=2, min_samples_leaf=4, min_samples_split=6;, score=0.578 total time=   0.3s\n",
      "[CV 1/5] END criterion=squared_error, max_depth=2, min_samples_leaf=4, min_samples_split=8;, score=0.559 total time=   0.3s\n"
     ]
    },
    {
     "name": "stdout",
     "output_type": "stream",
     "text": [
      "[CV 2/5] END criterion=squared_error, max_depth=2, min_samples_leaf=4, min_samples_split=8;, score=0.568 total time=   0.2s\n",
      "[CV 3/5] END criterion=squared_error, max_depth=2, min_samples_leaf=4, min_samples_split=8;, score=0.585 total time=   0.2s\n",
      "[CV 4/5] END criterion=squared_error, max_depth=2, min_samples_leaf=4, min_samples_split=8;, score=0.561 total time=   0.3s\n",
      "[CV 5/5] END criterion=squared_error, max_depth=2, min_samples_leaf=4, min_samples_split=8;, score=0.578 total time=   0.3s\n",
      "[CV 1/5] END criterion=squared_error, max_depth=2, min_samples_leaf=4, min_samples_split=10;, score=0.559 total time=   0.2s\n",
      "[CV 2/5] END criterion=squared_error, max_depth=2, min_samples_leaf=4, min_samples_split=10;, score=0.568 total time=   0.2s\n",
      "[CV 3/5] END criterion=squared_error, max_depth=2, min_samples_leaf=4, min_samples_split=10;, score=0.585 total time=   0.3s\n",
      "[CV 4/5] END criterion=squared_error, max_depth=2, min_samples_leaf=4, min_samples_split=10;, score=0.561 total time=   0.3s\n",
      "[CV 5/5] END criterion=squared_error, max_depth=2, min_samples_leaf=4, min_samples_split=10;, score=0.578 total time=   0.3s\n",
      "[CV 1/5] END criterion=squared_error, max_depth=2, min_samples_leaf=6, min_samples_split=2;, score=0.559 total time=   0.3s\n",
      "[CV 2/5] END criterion=squared_error, max_depth=2, min_samples_leaf=6, min_samples_split=2;, score=0.568 total time=   0.3s\n",
      "[CV 3/5] END criterion=squared_error, max_depth=2, min_samples_leaf=6, min_samples_split=2;, score=0.585 total time=   0.3s\n",
      "[CV 4/5] END criterion=squared_error, max_depth=2, min_samples_leaf=6, min_samples_split=2;, score=0.561 total time=   0.3s\n",
      "[CV 5/5] END criterion=squared_error, max_depth=2, min_samples_leaf=6, min_samples_split=2;, score=0.578 total time=   0.3s\n",
      "[CV 1/5] END criterion=squared_error, max_depth=2, min_samples_leaf=6, min_samples_split=4;, score=0.559 total time=   0.3s\n",
      "[CV 2/5] END criterion=squared_error, max_depth=2, min_samples_leaf=6, min_samples_split=4;, score=0.568 total time=   0.3s\n",
      "[CV 3/5] END criterion=squared_error, max_depth=2, min_samples_leaf=6, min_samples_split=4;, score=0.585 total time=   0.3s\n",
      "[CV 4/5] END criterion=squared_error, max_depth=2, min_samples_leaf=6, min_samples_split=4;, score=0.561 total time=   0.3s\n",
      "[CV 5/5] END criterion=squared_error, max_depth=2, min_samples_leaf=6, min_samples_split=4;, score=0.578 total time=   0.3s\n",
      "[CV 1/5] END criterion=squared_error, max_depth=2, min_samples_leaf=6, min_samples_split=6;, score=0.559 total time=   0.3s\n",
      "[CV 2/5] END criterion=squared_error, max_depth=2, min_samples_leaf=6, min_samples_split=6;, score=0.568 total time=   0.3s\n",
      "[CV 3/5] END criterion=squared_error, max_depth=2, min_samples_leaf=6, min_samples_split=6;, score=0.585 total time=   0.3s\n",
      "[CV 4/5] END criterion=squared_error, max_depth=2, min_samples_leaf=6, min_samples_split=6;, score=0.561 total time=   0.3s\n",
      "[CV 5/5] END criterion=squared_error, max_depth=2, min_samples_leaf=6, min_samples_split=6;, score=0.578 total time=   0.2s\n",
      "[CV 1/5] END criterion=squared_error, max_depth=2, min_samples_leaf=6, min_samples_split=8;, score=0.559 total time=   0.3s\n",
      "[CV 2/5] END criterion=squared_error, max_depth=2, min_samples_leaf=6, min_samples_split=8;, score=0.568 total time=   0.3s\n",
      "[CV 3/5] END criterion=squared_error, max_depth=2, min_samples_leaf=6, min_samples_split=8;, score=0.585 total time=   0.2s\n",
      "[CV 4/5] END criterion=squared_error, max_depth=2, min_samples_leaf=6, min_samples_split=8;, score=0.561 total time=   0.3s\n",
      "[CV 5/5] END criterion=squared_error, max_depth=2, min_samples_leaf=6, min_samples_split=8;, score=0.578 total time=   0.3s\n",
      "[CV 1/5] END criterion=squared_error, max_depth=2, min_samples_leaf=6, min_samples_split=10;, score=0.559 total time=   0.3s\n",
      "[CV 2/5] END criterion=squared_error, max_depth=2, min_samples_leaf=6, min_samples_split=10;, score=0.568 total time=   0.3s\n",
      "[CV 3/5] END criterion=squared_error, max_depth=2, min_samples_leaf=6, min_samples_split=10;, score=0.585 total time=   0.3s\n",
      "[CV 4/5] END criterion=squared_error, max_depth=2, min_samples_leaf=6, min_samples_split=10;, score=0.561 total time=   0.3s\n",
      "[CV 5/5] END criterion=squared_error, max_depth=2, min_samples_leaf=6, min_samples_split=10;, score=0.578 total time=   0.3s\n",
      "[CV 1/5] END criterion=squared_error, max_depth=2, min_samples_leaf=8, min_samples_split=2;, score=0.559 total time=   0.3s\n",
      "[CV 2/5] END criterion=squared_error, max_depth=2, min_samples_leaf=8, min_samples_split=2;, score=0.568 total time=   0.3s\n",
      "[CV 3/5] END criterion=squared_error, max_depth=2, min_samples_leaf=8, min_samples_split=2;, score=0.585 total time=   0.3s\n",
      "[CV 4/5] END criterion=squared_error, max_depth=2, min_samples_leaf=8, min_samples_split=2;, score=0.561 total time=   0.3s\n",
      "[CV 5/5] END criterion=squared_error, max_depth=2, min_samples_leaf=8, min_samples_split=2;, score=0.578 total time=   0.3s\n",
      "[CV 1/5] END criterion=squared_error, max_depth=2, min_samples_leaf=8, min_samples_split=4;, score=0.559 total time=   0.3s\n",
      "[CV 2/5] END criterion=squared_error, max_depth=2, min_samples_leaf=8, min_samples_split=4;, score=0.568 total time=   0.3s\n",
      "[CV 3/5] END criterion=squared_error, max_depth=2, min_samples_leaf=8, min_samples_split=4;, score=0.585 total time=   0.2s\n",
      "[CV 4/5] END criterion=squared_error, max_depth=2, min_samples_leaf=8, min_samples_split=4;, score=0.561 total time=   0.3s\n",
      "[CV 5/5] END criterion=squared_error, max_depth=2, min_samples_leaf=8, min_samples_split=4;, score=0.578 total time=   0.1s\n",
      "[CV 1/5] END criterion=squared_error, max_depth=2, min_samples_leaf=8, min_samples_split=6;, score=0.559 total time=   0.1s\n",
      "[CV 2/5] END criterion=squared_error, max_depth=2, min_samples_leaf=8, min_samples_split=6;, score=0.568 total time=   0.2s\n",
      "[CV 3/5] END criterion=squared_error, max_depth=2, min_samples_leaf=8, min_samples_split=6;, score=0.585 total time=   0.2s\n",
      "[CV 4/5] END criterion=squared_error, max_depth=2, min_samples_leaf=8, min_samples_split=6;, score=0.561 total time=   0.2s\n",
      "[CV 5/5] END criterion=squared_error, max_depth=2, min_samples_leaf=8, min_samples_split=6;, score=0.578 total time=   0.2s\n",
      "[CV 1/5] END criterion=squared_error, max_depth=2, min_samples_leaf=8, min_samples_split=8;, score=0.559 total time=   0.3s\n",
      "[CV 2/5] END criterion=squared_error, max_depth=2, min_samples_leaf=8, min_samples_split=8;, score=0.568 total time=   0.3s\n",
      "[CV 3/5] END criterion=squared_error, max_depth=2, min_samples_leaf=8, min_samples_split=8;, score=0.585 total time=   0.3s\n",
      "[CV 4/5] END criterion=squared_error, max_depth=2, min_samples_leaf=8, min_samples_split=8;, score=0.561 total time=   0.3s\n",
      "[CV 5/5] END criterion=squared_error, max_depth=2, min_samples_leaf=8, min_samples_split=8;, score=0.578 total time=   0.3s\n",
      "[CV 1/5] END criterion=squared_error, max_depth=2, min_samples_leaf=8, min_samples_split=10;, score=0.559 total time=   0.3s\n",
      "[CV 2/5] END criterion=squared_error, max_depth=2, min_samples_leaf=8, min_samples_split=10;, score=0.568 total time=   0.3s\n",
      "[CV 3/5] END criterion=squared_error, max_depth=2, min_samples_leaf=8, min_samples_split=10;, score=0.585 total time=   0.3s\n",
      "[CV 4/5] END criterion=squared_error, max_depth=2, min_samples_leaf=8, min_samples_split=10;, score=0.561 total time=   0.3s\n",
      "[CV 5/5] END criterion=squared_error, max_depth=2, min_samples_leaf=8, min_samples_split=10;, score=0.578 total time=   0.3s\n",
      "[CV 1/5] END criterion=squared_error, max_depth=2, min_samples_leaf=10, min_samples_split=2;, score=0.559 total time=   0.3s\n",
      "[CV 2/5] END criterion=squared_error, max_depth=2, min_samples_leaf=10, min_samples_split=2;, score=0.568 total time=   0.3s\n",
      "[CV 3/5] END criterion=squared_error, max_depth=2, min_samples_leaf=10, min_samples_split=2;, score=0.585 total time=   0.3s\n",
      "[CV 4/5] END criterion=squared_error, max_depth=2, min_samples_leaf=10, min_samples_split=2;, score=0.561 total time=   0.3s\n",
      "[CV 5/5] END criterion=squared_error, max_depth=2, min_samples_leaf=10, min_samples_split=2;, score=0.578 total time=   0.3s\n",
      "[CV 1/5] END criterion=squared_error, max_depth=2, min_samples_leaf=10, min_samples_split=4;, score=0.559 total time=   0.3s\n",
      "[CV 2/5] END criterion=squared_error, max_depth=2, min_samples_leaf=10, min_samples_split=4;, score=0.568 total time=   0.3s\n"
     ]
    },
    {
     "name": "stdout",
     "output_type": "stream",
     "text": [
      "[CV 3/5] END criterion=squared_error, max_depth=2, min_samples_leaf=10, min_samples_split=4;, score=0.585 total time=   0.3s\n",
      "[CV 4/5] END criterion=squared_error, max_depth=2, min_samples_leaf=10, min_samples_split=4;, score=0.561 total time=   0.3s\n",
      "[CV 5/5] END criterion=squared_error, max_depth=2, min_samples_leaf=10, min_samples_split=4;, score=0.578 total time=   0.3s\n",
      "[CV 1/5] END criterion=squared_error, max_depth=2, min_samples_leaf=10, min_samples_split=6;, score=0.559 total time=   0.3s\n",
      "[CV 2/5] END criterion=squared_error, max_depth=2, min_samples_leaf=10, min_samples_split=6;, score=0.568 total time=   0.3s\n",
      "[CV 3/5] END criterion=squared_error, max_depth=2, min_samples_leaf=10, min_samples_split=6;, score=0.585 total time=   0.3s\n",
      "[CV 4/5] END criterion=squared_error, max_depth=2, min_samples_leaf=10, min_samples_split=6;, score=0.561 total time=   0.2s\n",
      "[CV 5/5] END criterion=squared_error, max_depth=2, min_samples_leaf=10, min_samples_split=6;, score=0.578 total time=   0.3s\n",
      "[CV 1/5] END criterion=squared_error, max_depth=2, min_samples_leaf=10, min_samples_split=8;, score=0.559 total time=   0.3s\n",
      "[CV 2/5] END criterion=squared_error, max_depth=2, min_samples_leaf=10, min_samples_split=8;, score=0.568 total time=   0.3s\n",
      "[CV 3/5] END criterion=squared_error, max_depth=2, min_samples_leaf=10, min_samples_split=8;, score=0.585 total time=   0.3s\n",
      "[CV 4/5] END criterion=squared_error, max_depth=2, min_samples_leaf=10, min_samples_split=8;, score=0.561 total time=   0.3s\n",
      "[CV 5/5] END criterion=squared_error, max_depth=2, min_samples_leaf=10, min_samples_split=8;, score=0.578 total time=   0.3s\n",
      "[CV 1/5] END criterion=squared_error, max_depth=2, min_samples_leaf=10, min_samples_split=10;, score=0.559 total time=   0.3s\n",
      "[CV 2/5] END criterion=squared_error, max_depth=2, min_samples_leaf=10, min_samples_split=10;, score=0.568 total time=   0.3s\n",
      "[CV 3/5] END criterion=squared_error, max_depth=2, min_samples_leaf=10, min_samples_split=10;, score=0.585 total time=   0.3s\n",
      "[CV 4/5] END criterion=squared_error, max_depth=2, min_samples_leaf=10, min_samples_split=10;, score=0.561 total time=   0.3s\n",
      "[CV 5/5] END criterion=squared_error, max_depth=2, min_samples_leaf=10, min_samples_split=10;, score=0.578 total time=   0.2s\n",
      "[CV 1/5] END criterion=squared_error, max_depth=4, min_samples_leaf=1, min_samples_split=2;, score=0.712 total time=   0.5s\n",
      "[CV 2/5] END criterion=squared_error, max_depth=4, min_samples_leaf=1, min_samples_split=2;, score=0.712 total time=   0.3s\n",
      "[CV 3/5] END criterion=squared_error, max_depth=4, min_samples_leaf=1, min_samples_split=2;, score=0.729 total time=   0.4s\n",
      "[CV 4/5] END criterion=squared_error, max_depth=4, min_samples_leaf=1, min_samples_split=2;, score=0.684 total time=   0.4s\n",
      "[CV 5/5] END criterion=squared_error, max_depth=4, min_samples_leaf=1, min_samples_split=2;, score=0.720 total time=   0.5s\n",
      "[CV 1/5] END criterion=squared_error, max_depth=4, min_samples_leaf=1, min_samples_split=4;, score=0.712 total time=   0.5s\n",
      "[CV 2/5] END criterion=squared_error, max_depth=4, min_samples_leaf=1, min_samples_split=4;, score=0.712 total time=   0.5s\n",
      "[CV 3/5] END criterion=squared_error, max_depth=4, min_samples_leaf=1, min_samples_split=4;, score=0.729 total time=   0.6s\n",
      "[CV 4/5] END criterion=squared_error, max_depth=4, min_samples_leaf=1, min_samples_split=4;, score=0.684 total time=   0.6s\n",
      "[CV 5/5] END criterion=squared_error, max_depth=4, min_samples_leaf=1, min_samples_split=4;, score=0.720 total time=   0.6s\n",
      "[CV 1/5] END criterion=squared_error, max_depth=4, min_samples_leaf=1, min_samples_split=6;, score=0.712 total time=   0.6s\n",
      "[CV 2/5] END criterion=squared_error, max_depth=4, min_samples_leaf=1, min_samples_split=6;, score=0.712 total time=   0.6s\n",
      "[CV 3/5] END criterion=squared_error, max_depth=4, min_samples_leaf=1, min_samples_split=6;, score=0.729 total time=   0.6s\n",
      "[CV 4/5] END criterion=squared_error, max_depth=4, min_samples_leaf=1, min_samples_split=6;, score=0.684 total time=   0.5s\n",
      "[CV 5/5] END criterion=squared_error, max_depth=4, min_samples_leaf=1, min_samples_split=6;, score=0.720 total time=   0.5s\n",
      "[CV 1/5] END criterion=squared_error, max_depth=4, min_samples_leaf=1, min_samples_split=8;, score=0.712 total time=   0.6s\n",
      "[CV 2/5] END criterion=squared_error, max_depth=4, min_samples_leaf=1, min_samples_split=8;, score=0.712 total time=   0.5s\n",
      "[CV 3/5] END criterion=squared_error, max_depth=4, min_samples_leaf=1, min_samples_split=8;, score=0.729 total time=   0.5s\n",
      "[CV 4/5] END criterion=squared_error, max_depth=4, min_samples_leaf=1, min_samples_split=8;, score=0.684 total time=   0.5s\n",
      "[CV 5/5] END criterion=squared_error, max_depth=4, min_samples_leaf=1, min_samples_split=8;, score=0.720 total time=   0.5s\n",
      "[CV 1/5] END criterion=squared_error, max_depth=4, min_samples_leaf=1, min_samples_split=10;, score=0.712 total time=   0.5s\n",
      "[CV 2/5] END criterion=squared_error, max_depth=4, min_samples_leaf=1, min_samples_split=10;, score=0.712 total time=   0.5s\n",
      "[CV 3/5] END criterion=squared_error, max_depth=4, min_samples_leaf=1, min_samples_split=10;, score=0.729 total time=   0.6s\n",
      "[CV 4/5] END criterion=squared_error, max_depth=4, min_samples_leaf=1, min_samples_split=10;, score=0.684 total time=   0.6s\n",
      "[CV 5/5] END criterion=squared_error, max_depth=4, min_samples_leaf=1, min_samples_split=10;, score=0.720 total time=   0.6s\n",
      "[CV 1/5] END criterion=squared_error, max_depth=4, min_samples_leaf=2, min_samples_split=2;, score=0.712 total time=   0.5s\n",
      "[CV 2/5] END criterion=squared_error, max_depth=4, min_samples_leaf=2, min_samples_split=2;, score=0.712 total time=   0.3s\n",
      "[CV 3/5] END criterion=squared_error, max_depth=4, min_samples_leaf=2, min_samples_split=2;, score=0.729 total time=   0.5s\n",
      "[CV 4/5] END criterion=squared_error, max_depth=4, min_samples_leaf=2, min_samples_split=2;, score=0.684 total time=   0.4s\n",
      "[CV 5/5] END criterion=squared_error, max_depth=4, min_samples_leaf=2, min_samples_split=2;, score=0.720 total time=   0.6s\n",
      "[CV 1/5] END criterion=squared_error, max_depth=4, min_samples_leaf=2, min_samples_split=4;, score=0.712 total time=   0.6s\n",
      "[CV 2/5] END criterion=squared_error, max_depth=4, min_samples_leaf=2, min_samples_split=4;, score=0.712 total time=   0.6s\n",
      "[CV 3/5] END criterion=squared_error, max_depth=4, min_samples_leaf=2, min_samples_split=4;, score=0.729 total time=   0.6s\n",
      "[CV 4/5] END criterion=squared_error, max_depth=4, min_samples_leaf=2, min_samples_split=4;, score=0.684 total time=   0.6s\n",
      "[CV 5/5] END criterion=squared_error, max_depth=4, min_samples_leaf=2, min_samples_split=4;, score=0.720 total time=   0.5s\n",
      "[CV 1/5] END criterion=squared_error, max_depth=4, min_samples_leaf=2, min_samples_split=6;, score=0.712 total time=   0.6s\n",
      "[CV 2/5] END criterion=squared_error, max_depth=4, min_samples_leaf=2, min_samples_split=6;, score=0.712 total time=   0.6s\n",
      "[CV 3/5] END criterion=squared_error, max_depth=4, min_samples_leaf=2, min_samples_split=6;, score=0.729 total time=   0.6s\n",
      "[CV 4/5] END criterion=squared_error, max_depth=4, min_samples_leaf=2, min_samples_split=6;, score=0.684 total time=   0.6s\n",
      "[CV 5/5] END criterion=squared_error, max_depth=4, min_samples_leaf=2, min_samples_split=6;, score=0.720 total time=   0.6s\n",
      "[CV 1/5] END criterion=squared_error, max_depth=4, min_samples_leaf=2, min_samples_split=8;, score=0.712 total time=   0.6s\n",
      "[CV 2/5] END criterion=squared_error, max_depth=4, min_samples_leaf=2, min_samples_split=8;, score=0.712 total time=   0.6s\n",
      "[CV 3/5] END criterion=squared_error, max_depth=4, min_samples_leaf=2, min_samples_split=8;, score=0.729 total time=   0.6s\n",
      "[CV 4/5] END criterion=squared_error, max_depth=4, min_samples_leaf=2, min_samples_split=8;, score=0.684 total time=   0.6s\n",
      "[CV 5/5] END criterion=squared_error, max_depth=4, min_samples_leaf=2, min_samples_split=8;, score=0.720 total time=   0.6s\n",
      "[CV 1/5] END criterion=squared_error, max_depth=4, min_samples_leaf=2, min_samples_split=10;, score=0.712 total time=   0.6s\n",
      "[CV 2/5] END criterion=squared_error, max_depth=4, min_samples_leaf=2, min_samples_split=10;, score=0.712 total time=   0.6s\n",
      "[CV 3/5] END criterion=squared_error, max_depth=4, min_samples_leaf=2, min_samples_split=10;, score=0.729 total time=   0.6s\n"
     ]
    },
    {
     "name": "stdout",
     "output_type": "stream",
     "text": [
      "[CV 4/5] END criterion=squared_error, max_depth=4, min_samples_leaf=2, min_samples_split=10;, score=0.684 total time=   0.6s\n",
      "[CV 5/5] END criterion=squared_error, max_depth=4, min_samples_leaf=2, min_samples_split=10;, score=0.720 total time=   0.6s\n",
      "[CV 1/5] END criterion=squared_error, max_depth=4, min_samples_leaf=4, min_samples_split=2;, score=0.712 total time=   0.4s\n",
      "[CV 2/5] END criterion=squared_error, max_depth=4, min_samples_leaf=4, min_samples_split=2;, score=0.712 total time=   0.5s\n",
      "[CV 3/5] END criterion=squared_error, max_depth=4, min_samples_leaf=4, min_samples_split=2;, score=0.729 total time=   0.5s\n",
      "[CV 4/5] END criterion=squared_error, max_depth=4, min_samples_leaf=4, min_samples_split=2;, score=0.684 total time=   0.4s\n",
      "[CV 5/5] END criterion=squared_error, max_depth=4, min_samples_leaf=4, min_samples_split=2;, score=0.720 total time=   0.6s\n",
      "[CV 1/5] END criterion=squared_error, max_depth=4, min_samples_leaf=4, min_samples_split=4;, score=0.712 total time=   0.6s\n",
      "[CV 2/5] END criterion=squared_error, max_depth=4, min_samples_leaf=4, min_samples_split=4;, score=0.712 total time=   0.6s\n",
      "[CV 3/5] END criterion=squared_error, max_depth=4, min_samples_leaf=4, min_samples_split=4;, score=0.729 total time=   0.6s\n",
      "[CV 4/5] END criterion=squared_error, max_depth=4, min_samples_leaf=4, min_samples_split=4;, score=0.684 total time=   0.6s\n",
      "[CV 5/5] END criterion=squared_error, max_depth=4, min_samples_leaf=4, min_samples_split=4;, score=0.720 total time=   0.6s\n",
      "[CV 1/5] END criterion=squared_error, max_depth=4, min_samples_leaf=4, min_samples_split=6;, score=0.712 total time=   0.5s\n",
      "[CV 2/5] END criterion=squared_error, max_depth=4, min_samples_leaf=4, min_samples_split=6;, score=0.712 total time=   0.6s\n",
      "[CV 3/5] END criterion=squared_error, max_depth=4, min_samples_leaf=4, min_samples_split=6;, score=0.729 total time=   0.7s\n",
      "[CV 4/5] END criterion=squared_error, max_depth=4, min_samples_leaf=4, min_samples_split=6;, score=0.684 total time=   0.6s\n",
      "[CV 5/5] END criterion=squared_error, max_depth=4, min_samples_leaf=4, min_samples_split=6;, score=0.720 total time=   0.6s\n",
      "[CV 1/5] END criterion=squared_error, max_depth=4, min_samples_leaf=4, min_samples_split=8;, score=0.712 total time=   0.5s\n",
      "[CV 2/5] END criterion=squared_error, max_depth=4, min_samples_leaf=4, min_samples_split=8;, score=0.712 total time=   0.6s\n",
      "[CV 3/5] END criterion=squared_error, max_depth=4, min_samples_leaf=4, min_samples_split=8;, score=0.729 total time=   0.5s\n",
      "[CV 4/5] END criterion=squared_error, max_depth=4, min_samples_leaf=4, min_samples_split=8;, score=0.684 total time=   0.5s\n",
      "[CV 5/5] END criterion=squared_error, max_depth=4, min_samples_leaf=4, min_samples_split=8;, score=0.720 total time=   0.6s\n",
      "[CV 1/5] END criterion=squared_error, max_depth=4, min_samples_leaf=4, min_samples_split=10;, score=0.712 total time=   0.6s\n",
      "[CV 2/5] END criterion=squared_error, max_depth=4, min_samples_leaf=4, min_samples_split=10;, score=0.712 total time=   0.6s\n",
      "[CV 3/5] END criterion=squared_error, max_depth=4, min_samples_leaf=4, min_samples_split=10;, score=0.729 total time=   0.5s\n",
      "[CV 4/5] END criterion=squared_error, max_depth=4, min_samples_leaf=4, min_samples_split=10;, score=0.684 total time=   0.5s\n",
      "[CV 5/5] END criterion=squared_error, max_depth=4, min_samples_leaf=4, min_samples_split=10;, score=0.720 total time=   0.4s\n",
      "[CV 1/5] END criterion=squared_error, max_depth=4, min_samples_leaf=6, min_samples_split=2;, score=0.712 total time=   0.4s\n",
      "[CV 2/5] END criterion=squared_error, max_depth=4, min_samples_leaf=6, min_samples_split=2;, score=0.712 total time=   0.2s\n",
      "[CV 3/5] END criterion=squared_error, max_depth=4, min_samples_leaf=6, min_samples_split=2;, score=0.729 total time=   0.4s\n",
      "[CV 4/5] END criterion=squared_error, max_depth=4, min_samples_leaf=6, min_samples_split=2;, score=0.684 total time=   0.3s\n",
      "[CV 5/5] END criterion=squared_error, max_depth=4, min_samples_leaf=6, min_samples_split=2;, score=0.720 total time=   0.5s\n",
      "[CV 1/5] END criterion=squared_error, max_depth=4, min_samples_leaf=6, min_samples_split=4;, score=0.712 total time=   0.5s\n",
      "[CV 2/5] END criterion=squared_error, max_depth=4, min_samples_leaf=6, min_samples_split=4;, score=0.712 total time=   0.5s\n",
      "[CV 3/5] END criterion=squared_error, max_depth=4, min_samples_leaf=6, min_samples_split=4;, score=0.729 total time=   0.6s\n",
      "[CV 4/5] END criterion=squared_error, max_depth=4, min_samples_leaf=6, min_samples_split=4;, score=0.684 total time=   0.5s\n",
      "[CV 5/5] END criterion=squared_error, max_depth=4, min_samples_leaf=6, min_samples_split=4;, score=0.720 total time=   0.6s\n",
      "[CV 1/5] END criterion=squared_error, max_depth=4, min_samples_leaf=6, min_samples_split=6;, score=0.712 total time=   0.6s\n",
      "[CV 2/5] END criterion=squared_error, max_depth=4, min_samples_leaf=6, min_samples_split=6;, score=0.712 total time=   0.6s\n",
      "[CV 3/5] END criterion=squared_error, max_depth=4, min_samples_leaf=6, min_samples_split=6;, score=0.729 total time=   0.6s\n",
      "[CV 4/5] END criterion=squared_error, max_depth=4, min_samples_leaf=6, min_samples_split=6;, score=0.684 total time=   0.5s\n",
      "[CV 5/5] END criterion=squared_error, max_depth=4, min_samples_leaf=6, min_samples_split=6;, score=0.720 total time=   0.6s\n",
      "[CV 1/5] END criterion=squared_error, max_depth=4, min_samples_leaf=6, min_samples_split=8;, score=0.712 total time=   0.5s\n",
      "[CV 2/5] END criterion=squared_error, max_depth=4, min_samples_leaf=6, min_samples_split=8;, score=0.712 total time=   0.5s\n",
      "[CV 3/5] END criterion=squared_error, max_depth=4, min_samples_leaf=6, min_samples_split=8;, score=0.729 total time=   0.6s\n",
      "[CV 4/5] END criterion=squared_error, max_depth=4, min_samples_leaf=6, min_samples_split=8;, score=0.684 total time=   0.6s\n",
      "[CV 5/5] END criterion=squared_error, max_depth=4, min_samples_leaf=6, min_samples_split=8;, score=0.720 total time=   0.6s\n",
      "[CV 1/5] END criterion=squared_error, max_depth=4, min_samples_leaf=6, min_samples_split=10;, score=0.712 total time=   0.5s\n",
      "[CV 2/5] END criterion=squared_error, max_depth=4, min_samples_leaf=6, min_samples_split=10;, score=0.712 total time=   0.4s\n",
      "[CV 3/5] END criterion=squared_error, max_depth=4, min_samples_leaf=6, min_samples_split=10;, score=0.729 total time=   0.5s\n",
      "[CV 4/5] END criterion=squared_error, max_depth=4, min_samples_leaf=6, min_samples_split=10;, score=0.684 total time=   0.5s\n",
      "[CV 5/5] END criterion=squared_error, max_depth=4, min_samples_leaf=6, min_samples_split=10;, score=0.720 total time=   0.5s\n",
      "[CV 1/5] END criterion=squared_error, max_depth=4, min_samples_leaf=8, min_samples_split=2;, score=0.712 total time=   0.4s\n",
      "[CV 2/5] END criterion=squared_error, max_depth=4, min_samples_leaf=8, min_samples_split=2;, score=0.712 total time=   0.4s\n",
      "[CV 3/5] END criterion=squared_error, max_depth=4, min_samples_leaf=8, min_samples_split=2;, score=0.729 total time=   0.5s\n",
      "[CV 4/5] END criterion=squared_error, max_depth=4, min_samples_leaf=8, min_samples_split=2;, score=0.684 total time=   0.4s\n",
      "[CV 5/5] END criterion=squared_error, max_depth=4, min_samples_leaf=8, min_samples_split=2;, score=0.720 total time=   0.5s\n",
      "[CV 1/5] END criterion=squared_error, max_depth=4, min_samples_leaf=8, min_samples_split=4;, score=0.712 total time=   0.6s\n",
      "[CV 2/5] END criterion=squared_error, max_depth=4, min_samples_leaf=8, min_samples_split=4;, score=0.712 total time=   0.5s\n",
      "[CV 3/5] END criterion=squared_error, max_depth=4, min_samples_leaf=8, min_samples_split=4;, score=0.729 total time=   0.6s\n",
      "[CV 4/5] END criterion=squared_error, max_depth=4, min_samples_leaf=8, min_samples_split=4;, score=0.684 total time=   0.5s\n",
      "[CV 5/5] END criterion=squared_error, max_depth=4, min_samples_leaf=8, min_samples_split=4;, score=0.720 total time=   0.5s\n",
      "[CV 1/5] END criterion=squared_error, max_depth=4, min_samples_leaf=8, min_samples_split=6;, score=0.712 total time=   0.6s\n",
      "[CV 2/5] END criterion=squared_error, max_depth=4, min_samples_leaf=8, min_samples_split=6;, score=0.712 total time=   0.6s\n",
      "[CV 3/5] END criterion=squared_error, max_depth=4, min_samples_leaf=8, min_samples_split=6;, score=0.729 total time=   0.5s\n",
      "[CV 4/5] END criterion=squared_error, max_depth=4, min_samples_leaf=8, min_samples_split=6;, score=0.684 total time=   0.6s\n"
     ]
    },
    {
     "name": "stdout",
     "output_type": "stream",
     "text": [
      "[CV 5/5] END criterion=squared_error, max_depth=4, min_samples_leaf=8, min_samples_split=6;, score=0.720 total time=   0.5s\n",
      "[CV 1/5] END criterion=squared_error, max_depth=4, min_samples_leaf=8, min_samples_split=8;, score=0.712 total time=   0.6s\n",
      "[CV 2/5] END criterion=squared_error, max_depth=4, min_samples_leaf=8, min_samples_split=8;, score=0.712 total time=   0.5s\n",
      "[CV 3/5] END criterion=squared_error, max_depth=4, min_samples_leaf=8, min_samples_split=8;, score=0.729 total time=   0.6s\n",
      "[CV 4/5] END criterion=squared_error, max_depth=4, min_samples_leaf=8, min_samples_split=8;, score=0.684 total time=   0.6s\n",
      "[CV 5/5] END criterion=squared_error, max_depth=4, min_samples_leaf=8, min_samples_split=8;, score=0.720 total time=   0.6s\n",
      "[CV 1/5] END criterion=squared_error, max_depth=4, min_samples_leaf=8, min_samples_split=10;, score=0.712 total time=   0.6s\n",
      "[CV 2/5] END criterion=squared_error, max_depth=4, min_samples_leaf=8, min_samples_split=10;, score=0.712 total time=   0.6s\n",
      "[CV 3/5] END criterion=squared_error, max_depth=4, min_samples_leaf=8, min_samples_split=10;, score=0.729 total time=   0.5s\n",
      "[CV 4/5] END criterion=squared_error, max_depth=4, min_samples_leaf=8, min_samples_split=10;, score=0.684 total time=   0.6s\n",
      "[CV 5/5] END criterion=squared_error, max_depth=4, min_samples_leaf=8, min_samples_split=10;, score=0.720 total time=   0.6s\n",
      "[CV 1/5] END criterion=squared_error, max_depth=4, min_samples_leaf=10, min_samples_split=2;, score=0.712 total time=   0.4s\n",
      "[CV 2/5] END criterion=squared_error, max_depth=4, min_samples_leaf=10, min_samples_split=2;, score=0.712 total time=   0.4s\n",
      "[CV 3/5] END criterion=squared_error, max_depth=4, min_samples_leaf=10, min_samples_split=2;, score=0.729 total time=   0.5s\n",
      "[CV 4/5] END criterion=squared_error, max_depth=4, min_samples_leaf=10, min_samples_split=2;, score=0.684 total time=   0.5s\n",
      "[CV 5/5] END criterion=squared_error, max_depth=4, min_samples_leaf=10, min_samples_split=2;, score=0.720 total time=   0.5s\n",
      "[CV 1/5] END criterion=squared_error, max_depth=4, min_samples_leaf=10, min_samples_split=4;, score=0.712 total time=   0.6s\n",
      "[CV 2/5] END criterion=squared_error, max_depth=4, min_samples_leaf=10, min_samples_split=4;, score=0.712 total time=   0.6s\n",
      "[CV 3/5] END criterion=squared_error, max_depth=4, min_samples_leaf=10, min_samples_split=4;, score=0.729 total time=   0.5s\n",
      "[CV 4/5] END criterion=squared_error, max_depth=4, min_samples_leaf=10, min_samples_split=4;, score=0.684 total time=   0.6s\n",
      "[CV 5/5] END criterion=squared_error, max_depth=4, min_samples_leaf=10, min_samples_split=4;, score=0.720 total time=   0.5s\n",
      "[CV 1/5] END criterion=squared_error, max_depth=4, min_samples_leaf=10, min_samples_split=6;, score=0.712 total time=   0.6s\n",
      "[CV 2/5] END criterion=squared_error, max_depth=4, min_samples_leaf=10, min_samples_split=6;, score=0.712 total time=   0.6s\n",
      "[CV 3/5] END criterion=squared_error, max_depth=4, min_samples_leaf=10, min_samples_split=6;, score=0.729 total time=   0.5s\n",
      "[CV 4/5] END criterion=squared_error, max_depth=4, min_samples_leaf=10, min_samples_split=6;, score=0.684 total time=   0.6s\n",
      "[CV 5/5] END criterion=squared_error, max_depth=4, min_samples_leaf=10, min_samples_split=6;, score=0.720 total time=   0.6s\n",
      "[CV 1/5] END criterion=squared_error, max_depth=4, min_samples_leaf=10, min_samples_split=8;, score=0.712 total time=   0.6s\n",
      "[CV 2/5] END criterion=squared_error, max_depth=4, min_samples_leaf=10, min_samples_split=8;, score=0.712 total time=   0.5s\n",
      "[CV 3/5] END criterion=squared_error, max_depth=4, min_samples_leaf=10, min_samples_split=8;, score=0.729 total time=   0.6s\n",
      "[CV 4/5] END criterion=squared_error, max_depth=4, min_samples_leaf=10, min_samples_split=8;, score=0.684 total time=   0.5s\n",
      "[CV 5/5] END criterion=squared_error, max_depth=4, min_samples_leaf=10, min_samples_split=8;, score=0.720 total time=   0.6s\n",
      "[CV 1/5] END criterion=squared_error, max_depth=4, min_samples_leaf=10, min_samples_split=10;, score=0.712 total time=   0.6s\n",
      "[CV 2/5] END criterion=squared_error, max_depth=4, min_samples_leaf=10, min_samples_split=10;, score=0.712 total time=   0.6s\n",
      "[CV 3/5] END criterion=squared_error, max_depth=4, min_samples_leaf=10, min_samples_split=10;, score=0.729 total time=   0.6s\n",
      "[CV 4/5] END criterion=squared_error, max_depth=4, min_samples_leaf=10, min_samples_split=10;, score=0.684 total time=   0.6s\n",
      "[CV 5/5] END criterion=squared_error, max_depth=4, min_samples_leaf=10, min_samples_split=10;, score=0.720 total time=   0.6s\n",
      "[CV 1/5] END criterion=squared_error, max_depth=6, min_samples_leaf=1, min_samples_split=2;, score=0.780 total time=   0.8s\n",
      "[CV 2/5] END criterion=squared_error, max_depth=6, min_samples_leaf=1, min_samples_split=2;, score=0.794 total time=   0.8s\n",
      "[CV 3/5] END criterion=squared_error, max_depth=6, min_samples_leaf=1, min_samples_split=2;, score=0.803 total time=   0.7s\n",
      "[CV 4/5] END criterion=squared_error, max_depth=6, min_samples_leaf=1, min_samples_split=2;, score=0.781 total time=   0.9s\n",
      "[CV 5/5] END criterion=squared_error, max_depth=6, min_samples_leaf=1, min_samples_split=2;, score=0.793 total time=   0.9s\n",
      "[CV 1/5] END criterion=squared_error, max_depth=6, min_samples_leaf=1, min_samples_split=4;, score=0.780 total time=   0.9s\n",
      "[CV 2/5] END criterion=squared_error, max_depth=6, min_samples_leaf=1, min_samples_split=4;, score=0.794 total time=   0.9s\n",
      "[CV 3/5] END criterion=squared_error, max_depth=6, min_samples_leaf=1, min_samples_split=4;, score=0.803 total time=   0.9s\n",
      "[CV 4/5] END criterion=squared_error, max_depth=6, min_samples_leaf=1, min_samples_split=4;, score=0.781 total time=   0.9s\n",
      "[CV 5/5] END criterion=squared_error, max_depth=6, min_samples_leaf=1, min_samples_split=4;, score=0.792 total time=   0.9s\n",
      "[CV 1/5] END criterion=squared_error, max_depth=6, min_samples_leaf=1, min_samples_split=6;, score=0.780 total time=   0.9s\n",
      "[CV 2/5] END criterion=squared_error, max_depth=6, min_samples_leaf=1, min_samples_split=6;, score=0.794 total time=   0.9s\n",
      "[CV 3/5] END criterion=squared_error, max_depth=6, min_samples_leaf=1, min_samples_split=6;, score=0.803 total time=   0.9s\n",
      "[CV 4/5] END criterion=squared_error, max_depth=6, min_samples_leaf=1, min_samples_split=6;, score=0.781 total time=   1.0s\n",
      "[CV 5/5] END criterion=squared_error, max_depth=6, min_samples_leaf=1, min_samples_split=6;, score=0.793 total time=   1.0s\n",
      "[CV 1/5] END criterion=squared_error, max_depth=6, min_samples_leaf=1, min_samples_split=8;, score=0.780 total time=   0.9s\n",
      "[CV 2/5] END criterion=squared_error, max_depth=6, min_samples_leaf=1, min_samples_split=8;, score=0.794 total time=   0.8s\n",
      "[CV 3/5] END criterion=squared_error, max_depth=6, min_samples_leaf=1, min_samples_split=8;, score=0.803 total time=   0.8s\n",
      "[CV 4/5] END criterion=squared_error, max_depth=6, min_samples_leaf=1, min_samples_split=8;, score=0.781 total time=   0.8s\n",
      "[CV 5/5] END criterion=squared_error, max_depth=6, min_samples_leaf=1, min_samples_split=8;, score=0.792 total time=   0.9s\n",
      "[CV 1/5] END criterion=squared_error, max_depth=6, min_samples_leaf=1, min_samples_split=10;, score=0.780 total time=   0.9s\n",
      "[CV 2/5] END criterion=squared_error, max_depth=6, min_samples_leaf=1, min_samples_split=10;, score=0.794 total time=   0.9s\n",
      "[CV 3/5] END criterion=squared_error, max_depth=6, min_samples_leaf=1, min_samples_split=10;, score=0.803 total time=   0.9s\n",
      "[CV 4/5] END criterion=squared_error, max_depth=6, min_samples_leaf=1, min_samples_split=10;, score=0.781 total time=   0.9s\n",
      "[CV 5/5] END criterion=squared_error, max_depth=6, min_samples_leaf=1, min_samples_split=10;, score=0.792 total time=   0.9s\n",
      "[CV 1/5] END criterion=squared_error, max_depth=6, min_samples_leaf=2, min_samples_split=2;, score=0.780 total time=   0.9s\n",
      "[CV 2/5] END criterion=squared_error, max_depth=6, min_samples_leaf=2, min_samples_split=2;, score=0.794 total time=   0.9s\n",
      "[CV 3/5] END criterion=squared_error, max_depth=6, min_samples_leaf=2, min_samples_split=2;, score=0.803 total time=   0.9s\n",
      "[CV 4/5] END criterion=squared_error, max_depth=6, min_samples_leaf=2, min_samples_split=2;, score=0.781 total time=   0.9s\n",
      "[CV 5/5] END criterion=squared_error, max_depth=6, min_samples_leaf=2, min_samples_split=2;, score=0.793 total time=   0.9s\n"
     ]
    },
    {
     "name": "stdout",
     "output_type": "stream",
     "text": [
      "[CV 1/5] END criterion=squared_error, max_depth=6, min_samples_leaf=2, min_samples_split=4;, score=0.780 total time=   0.9s\n",
      "[CV 2/5] END criterion=squared_error, max_depth=6, min_samples_leaf=2, min_samples_split=4;, score=0.794 total time=   0.9s\n",
      "[CV 3/5] END criterion=squared_error, max_depth=6, min_samples_leaf=2, min_samples_split=4;, score=0.803 total time=   0.8s\n",
      "[CV 4/5] END criterion=squared_error, max_depth=6, min_samples_leaf=2, min_samples_split=4;, score=0.781 total time=   0.8s\n",
      "[CV 5/5] END criterion=squared_error, max_depth=6, min_samples_leaf=2, min_samples_split=4;, score=0.793 total time=   0.8s\n",
      "[CV 1/5] END criterion=squared_error, max_depth=6, min_samples_leaf=2, min_samples_split=6;, score=0.780 total time=   0.9s\n",
      "[CV 2/5] END criterion=squared_error, max_depth=6, min_samples_leaf=2, min_samples_split=6;, score=0.794 total time=   0.9s\n",
      "[CV 3/5] END criterion=squared_error, max_depth=6, min_samples_leaf=2, min_samples_split=6;, score=0.803 total time=   0.9s\n",
      "[CV 4/5] END criterion=squared_error, max_depth=6, min_samples_leaf=2, min_samples_split=6;, score=0.781 total time=   0.9s\n",
      "[CV 5/5] END criterion=squared_error, max_depth=6, min_samples_leaf=2, min_samples_split=6;, score=0.793 total time=   0.8s\n",
      "[CV 1/5] END criterion=squared_error, max_depth=6, min_samples_leaf=2, min_samples_split=8;, score=0.780 total time=   0.9s\n",
      "[CV 2/5] END criterion=squared_error, max_depth=6, min_samples_leaf=2, min_samples_split=8;, score=0.794 total time=   0.9s\n",
      "[CV 3/5] END criterion=squared_error, max_depth=6, min_samples_leaf=2, min_samples_split=8;, score=0.803 total time=   0.9s\n",
      "[CV 4/5] END criterion=squared_error, max_depth=6, min_samples_leaf=2, min_samples_split=8;, score=0.781 total time=   0.9s\n",
      "[CV 5/5] END criterion=squared_error, max_depth=6, min_samples_leaf=2, min_samples_split=8;, score=0.793 total time=   0.9s\n",
      "[CV 1/5] END criterion=squared_error, max_depth=6, min_samples_leaf=2, min_samples_split=10;, score=0.780 total time=   0.9s\n",
      "[CV 2/5] END criterion=squared_error, max_depth=6, min_samples_leaf=2, min_samples_split=10;, score=0.794 total time=   0.9s\n",
      "[CV 3/5] END criterion=squared_error, max_depth=6, min_samples_leaf=2, min_samples_split=10;, score=0.803 total time=   0.8s\n",
      "[CV 4/5] END criterion=squared_error, max_depth=6, min_samples_leaf=2, min_samples_split=10;, score=0.781 total time=   0.9s\n",
      "[CV 5/5] END criterion=squared_error, max_depth=6, min_samples_leaf=2, min_samples_split=10;, score=0.793 total time=   0.7s\n",
      "[CV 1/5] END criterion=squared_error, max_depth=6, min_samples_leaf=4, min_samples_split=2;, score=0.780 total time=   0.8s\n",
      "[CV 2/5] END criterion=squared_error, max_depth=6, min_samples_leaf=4, min_samples_split=2;, score=0.795 total time=   0.7s\n",
      "[CV 3/5] END criterion=squared_error, max_depth=6, min_samples_leaf=4, min_samples_split=2;, score=0.803 total time=   0.9s\n",
      "[CV 4/5] END criterion=squared_error, max_depth=6, min_samples_leaf=4, min_samples_split=2;, score=0.781 total time=   0.9s\n",
      "[CV 5/5] END criterion=squared_error, max_depth=6, min_samples_leaf=4, min_samples_split=2;, score=0.793 total time=   0.9s\n",
      "[CV 1/5] END criterion=squared_error, max_depth=6, min_samples_leaf=4, min_samples_split=4;, score=0.780 total time=   0.8s\n",
      "[CV 2/5] END criterion=squared_error, max_depth=6, min_samples_leaf=4, min_samples_split=4;, score=0.795 total time=   0.9s\n",
      "[CV 3/5] END criterion=squared_error, max_depth=6, min_samples_leaf=4, min_samples_split=4;, score=0.803 total time=   0.9s\n",
      "[CV 4/5] END criterion=squared_error, max_depth=6, min_samples_leaf=4, min_samples_split=4;, score=0.781 total time=   0.8s\n",
      "[CV 5/5] END criterion=squared_error, max_depth=6, min_samples_leaf=4, min_samples_split=4;, score=0.793 total time=   0.9s\n",
      "[CV 1/5] END criterion=squared_error, max_depth=6, min_samples_leaf=4, min_samples_split=6;, score=0.780 total time=   0.9s\n",
      "[CV 2/5] END criterion=squared_error, max_depth=6, min_samples_leaf=4, min_samples_split=6;, score=0.795 total time=   0.9s\n",
      "[CV 3/5] END criterion=squared_error, max_depth=6, min_samples_leaf=4, min_samples_split=6;, score=0.803 total time=   0.9s\n",
      "[CV 4/5] END criterion=squared_error, max_depth=6, min_samples_leaf=4, min_samples_split=6;, score=0.781 total time=   0.9s\n",
      "[CV 5/5] END criterion=squared_error, max_depth=6, min_samples_leaf=4, min_samples_split=6;, score=0.792 total time=   0.9s\n",
      "[CV 1/5] END criterion=squared_error, max_depth=6, min_samples_leaf=4, min_samples_split=8;, score=0.780 total time=   0.9s\n",
      "[CV 2/5] END criterion=squared_error, max_depth=6, min_samples_leaf=4, min_samples_split=8;, score=0.795 total time=   0.7s\n",
      "[CV 3/5] END criterion=squared_error, max_depth=6, min_samples_leaf=4, min_samples_split=8;, score=0.803 total time=   0.7s\n",
      "[CV 4/5] END criterion=squared_error, max_depth=6, min_samples_leaf=4, min_samples_split=8;, score=0.781 total time=   0.9s\n",
      "[CV 5/5] END criterion=squared_error, max_depth=6, min_samples_leaf=4, min_samples_split=8;, score=0.792 total time=   0.9s\n",
      "[CV 1/5] END criterion=squared_error, max_depth=6, min_samples_leaf=4, min_samples_split=10;, score=0.780 total time=   0.9s\n",
      "[CV 2/5] END criterion=squared_error, max_depth=6, min_samples_leaf=4, min_samples_split=10;, score=0.795 total time=   0.8s\n",
      "[CV 3/5] END criterion=squared_error, max_depth=6, min_samples_leaf=4, min_samples_split=10;, score=0.803 total time=   0.9s\n",
      "[CV 4/5] END criterion=squared_error, max_depth=6, min_samples_leaf=4, min_samples_split=10;, score=0.781 total time=   0.8s\n",
      "[CV 5/5] END criterion=squared_error, max_depth=6, min_samples_leaf=4, min_samples_split=10;, score=0.793 total time=   0.9s\n",
      "[CV 1/5] END criterion=squared_error, max_depth=6, min_samples_leaf=6, min_samples_split=2;, score=0.780 total time=   0.9s\n",
      "[CV 2/5] END criterion=squared_error, max_depth=6, min_samples_leaf=6, min_samples_split=2;, score=0.795 total time=   0.8s\n",
      "[CV 3/5] END criterion=squared_error, max_depth=6, min_samples_leaf=6, min_samples_split=2;, score=0.803 total time=   0.9s\n",
      "[CV 4/5] END criterion=squared_error, max_depth=6, min_samples_leaf=6, min_samples_split=2;, score=0.778 total time=   0.9s\n",
      "[CV 5/5] END criterion=squared_error, max_depth=6, min_samples_leaf=6, min_samples_split=2;, score=0.792 total time=   0.9s\n",
      "[CV 1/5] END criterion=squared_error, max_depth=6, min_samples_leaf=6, min_samples_split=4;, score=0.780 total time=   0.9s\n",
      "[CV 2/5] END criterion=squared_error, max_depth=6, min_samples_leaf=6, min_samples_split=4;, score=0.795 total time=   0.9s\n",
      "[CV 3/5] END criterion=squared_error, max_depth=6, min_samples_leaf=6, min_samples_split=4;, score=0.803 total time=   0.7s\n",
      "[CV 4/5] END criterion=squared_error, max_depth=6, min_samples_leaf=6, min_samples_split=4;, score=0.778 total time=   0.7s\n",
      "[CV 5/5] END criterion=squared_error, max_depth=6, min_samples_leaf=6, min_samples_split=4;, score=0.792 total time=   0.8s\n",
      "[CV 1/5] END criterion=squared_error, max_depth=6, min_samples_leaf=6, min_samples_split=6;, score=0.780 total time=   0.9s\n",
      "[CV 2/5] END criterion=squared_error, max_depth=6, min_samples_leaf=6, min_samples_split=6;, score=0.795 total time=   0.9s\n",
      "[CV 3/5] END criterion=squared_error, max_depth=6, min_samples_leaf=6, min_samples_split=6;, score=0.803 total time=   0.9s\n",
      "[CV 4/5] END criterion=squared_error, max_depth=6, min_samples_leaf=6, min_samples_split=6;, score=0.778 total time=   0.9s\n",
      "[CV 5/5] END criterion=squared_error, max_depth=6, min_samples_leaf=6, min_samples_split=6;, score=0.793 total time=   0.9s\n",
      "[CV 1/5] END criterion=squared_error, max_depth=6, min_samples_leaf=6, min_samples_split=8;, score=0.780 total time=   0.9s\n",
      "[CV 2/5] END criterion=squared_error, max_depth=6, min_samples_leaf=6, min_samples_split=8;, score=0.795 total time=   0.9s\n",
      "[CV 3/5] END criterion=squared_error, max_depth=6, min_samples_leaf=6, min_samples_split=8;, score=0.803 total time=   0.9s\n",
      "[CV 4/5] END criterion=squared_error, max_depth=6, min_samples_leaf=6, min_samples_split=8;, score=0.778 total time=   0.9s\n",
      "[CV 5/5] END criterion=squared_error, max_depth=6, min_samples_leaf=6, min_samples_split=8;, score=0.793 total time=   0.9s\n",
      "[CV 1/5] END criterion=squared_error, max_depth=6, min_samples_leaf=6, min_samples_split=10;, score=0.780 total time=   0.9s\n"
     ]
    },
    {
     "name": "stdout",
     "output_type": "stream",
     "text": [
      "[CV 2/5] END criterion=squared_error, max_depth=6, min_samples_leaf=6, min_samples_split=10;, score=0.795 total time=   0.8s\n",
      "[CV 3/5] END criterion=squared_error, max_depth=6, min_samples_leaf=6, min_samples_split=10;, score=0.803 total time=   0.9s\n",
      "[CV 4/5] END criterion=squared_error, max_depth=6, min_samples_leaf=6, min_samples_split=10;, score=0.778 total time=   0.9s\n",
      "[CV 5/5] END criterion=squared_error, max_depth=6, min_samples_leaf=6, min_samples_split=10;, score=0.793 total time=   0.6s\n",
      "[CV 1/5] END criterion=squared_error, max_depth=6, min_samples_leaf=8, min_samples_split=2;, score=0.782 total time=   0.7s\n",
      "[CV 2/5] END criterion=squared_error, max_depth=6, min_samples_leaf=8, min_samples_split=2;, score=0.793 total time=   0.8s\n",
      "[CV 3/5] END criterion=squared_error, max_depth=6, min_samples_leaf=8, min_samples_split=2;, score=0.803 total time=   0.9s\n",
      "[CV 4/5] END criterion=squared_error, max_depth=6, min_samples_leaf=8, min_samples_split=2;, score=0.780 total time=   0.9s\n",
      "[CV 5/5] END criterion=squared_error, max_depth=6, min_samples_leaf=8, min_samples_split=2;, score=0.795 total time=   0.9s\n",
      "[CV 1/5] END criterion=squared_error, max_depth=6, min_samples_leaf=8, min_samples_split=4;, score=0.782 total time=   0.9s\n",
      "[CV 2/5] END criterion=squared_error, max_depth=6, min_samples_leaf=8, min_samples_split=4;, score=0.793 total time=   0.9s\n",
      "[CV 3/5] END criterion=squared_error, max_depth=6, min_samples_leaf=8, min_samples_split=4;, score=0.803 total time=   0.9s\n",
      "[CV 4/5] END criterion=squared_error, max_depth=6, min_samples_leaf=8, min_samples_split=4;, score=0.780 total time=   0.9s\n",
      "[CV 5/5] END criterion=squared_error, max_depth=6, min_samples_leaf=8, min_samples_split=4;, score=0.795 total time=   0.9s\n",
      "[CV 1/5] END criterion=squared_error, max_depth=6, min_samples_leaf=8, min_samples_split=6;, score=0.782 total time=   0.8s\n",
      "[CV 2/5] END criterion=squared_error, max_depth=6, min_samples_leaf=8, min_samples_split=6;, score=0.793 total time=   0.9s\n",
      "[CV 3/5] END criterion=squared_error, max_depth=6, min_samples_leaf=8, min_samples_split=6;, score=0.803 total time=   0.9s\n",
      "[CV 4/5] END criterion=squared_error, max_depth=6, min_samples_leaf=8, min_samples_split=6;, score=0.780 total time=   0.9s\n",
      "[CV 5/5] END criterion=squared_error, max_depth=6, min_samples_leaf=8, min_samples_split=6;, score=0.795 total time=   0.9s\n",
      "[CV 1/5] END criterion=squared_error, max_depth=6, min_samples_leaf=8, min_samples_split=8;, score=0.782 total time=   0.8s\n",
      "[CV 2/5] END criterion=squared_error, max_depth=6, min_samples_leaf=8, min_samples_split=8;, score=0.793 total time=   0.7s\n",
      "[CV 3/5] END criterion=squared_error, max_depth=6, min_samples_leaf=8, min_samples_split=8;, score=0.803 total time=   0.7s\n",
      "[CV 4/5] END criterion=squared_error, max_depth=6, min_samples_leaf=8, min_samples_split=8;, score=0.780 total time=   0.8s\n",
      "[CV 5/5] END criterion=squared_error, max_depth=6, min_samples_leaf=8, min_samples_split=8;, score=0.795 total time=   0.9s\n",
      "[CV 1/5] END criterion=squared_error, max_depth=6, min_samples_leaf=8, min_samples_split=10;, score=0.782 total time=   0.8s\n",
      "[CV 2/5] END criterion=squared_error, max_depth=6, min_samples_leaf=8, min_samples_split=10;, score=0.793 total time=   0.8s\n",
      "[CV 3/5] END criterion=squared_error, max_depth=6, min_samples_leaf=8, min_samples_split=10;, score=0.803 total time=   0.8s\n",
      "[CV 4/5] END criterion=squared_error, max_depth=6, min_samples_leaf=8, min_samples_split=10;, score=0.780 total time=   0.9s\n",
      "[CV 5/5] END criterion=squared_error, max_depth=6, min_samples_leaf=8, min_samples_split=10;, score=0.795 total time=   0.9s\n",
      "[CV 1/5] END criterion=squared_error, max_depth=6, min_samples_leaf=10, min_samples_split=2;, score=0.780 total time=   0.9s\n",
      "[CV 2/5] END criterion=squared_error, max_depth=6, min_samples_leaf=10, min_samples_split=2;, score=0.794 total time=   0.9s\n",
      "[CV 3/5] END criterion=squared_error, max_depth=6, min_samples_leaf=10, min_samples_split=2;, score=0.802 total time=   0.8s\n",
      "[CV 4/5] END criterion=squared_error, max_depth=6, min_samples_leaf=10, min_samples_split=2;, score=0.780 total time=   0.9s\n",
      "[CV 5/5] END criterion=squared_error, max_depth=6, min_samples_leaf=10, min_samples_split=2;, score=0.795 total time=   0.9s\n",
      "[CV 1/5] END criterion=squared_error, max_depth=6, min_samples_leaf=10, min_samples_split=4;, score=0.780 total time=   0.9s\n",
      "[CV 2/5] END criterion=squared_error, max_depth=6, min_samples_leaf=10, min_samples_split=4;, score=0.794 total time=   0.9s\n",
      "[CV 3/5] END criterion=squared_error, max_depth=6, min_samples_leaf=10, min_samples_split=4;, score=0.802 total time=   0.8s\n",
      "[CV 4/5] END criterion=squared_error, max_depth=6, min_samples_leaf=10, min_samples_split=4;, score=0.780 total time=   0.7s\n",
      "[CV 5/5] END criterion=squared_error, max_depth=6, min_samples_leaf=10, min_samples_split=4;, score=0.795 total time=   0.7s\n",
      "[CV 1/5] END criterion=squared_error, max_depth=6, min_samples_leaf=10, min_samples_split=6;, score=0.780 total time=   0.9s\n",
      "[CV 2/5] END criterion=squared_error, max_depth=6, min_samples_leaf=10, min_samples_split=6;, score=0.794 total time=   0.8s\n",
      "[CV 3/5] END criterion=squared_error, max_depth=6, min_samples_leaf=10, min_samples_split=6;, score=0.802 total time=   0.7s\n",
      "[CV 4/5] END criterion=squared_error, max_depth=6, min_samples_leaf=10, min_samples_split=6;, score=0.780 total time=   0.7s\n",
      "[CV 5/5] END criterion=squared_error, max_depth=6, min_samples_leaf=10, min_samples_split=6;, score=0.795 total time=   0.7s\n",
      "[CV 1/5] END criterion=squared_error, max_depth=6, min_samples_leaf=10, min_samples_split=8;, score=0.780 total time=   0.7s\n",
      "[CV 2/5] END criterion=squared_error, max_depth=6, min_samples_leaf=10, min_samples_split=8;, score=0.794 total time=   0.6s\n",
      "[CV 3/5] END criterion=squared_error, max_depth=6, min_samples_leaf=10, min_samples_split=8;, score=0.802 total time=   0.5s\n",
      "[CV 4/5] END criterion=squared_error, max_depth=6, min_samples_leaf=10, min_samples_split=8;, score=0.780 total time=   0.5s\n",
      "[CV 5/5] END criterion=squared_error, max_depth=6, min_samples_leaf=10, min_samples_split=8;, score=0.795 total time=   0.5s\n",
      "[CV 1/5] END criterion=squared_error, max_depth=6, min_samples_leaf=10, min_samples_split=10;, score=0.780 total time=   0.6s\n",
      "[CV 2/5] END criterion=squared_error, max_depth=6, min_samples_leaf=10, min_samples_split=10;, score=0.794 total time=   0.5s\n",
      "[CV 3/5] END criterion=squared_error, max_depth=6, min_samples_leaf=10, min_samples_split=10;, score=0.802 total time=   0.6s\n",
      "[CV 4/5] END criterion=squared_error, max_depth=6, min_samples_leaf=10, min_samples_split=10;, score=0.780 total time=   0.5s\n",
      "[CV 5/5] END criterion=squared_error, max_depth=6, min_samples_leaf=10, min_samples_split=10;, score=0.795 total time=   0.5s\n",
      "[CV 1/5] END criterion=squared_error, max_depth=8, min_samples_leaf=1, min_samples_split=2;, score=0.824 total time=   0.9s\n",
      "[CV 2/5] END criterion=squared_error, max_depth=8, min_samples_leaf=1, min_samples_split=2;, score=0.832 total time=   0.9s\n",
      "[CV 3/5] END criterion=squared_error, max_depth=8, min_samples_leaf=1, min_samples_split=2;, score=0.835 total time=   1.2s\n",
      "[CV 4/5] END criterion=squared_error, max_depth=8, min_samples_leaf=1, min_samples_split=2;, score=0.833 total time=   0.7s\n",
      "[CV 5/5] END criterion=squared_error, max_depth=8, min_samples_leaf=1, min_samples_split=2;, score=0.830 total time=   1.0s\n",
      "[CV 1/5] END criterion=squared_error, max_depth=8, min_samples_leaf=1, min_samples_split=4;, score=0.822 total time=   1.3s\n",
      "[CV 2/5] END criterion=squared_error, max_depth=8, min_samples_leaf=1, min_samples_split=4;, score=0.836 total time=   1.3s\n",
      "[CV 3/5] END criterion=squared_error, max_depth=8, min_samples_leaf=1, min_samples_split=4;, score=0.836 total time=   1.3s\n",
      "[CV 4/5] END criterion=squared_error, max_depth=8, min_samples_leaf=1, min_samples_split=4;, score=0.834 total time=   1.3s\n",
      "[CV 5/5] END criterion=squared_error, max_depth=8, min_samples_leaf=1, min_samples_split=4;, score=0.832 total time=   1.3s\n",
      "[CV 1/5] END criterion=squared_error, max_depth=8, min_samples_leaf=1, min_samples_split=6;, score=0.822 total time=   1.3s\n",
      "[CV 2/5] END criterion=squared_error, max_depth=8, min_samples_leaf=1, min_samples_split=6;, score=0.836 total time=   1.3s\n"
     ]
    },
    {
     "name": "stdout",
     "output_type": "stream",
     "text": [
      "[CV 3/5] END criterion=squared_error, max_depth=8, min_samples_leaf=1, min_samples_split=6;, score=0.835 total time=   1.3s\n",
      "[CV 4/5] END criterion=squared_error, max_depth=8, min_samples_leaf=1, min_samples_split=6;, score=0.835 total time=   1.4s\n",
      "[CV 5/5] END criterion=squared_error, max_depth=8, min_samples_leaf=1, min_samples_split=6;, score=0.831 total time=   1.2s\n",
      "[CV 1/5] END criterion=squared_error, max_depth=8, min_samples_leaf=1, min_samples_split=8;, score=0.824 total time=   1.2s\n",
      "[CV 2/5] END criterion=squared_error, max_depth=8, min_samples_leaf=1, min_samples_split=8;, score=0.836 total time=   1.2s\n",
      "[CV 3/5] END criterion=squared_error, max_depth=8, min_samples_leaf=1, min_samples_split=8;, score=0.835 total time=   1.3s\n",
      "[CV 4/5] END criterion=squared_error, max_depth=8, min_samples_leaf=1, min_samples_split=8;, score=0.835 total time=   1.3s\n",
      "[CV 5/5] END criterion=squared_error, max_depth=8, min_samples_leaf=1, min_samples_split=8;, score=0.832 total time=   1.3s\n",
      "[CV 1/5] END criterion=squared_error, max_depth=8, min_samples_leaf=1, min_samples_split=10;, score=0.822 total time=   1.3s\n",
      "[CV 2/5] END criterion=squared_error, max_depth=8, min_samples_leaf=1, min_samples_split=10;, score=0.835 total time=   1.3s\n",
      "[CV 3/5] END criterion=squared_error, max_depth=8, min_samples_leaf=1, min_samples_split=10;, score=0.836 total time=   1.3s\n",
      "[CV 4/5] END criterion=squared_error, max_depth=8, min_samples_leaf=1, min_samples_split=10;, score=0.834 total time=   1.3s\n",
      "[CV 5/5] END criterion=squared_error, max_depth=8, min_samples_leaf=1, min_samples_split=10;, score=0.830 total time=   1.3s\n",
      "[CV 1/5] END criterion=squared_error, max_depth=8, min_samples_leaf=2, min_samples_split=2;, score=0.822 total time=   1.3s\n",
      "[CV 2/5] END criterion=squared_error, max_depth=8, min_samples_leaf=2, min_samples_split=2;, score=0.836 total time=   1.2s\n",
      "[CV 3/5] END criterion=squared_error, max_depth=8, min_samples_leaf=2, min_samples_split=2;, score=0.836 total time=   1.1s\n",
      "[CV 4/5] END criterion=squared_error, max_depth=8, min_samples_leaf=2, min_samples_split=2;, score=0.835 total time=   1.2s\n",
      "[CV 5/5] END criterion=squared_error, max_depth=8, min_samples_leaf=2, min_samples_split=2;, score=0.832 total time=   1.3s\n",
      "[CV 1/5] END criterion=squared_error, max_depth=8, min_samples_leaf=2, min_samples_split=4;, score=0.822 total time=   1.2s\n",
      "[CV 2/5] END criterion=squared_error, max_depth=8, min_samples_leaf=2, min_samples_split=4;, score=0.836 total time=   1.3s\n",
      "[CV 3/5] END criterion=squared_error, max_depth=8, min_samples_leaf=2, min_samples_split=4;, score=0.836 total time=   1.3s\n",
      "[CV 4/5] END criterion=squared_error, max_depth=8, min_samples_leaf=2, min_samples_split=4;, score=0.835 total time=   1.3s\n",
      "[CV 5/5] END criterion=squared_error, max_depth=8, min_samples_leaf=2, min_samples_split=4;, score=0.831 total time=   1.3s\n",
      "[CV 1/5] END criterion=squared_error, max_depth=8, min_samples_leaf=2, min_samples_split=6;, score=0.822 total time=   1.3s\n",
      "[CV 2/5] END criterion=squared_error, max_depth=8, min_samples_leaf=2, min_samples_split=6;, score=0.835 total time=   1.3s\n",
      "[CV 3/5] END criterion=squared_error, max_depth=8, min_samples_leaf=2, min_samples_split=6;, score=0.836 total time=   1.4s\n",
      "[CV 4/5] END criterion=squared_error, max_depth=8, min_samples_leaf=2, min_samples_split=6;, score=0.835 total time=   1.1s\n",
      "[CV 5/5] END criterion=squared_error, max_depth=8, min_samples_leaf=2, min_samples_split=6;, score=0.832 total time=   1.1s\n",
      "[CV 1/5] END criterion=squared_error, max_depth=8, min_samples_leaf=2, min_samples_split=8;, score=0.824 total time=   1.2s\n",
      "[CV 2/5] END criterion=squared_error, max_depth=8, min_samples_leaf=2, min_samples_split=8;, score=0.835 total time=   1.3s\n",
      "[CV 3/5] END criterion=squared_error, max_depth=8, min_samples_leaf=2, min_samples_split=8;, score=0.836 total time=   1.3s\n",
      "[CV 4/5] END criterion=squared_error, max_depth=8, min_samples_leaf=2, min_samples_split=8;, score=0.835 total time=   1.3s\n",
      "[CV 5/5] END criterion=squared_error, max_depth=8, min_samples_leaf=2, min_samples_split=8;, score=0.832 total time=   1.3s\n",
      "[CV 1/5] END criterion=squared_error, max_depth=8, min_samples_leaf=2, min_samples_split=10;, score=0.824 total time=   1.3s\n",
      "[CV 2/5] END criterion=squared_error, max_depth=8, min_samples_leaf=2, min_samples_split=10;, score=0.836 total time=   1.2s\n",
      "[CV 3/5] END criterion=squared_error, max_depth=8, min_samples_leaf=2, min_samples_split=10;, score=0.837 total time=   1.3s\n",
      "[CV 4/5] END criterion=squared_error, max_depth=8, min_samples_leaf=2, min_samples_split=10;, score=0.835 total time=   1.2s\n",
      "[CV 5/5] END criterion=squared_error, max_depth=8, min_samples_leaf=2, min_samples_split=10;, score=0.830 total time=   1.5s\n",
      "[CV 1/5] END criterion=squared_error, max_depth=8, min_samples_leaf=4, min_samples_split=2;, score=0.824 total time=   1.2s\n",
      "[CV 2/5] END criterion=squared_error, max_depth=8, min_samples_leaf=4, min_samples_split=2;, score=0.835 total time=   0.9s\n",
      "[CV 3/5] END criterion=squared_error, max_depth=8, min_samples_leaf=4, min_samples_split=2;, score=0.835 total time=   1.1s\n",
      "[CV 4/5] END criterion=squared_error, max_depth=8, min_samples_leaf=4, min_samples_split=2;, score=0.836 total time=   1.3s\n",
      "[CV 5/5] END criterion=squared_error, max_depth=8, min_samples_leaf=4, min_samples_split=2;, score=0.834 total time=   1.3s\n",
      "[CV 1/5] END criterion=squared_error, max_depth=8, min_samples_leaf=4, min_samples_split=4;, score=0.824 total time=   1.3s\n",
      "[CV 2/5] END criterion=squared_error, max_depth=8, min_samples_leaf=4, min_samples_split=4;, score=0.835 total time=   1.3s\n",
      "[CV 3/5] END criterion=squared_error, max_depth=8, min_samples_leaf=4, min_samples_split=4;, score=0.835 total time=   1.3s\n",
      "[CV 4/5] END criterion=squared_error, max_depth=8, min_samples_leaf=4, min_samples_split=4;, score=0.836 total time=   1.2s\n",
      "[CV 5/5] END criterion=squared_error, max_depth=8, min_samples_leaf=4, min_samples_split=4;, score=0.835 total time=   1.3s\n",
      "[CV 1/5] END criterion=squared_error, max_depth=8, min_samples_leaf=4, min_samples_split=6;, score=0.824 total time=   1.3s\n",
      "[CV 2/5] END criterion=squared_error, max_depth=8, min_samples_leaf=4, min_samples_split=6;, score=0.835 total time=   1.3s\n",
      "[CV 3/5] END criterion=squared_error, max_depth=8, min_samples_leaf=4, min_samples_split=6;, score=0.835 total time=   1.2s\n",
      "[CV 4/5] END criterion=squared_error, max_depth=8, min_samples_leaf=4, min_samples_split=6;, score=0.836 total time=   1.2s\n",
      "[CV 5/5] END criterion=squared_error, max_depth=8, min_samples_leaf=4, min_samples_split=6;, score=0.835 total time=   1.3s\n",
      "[CV 1/5] END criterion=squared_error, max_depth=8, min_samples_leaf=4, min_samples_split=8;, score=0.824 total time=   1.3s\n",
      "[CV 2/5] END criterion=squared_error, max_depth=8, min_samples_leaf=4, min_samples_split=8;, score=0.835 total time=   1.2s\n",
      "[CV 3/5] END criterion=squared_error, max_depth=8, min_samples_leaf=4, min_samples_split=8;, score=0.835 total time=   1.3s\n",
      "[CV 4/5] END criterion=squared_error, max_depth=8, min_samples_leaf=4, min_samples_split=8;, score=0.836 total time=   1.2s\n",
      "[CV 5/5] END criterion=squared_error, max_depth=8, min_samples_leaf=4, min_samples_split=8;, score=0.835 total time=   1.2s\n",
      "[CV 1/5] END criterion=squared_error, max_depth=8, min_samples_leaf=4, min_samples_split=10;, score=0.825 total time=   1.2s\n",
      "[CV 2/5] END criterion=squared_error, max_depth=8, min_samples_leaf=4, min_samples_split=10;, score=0.835 total time=   1.3s\n",
      "[CV 3/5] END criterion=squared_error, max_depth=8, min_samples_leaf=4, min_samples_split=10;, score=0.835 total time=   1.2s\n",
      "[CV 4/5] END criterion=squared_error, max_depth=8, min_samples_leaf=4, min_samples_split=10;, score=0.836 total time=   1.3s\n",
      "[CV 5/5] END criterion=squared_error, max_depth=8, min_samples_leaf=4, min_samples_split=10;, score=0.833 total time=   1.0s\n",
      "[CV 1/5] END criterion=squared_error, max_depth=8, min_samples_leaf=6, min_samples_split=2;, score=0.827 total time=   1.1s\n",
      "[CV 2/5] END criterion=squared_error, max_depth=8, min_samples_leaf=6, min_samples_split=2;, score=0.836 total time=   1.3s\n",
      "[CV 3/5] END criterion=squared_error, max_depth=8, min_samples_leaf=6, min_samples_split=2;, score=0.833 total time=   1.3s\n"
     ]
    },
    {
     "name": "stdout",
     "output_type": "stream",
     "text": [
      "[CV 4/5] END criterion=squared_error, max_depth=8, min_samples_leaf=6, min_samples_split=2;, score=0.833 total time=   1.3s\n",
      "[CV 5/5] END criterion=squared_error, max_depth=8, min_samples_leaf=6, min_samples_split=2;, score=0.832 total time=   1.3s\n",
      "[CV 1/5] END criterion=squared_error, max_depth=8, min_samples_leaf=6, min_samples_split=4;, score=0.827 total time=   1.3s\n",
      "[CV 2/5] END criterion=squared_error, max_depth=8, min_samples_leaf=6, min_samples_split=4;, score=0.836 total time=   1.3s\n",
      "[CV 3/5] END criterion=squared_error, max_depth=8, min_samples_leaf=6, min_samples_split=4;, score=0.833 total time=   1.3s\n",
      "[CV 4/5] END criterion=squared_error, max_depth=8, min_samples_leaf=6, min_samples_split=4;, score=0.833 total time=   1.2s\n",
      "[CV 5/5] END criterion=squared_error, max_depth=8, min_samples_leaf=6, min_samples_split=4;, score=0.831 total time=   1.3s\n",
      "[CV 1/5] END criterion=squared_error, max_depth=8, min_samples_leaf=6, min_samples_split=6;, score=0.827 total time=   1.3s\n",
      "[CV 2/5] END criterion=squared_error, max_depth=8, min_samples_leaf=6, min_samples_split=6;, score=0.836 total time=   1.1s\n",
      "[CV 3/5] END criterion=squared_error, max_depth=8, min_samples_leaf=6, min_samples_split=6;, score=0.833 total time=   1.2s\n",
      "[CV 4/5] END criterion=squared_error, max_depth=8, min_samples_leaf=6, min_samples_split=6;, score=0.833 total time=   1.3s\n",
      "[CV 5/5] END criterion=squared_error, max_depth=8, min_samples_leaf=6, min_samples_split=6;, score=0.831 total time=   1.3s\n",
      "[CV 1/5] END criterion=squared_error, max_depth=8, min_samples_leaf=6, min_samples_split=8;, score=0.827 total time=   1.3s\n",
      "[CV 2/5] END criterion=squared_error, max_depth=8, min_samples_leaf=6, min_samples_split=8;, score=0.836 total time=   1.3s\n",
      "[CV 3/5] END criterion=squared_error, max_depth=8, min_samples_leaf=6, min_samples_split=8;, score=0.833 total time=   1.2s\n",
      "[CV 4/5] END criterion=squared_error, max_depth=8, min_samples_leaf=6, min_samples_split=8;, score=0.833 total time=   1.2s\n",
      "[CV 5/5] END criterion=squared_error, max_depth=8, min_samples_leaf=6, min_samples_split=8;, score=0.831 total time=   1.2s\n",
      "[CV 1/5] END criterion=squared_error, max_depth=8, min_samples_leaf=6, min_samples_split=10;, score=0.827 total time=   1.2s\n",
      "[CV 2/5] END criterion=squared_error, max_depth=8, min_samples_leaf=6, min_samples_split=10;, score=0.836 total time=   1.2s\n",
      "[CV 3/5] END criterion=squared_error, max_depth=8, min_samples_leaf=6, min_samples_split=10;, score=0.833 total time=   1.3s\n",
      "[CV 4/5] END criterion=squared_error, max_depth=8, min_samples_leaf=6, min_samples_split=10;, score=0.833 total time=   1.0s\n",
      "[CV 5/5] END criterion=squared_error, max_depth=8, min_samples_leaf=6, min_samples_split=10;, score=0.831 total time=   1.2s\n",
      "[CV 1/5] END criterion=squared_error, max_depth=8, min_samples_leaf=8, min_samples_split=2;, score=0.825 total time=   1.2s\n",
      "[CV 2/5] END criterion=squared_error, max_depth=8, min_samples_leaf=8, min_samples_split=2;, score=0.834 total time=   1.3s\n",
      "[CV 3/5] END criterion=squared_error, max_depth=8, min_samples_leaf=8, min_samples_split=2;, score=0.831 total time=   1.3s\n",
      "[CV 4/5] END criterion=squared_error, max_depth=8, min_samples_leaf=8, min_samples_split=2;, score=0.836 total time=   1.2s\n",
      "[CV 5/5] END criterion=squared_error, max_depth=8, min_samples_leaf=8, min_samples_split=2;, score=0.832 total time=   1.3s\n",
      "[CV 1/5] END criterion=squared_error, max_depth=8, min_samples_leaf=8, min_samples_split=4;, score=0.825 total time=   1.2s\n",
      "[CV 2/5] END criterion=squared_error, max_depth=8, min_samples_leaf=8, min_samples_split=4;, score=0.833 total time=   1.3s\n",
      "[CV 3/5] END criterion=squared_error, max_depth=8, min_samples_leaf=8, min_samples_split=4;, score=0.831 total time=   1.3s\n",
      "[CV 4/5] END criterion=squared_error, max_depth=8, min_samples_leaf=8, min_samples_split=4;, score=0.836 total time=   1.3s\n",
      "[CV 5/5] END criterion=squared_error, max_depth=8, min_samples_leaf=8, min_samples_split=4;, score=0.832 total time=   1.3s\n",
      "[CV 1/5] END criterion=squared_error, max_depth=8, min_samples_leaf=8, min_samples_split=6;, score=0.825 total time=   1.1s\n",
      "[CV 2/5] END criterion=squared_error, max_depth=8, min_samples_leaf=8, min_samples_split=6;, score=0.834 total time=   1.2s\n",
      "[CV 3/5] END criterion=squared_error, max_depth=8, min_samples_leaf=8, min_samples_split=6;, score=0.831 total time=   1.2s\n",
      "[CV 4/5] END criterion=squared_error, max_depth=8, min_samples_leaf=8, min_samples_split=6;, score=0.836 total time=   1.2s\n",
      "[CV 5/5] END criterion=squared_error, max_depth=8, min_samples_leaf=8, min_samples_split=6;, score=0.832 total time=   1.2s\n",
      "[CV 1/5] END criterion=squared_error, max_depth=8, min_samples_leaf=8, min_samples_split=8;, score=0.825 total time=   1.3s\n",
      "[CV 2/5] END criterion=squared_error, max_depth=8, min_samples_leaf=8, min_samples_split=8;, score=0.834 total time=   1.2s\n",
      "[CV 3/5] END criterion=squared_error, max_depth=8, min_samples_leaf=8, min_samples_split=8;, score=0.831 total time=   1.3s\n",
      "[CV 4/5] END criterion=squared_error, max_depth=8, min_samples_leaf=8, min_samples_split=8;, score=0.836 total time=   1.2s\n",
      "[CV 5/5] END criterion=squared_error, max_depth=8, min_samples_leaf=8, min_samples_split=8;, score=0.832 total time=   1.3s\n",
      "[CV 1/5] END criterion=squared_error, max_depth=8, min_samples_leaf=8, min_samples_split=10;, score=0.825 total time=   1.3s\n",
      "[CV 2/5] END criterion=squared_error, max_depth=8, min_samples_leaf=8, min_samples_split=10;, score=0.834 total time=   1.2s\n",
      "[CV 3/5] END criterion=squared_error, max_depth=8, min_samples_leaf=8, min_samples_split=10;, score=0.831 total time=   1.1s\n",
      "[CV 4/5] END criterion=squared_error, max_depth=8, min_samples_leaf=8, min_samples_split=10;, score=0.836 total time=   1.2s\n",
      "[CV 5/5] END criterion=squared_error, max_depth=8, min_samples_leaf=8, min_samples_split=10;, score=0.832 total time=   1.3s\n",
      "[CV 1/5] END criterion=squared_error, max_depth=8, min_samples_leaf=10, min_samples_split=2;, score=0.818 total time=   1.3s\n",
      "[CV 2/5] END criterion=squared_error, max_depth=8, min_samples_leaf=10, min_samples_split=2;, score=0.833 total time=   1.3s\n",
      "[CV 3/5] END criterion=squared_error, max_depth=8, min_samples_leaf=10, min_samples_split=2;, score=0.831 total time=   1.3s\n",
      "[CV 4/5] END criterion=squared_error, max_depth=8, min_samples_leaf=10, min_samples_split=2;, score=0.835 total time=   1.3s\n",
      "[CV 5/5] END criterion=squared_error, max_depth=8, min_samples_leaf=10, min_samples_split=2;, score=0.828 total time=   1.2s\n",
      "[CV 1/5] END criterion=squared_error, max_depth=8, min_samples_leaf=10, min_samples_split=4;, score=0.818 total time=   1.3s\n",
      "[CV 2/5] END criterion=squared_error, max_depth=8, min_samples_leaf=10, min_samples_split=4;, score=0.833 total time=   1.2s\n",
      "[CV 3/5] END criterion=squared_error, max_depth=8, min_samples_leaf=10, min_samples_split=4;, score=0.831 total time=   1.2s\n",
      "[CV 4/5] END criterion=squared_error, max_depth=8, min_samples_leaf=10, min_samples_split=4;, score=0.835 total time=   1.2s\n",
      "[CV 5/5] END criterion=squared_error, max_depth=8, min_samples_leaf=10, min_samples_split=4;, score=0.828 total time=   1.2s\n",
      "[CV 1/5] END criterion=squared_error, max_depth=8, min_samples_leaf=10, min_samples_split=6;, score=0.818 total time=   1.3s\n",
      "[CV 2/5] END criterion=squared_error, max_depth=8, min_samples_leaf=10, min_samples_split=6;, score=0.833 total time=   1.2s\n",
      "[CV 3/5] END criterion=squared_error, max_depth=8, min_samples_leaf=10, min_samples_split=6;, score=0.831 total time=   1.2s\n",
      "[CV 4/5] END criterion=squared_error, max_depth=8, min_samples_leaf=10, min_samples_split=6;, score=0.835 total time=   1.2s\n",
      "[CV 5/5] END criterion=squared_error, max_depth=8, min_samples_leaf=10, min_samples_split=6;, score=0.828 total time=   1.2s\n",
      "[CV 1/5] END criterion=squared_error, max_depth=8, min_samples_leaf=10, min_samples_split=8;, score=0.818 total time=   1.3s\n",
      "[CV 2/5] END criterion=squared_error, max_depth=8, min_samples_leaf=10, min_samples_split=8;, score=0.833 total time=   1.2s\n",
      "[CV 3/5] END criterion=squared_error, max_depth=8, min_samples_leaf=10, min_samples_split=8;, score=0.831 total time=   1.2s\n",
      "[CV 4/5] END criterion=squared_error, max_depth=8, min_samples_leaf=10, min_samples_split=8;, score=0.835 total time=   1.3s\n"
     ]
    },
    {
     "name": "stdout",
     "output_type": "stream",
     "text": [
      "[CV 5/5] END criterion=squared_error, max_depth=8, min_samples_leaf=10, min_samples_split=8;, score=0.828 total time=   1.3s\n",
      "[CV 1/5] END criterion=squared_error, max_depth=8, min_samples_leaf=10, min_samples_split=10;, score=0.818 total time=   1.1s\n",
      "[CV 2/5] END criterion=squared_error, max_depth=8, min_samples_leaf=10, min_samples_split=10;, score=0.833 total time=   1.1s\n",
      "[CV 3/5] END criterion=squared_error, max_depth=8, min_samples_leaf=10, min_samples_split=10;, score=0.831 total time=   1.3s\n",
      "[CV 4/5] END criterion=squared_error, max_depth=8, min_samples_leaf=10, min_samples_split=10;, score=0.835 total time=   1.2s\n",
      "[CV 5/5] END criterion=squared_error, max_depth=8, min_samples_leaf=10, min_samples_split=10;, score=0.828 total time=   1.2s\n",
      "[CV 1/5] END criterion=squared_error, max_depth=10, min_samples_leaf=1, min_samples_split=2;, score=0.837 total time=   1.7s\n",
      "[CV 2/5] END criterion=squared_error, max_depth=10, min_samples_leaf=1, min_samples_split=2;, score=0.847 total time=   1.7s\n",
      "[CV 3/5] END criterion=squared_error, max_depth=10, min_samples_leaf=1, min_samples_split=2;, score=0.851 total time=   1.7s\n",
      "[CV 4/5] END criterion=squared_error, max_depth=10, min_samples_leaf=1, min_samples_split=2;, score=0.839 total time=   1.7s\n",
      "[CV 5/5] END criterion=squared_error, max_depth=10, min_samples_leaf=1, min_samples_split=2;, score=0.845 total time=   1.7s\n",
      "[CV 1/5] END criterion=squared_error, max_depth=10, min_samples_leaf=1, min_samples_split=4;, score=0.833 total time=   1.7s\n",
      "[CV 2/5] END criterion=squared_error, max_depth=10, min_samples_leaf=1, min_samples_split=4;, score=0.849 total time=   1.5s\n",
      "[CV 3/5] END criterion=squared_error, max_depth=10, min_samples_leaf=1, min_samples_split=4;, score=0.849 total time=   1.7s\n",
      "[CV 4/5] END criterion=squared_error, max_depth=10, min_samples_leaf=1, min_samples_split=4;, score=0.839 total time=   1.7s\n",
      "[CV 5/5] END criterion=squared_error, max_depth=10, min_samples_leaf=1, min_samples_split=4;, score=0.847 total time=   1.7s\n",
      "[CV 1/5] END criterion=squared_error, max_depth=10, min_samples_leaf=1, min_samples_split=6;, score=0.832 total time=   1.7s\n",
      "[CV 2/5] END criterion=squared_error, max_depth=10, min_samples_leaf=1, min_samples_split=6;, score=0.839 total time=   1.7s\n",
      "[CV 3/5] END criterion=squared_error, max_depth=10, min_samples_leaf=1, min_samples_split=6;, score=0.841 total time=   1.7s\n",
      "[CV 4/5] END criterion=squared_error, max_depth=10, min_samples_leaf=1, min_samples_split=6;, score=0.838 total time=   1.7s\n",
      "[CV 5/5] END criterion=squared_error, max_depth=10, min_samples_leaf=1, min_samples_split=6;, score=0.846 total time=   1.6s\n",
      "[CV 1/5] END criterion=squared_error, max_depth=10, min_samples_leaf=1, min_samples_split=8;, score=0.833 total time=   1.7s\n",
      "[CV 2/5] END criterion=squared_error, max_depth=10, min_samples_leaf=1, min_samples_split=8;, score=0.847 total time=   1.7s\n",
      "[CV 3/5] END criterion=squared_error, max_depth=10, min_samples_leaf=1, min_samples_split=8;, score=0.842 total time=   1.7s\n",
      "[CV 4/5] END criterion=squared_error, max_depth=10, min_samples_leaf=1, min_samples_split=8;, score=0.840 total time=   1.7s\n",
      "[CV 5/5] END criterion=squared_error, max_depth=10, min_samples_leaf=1, min_samples_split=8;, score=0.847 total time=   1.7s\n",
      "[CV 1/5] END criterion=squared_error, max_depth=10, min_samples_leaf=1, min_samples_split=10;, score=0.833 total time=   1.7s\n",
      "[CV 2/5] END criterion=squared_error, max_depth=10, min_samples_leaf=1, min_samples_split=10;, score=0.848 total time=   1.7s\n",
      "[CV 3/5] END criterion=squared_error, max_depth=10, min_samples_leaf=1, min_samples_split=10;, score=0.846 total time=   1.7s\n",
      "[CV 4/5] END criterion=squared_error, max_depth=10, min_samples_leaf=1, min_samples_split=10;, score=0.837 total time=   1.7s\n",
      "[CV 5/5] END criterion=squared_error, max_depth=10, min_samples_leaf=1, min_samples_split=10;, score=0.843 total time=   1.5s\n",
      "[CV 1/5] END criterion=squared_error, max_depth=10, min_samples_leaf=2, min_samples_split=2;, score=0.829 total time=   1.7s\n",
      "[CV 2/5] END criterion=squared_error, max_depth=10, min_samples_leaf=2, min_samples_split=2;, score=0.847 total time=   1.7s\n",
      "[CV 3/5] END criterion=squared_error, max_depth=10, min_samples_leaf=2, min_samples_split=2;, score=0.847 total time=   1.7s\n",
      "[CV 4/5] END criterion=squared_error, max_depth=10, min_samples_leaf=2, min_samples_split=2;, score=0.833 total time=   1.7s\n",
      "[CV 5/5] END criterion=squared_error, max_depth=10, min_samples_leaf=2, min_samples_split=2;, score=0.851 total time=   1.7s\n",
      "[CV 1/5] END criterion=squared_error, max_depth=10, min_samples_leaf=2, min_samples_split=4;, score=0.834 total time=   1.7s\n",
      "[CV 2/5] END criterion=squared_error, max_depth=10, min_samples_leaf=2, min_samples_split=4;, score=0.849 total time=   1.7s\n",
      "[CV 3/5] END criterion=squared_error, max_depth=10, min_samples_leaf=2, min_samples_split=4;, score=0.847 total time=   1.6s\n",
      "[CV 4/5] END criterion=squared_error, max_depth=10, min_samples_leaf=2, min_samples_split=4;, score=0.839 total time=   1.6s\n",
      "[CV 5/5] END criterion=squared_error, max_depth=10, min_samples_leaf=2, min_samples_split=4;, score=0.848 total time=   1.7s\n",
      "[CV 1/5] END criterion=squared_error, max_depth=10, min_samples_leaf=2, min_samples_split=6;, score=0.830 total time=   1.7s\n",
      "[CV 2/5] END criterion=squared_error, max_depth=10, min_samples_leaf=2, min_samples_split=6;, score=0.849 total time=   1.7s\n",
      "[CV 3/5] END criterion=squared_error, max_depth=10, min_samples_leaf=2, min_samples_split=6;, score=0.842 total time=   1.7s\n",
      "[CV 4/5] END criterion=squared_error, max_depth=10, min_samples_leaf=2, min_samples_split=6;, score=0.839 total time=   1.7s\n",
      "[CV 5/5] END criterion=squared_error, max_depth=10, min_samples_leaf=2, min_samples_split=6;, score=0.848 total time=   1.7s\n",
      "[CV 1/5] END criterion=squared_error, max_depth=10, min_samples_leaf=2, min_samples_split=8;, score=0.830 total time=   1.7s\n",
      "[CV 2/5] END criterion=squared_error, max_depth=10, min_samples_leaf=2, min_samples_split=8;, score=0.850 total time=   1.7s\n",
      "[CV 3/5] END criterion=squared_error, max_depth=10, min_samples_leaf=2, min_samples_split=8;, score=0.845 total time=   1.6s\n",
      "[CV 4/5] END criterion=squared_error, max_depth=10, min_samples_leaf=2, min_samples_split=8;, score=0.834 total time=   1.7s\n",
      "[CV 5/5] END criterion=squared_error, max_depth=10, min_samples_leaf=2, min_samples_split=8;, score=0.848 total time=   1.8s\n",
      "[CV 1/5] END criterion=squared_error, max_depth=10, min_samples_leaf=2, min_samples_split=10;, score=0.832 total time=   2.1s\n",
      "[CV 2/5] END criterion=squared_error, max_depth=10, min_samples_leaf=2, min_samples_split=10;, score=0.850 total time=   1.7s\n",
      "[CV 3/5] END criterion=squared_error, max_depth=10, min_samples_leaf=2, min_samples_split=10;, score=0.846 total time=   1.7s\n",
      "[CV 4/5] END criterion=squared_error, max_depth=10, min_samples_leaf=2, min_samples_split=10;, score=0.840 total time=   1.7s\n",
      "[CV 5/5] END criterion=squared_error, max_depth=10, min_samples_leaf=2, min_samples_split=10;, score=0.845 total time=   1.7s\n",
      "[CV 1/5] END criterion=squared_error, max_depth=10, min_samples_leaf=4, min_samples_split=2;, score=0.834 total time=   1.6s\n",
      "[CV 2/5] END criterion=squared_error, max_depth=10, min_samples_leaf=4, min_samples_split=2;, score=0.851 total time=   1.7s\n",
      "[CV 3/5] END criterion=squared_error, max_depth=10, min_samples_leaf=4, min_samples_split=2;, score=0.845 total time=   1.7s\n",
      "[CV 4/5] END criterion=squared_error, max_depth=10, min_samples_leaf=4, min_samples_split=2;, score=0.840 total time=   1.7s\n",
      "[CV 5/5] END criterion=squared_error, max_depth=10, min_samples_leaf=4, min_samples_split=2;, score=0.849 total time=   1.7s\n",
      "[CV 1/5] END criterion=squared_error, max_depth=10, min_samples_leaf=4, min_samples_split=4;, score=0.835 total time=   1.7s\n",
      "[CV 2/5] END criterion=squared_error, max_depth=10, min_samples_leaf=4, min_samples_split=4;, score=0.851 total time=   1.7s\n",
      "[CV 3/5] END criterion=squared_error, max_depth=10, min_samples_leaf=4, min_samples_split=4;, score=0.845 total time=   1.7s\n",
      "[CV 4/5] END criterion=squared_error, max_depth=10, min_samples_leaf=4, min_samples_split=4;, score=0.843 total time=   1.7s\n",
      "[CV 5/5] END criterion=squared_error, max_depth=10, min_samples_leaf=4, min_samples_split=4;, score=0.848 total time=   1.5s\n"
     ]
    },
    {
     "name": "stdout",
     "output_type": "stream",
     "text": [
      "[CV 1/5] END criterion=squared_error, max_depth=10, min_samples_leaf=4, min_samples_split=6;, score=0.835 total time=   1.6s\n",
      "[CV 2/5] END criterion=squared_error, max_depth=10, min_samples_leaf=4, min_samples_split=6;, score=0.851 total time=   1.7s\n",
      "[CV 3/5] END criterion=squared_error, max_depth=10, min_samples_leaf=4, min_samples_split=6;, score=0.845 total time=   1.7s\n",
      "[CV 4/5] END criterion=squared_error, max_depth=10, min_samples_leaf=4, min_samples_split=6;, score=0.840 total time=   1.7s\n",
      "[CV 5/5] END criterion=squared_error, max_depth=10, min_samples_leaf=4, min_samples_split=6;, score=0.848 total time=   1.7s\n",
      "[CV 1/5] END criterion=squared_error, max_depth=10, min_samples_leaf=4, min_samples_split=8;, score=0.835 total time=   1.8s\n",
      "[CV 2/5] END criterion=squared_error, max_depth=10, min_samples_leaf=4, min_samples_split=8;, score=0.852 total time=   1.7s\n",
      "[CV 3/5] END criterion=squared_error, max_depth=10, min_samples_leaf=4, min_samples_split=8;, score=0.845 total time=   1.7s\n",
      "[CV 4/5] END criterion=squared_error, max_depth=10, min_samples_leaf=4, min_samples_split=8;, score=0.842 total time=   1.3s\n",
      "[CV 5/5] END criterion=squared_error, max_depth=10, min_samples_leaf=4, min_samples_split=8;, score=0.848 total time=   1.5s\n",
      "[CV 1/5] END criterion=squared_error, max_depth=10, min_samples_leaf=4, min_samples_split=10;, score=0.835 total time=   1.7s\n",
      "[CV 2/5] END criterion=squared_error, max_depth=10, min_samples_leaf=4, min_samples_split=10;, score=0.852 total time=   1.7s\n",
      "[CV 3/5] END criterion=squared_error, max_depth=10, min_samples_leaf=4, min_samples_split=10;, score=0.844 total time=   1.6s\n",
      "[CV 4/5] END criterion=squared_error, max_depth=10, min_samples_leaf=4, min_samples_split=10;, score=0.841 total time=   1.7s\n",
      "[CV 5/5] END criterion=squared_error, max_depth=10, min_samples_leaf=4, min_samples_split=10;, score=0.846 total time=   1.7s\n",
      "[CV 1/5] END criterion=squared_error, max_depth=10, min_samples_leaf=6, min_samples_split=2;, score=0.842 total time=   1.7s\n",
      "[CV 2/5] END criterion=squared_error, max_depth=10, min_samples_leaf=6, min_samples_split=2;, score=0.850 total time=   1.7s\n",
      "[CV 3/5] END criterion=squared_error, max_depth=10, min_samples_leaf=6, min_samples_split=2;, score=0.845 total time=   1.6s\n",
      "[CV 4/5] END criterion=squared_error, max_depth=10, min_samples_leaf=6, min_samples_split=2;, score=0.838 total time=   1.6s\n",
      "[CV 5/5] END criterion=squared_error, max_depth=10, min_samples_leaf=6, min_samples_split=2;, score=0.845 total time=   1.7s\n",
      "[CV 1/5] END criterion=squared_error, max_depth=10, min_samples_leaf=6, min_samples_split=4;, score=0.842 total time=   1.7s\n",
      "[CV 2/5] END criterion=squared_error, max_depth=10, min_samples_leaf=6, min_samples_split=4;, score=0.850 total time=   1.6s\n",
      "[CV 3/5] END criterion=squared_error, max_depth=10, min_samples_leaf=6, min_samples_split=4;, score=0.844 total time=   1.7s\n",
      "[CV 4/5] END criterion=squared_error, max_depth=10, min_samples_leaf=6, min_samples_split=4;, score=0.838 total time=   1.7s\n",
      "[CV 5/5] END criterion=squared_error, max_depth=10, min_samples_leaf=6, min_samples_split=4;, score=0.847 total time=   1.7s\n",
      "[CV 1/5] END criterion=squared_error, max_depth=10, min_samples_leaf=6, min_samples_split=6;, score=0.843 total time=   1.7s\n",
      "[CV 2/5] END criterion=squared_error, max_depth=10, min_samples_leaf=6, min_samples_split=6;, score=0.850 total time=   1.6s\n",
      "[CV 3/5] END criterion=squared_error, max_depth=10, min_samples_leaf=6, min_samples_split=6;, score=0.845 total time=   1.6s\n",
      "[CV 4/5] END criterion=squared_error, max_depth=10, min_samples_leaf=6, min_samples_split=6;, score=0.838 total time=   1.7s\n",
      "[CV 5/5] END criterion=squared_error, max_depth=10, min_samples_leaf=6, min_samples_split=6;, score=0.847 total time=   1.8s\n",
      "[CV 1/5] END criterion=squared_error, max_depth=10, min_samples_leaf=6, min_samples_split=8;, score=0.842 total time=   1.7s\n",
      "[CV 2/5] END criterion=squared_error, max_depth=10, min_samples_leaf=6, min_samples_split=8;, score=0.850 total time=   1.7s\n",
      "[CV 3/5] END criterion=squared_error, max_depth=10, min_samples_leaf=6, min_samples_split=8;, score=0.845 total time=   1.7s\n",
      "[CV 4/5] END criterion=squared_error, max_depth=10, min_samples_leaf=6, min_samples_split=8;, score=0.838 total time=   1.8s\n",
      "[CV 5/5] END criterion=squared_error, max_depth=10, min_samples_leaf=6, min_samples_split=8;, score=0.847 total time=   1.7s\n",
      "[CV 1/5] END criterion=squared_error, max_depth=10, min_samples_leaf=6, min_samples_split=10;, score=0.842 total time=   1.6s\n",
      "[CV 2/5] END criterion=squared_error, max_depth=10, min_samples_leaf=6, min_samples_split=10;, score=0.850 total time=   1.2s\n",
      "[CV 3/5] END criterion=squared_error, max_depth=10, min_samples_leaf=6, min_samples_split=10;, score=0.844 total time=   1.6s\n",
      "[CV 4/5] END criterion=squared_error, max_depth=10, min_samples_leaf=6, min_samples_split=10;, score=0.838 total time=   1.7s\n",
      "[CV 5/5] END criterion=squared_error, max_depth=10, min_samples_leaf=6, min_samples_split=10;, score=0.847 total time=   1.6s\n",
      "[CV 1/5] END criterion=squared_error, max_depth=10, min_samples_leaf=8, min_samples_split=2;, score=0.840 total time=   1.7s\n",
      "[CV 2/5] END criterion=squared_error, max_depth=10, min_samples_leaf=8, min_samples_split=2;, score=0.848 total time=   1.7s\n",
      "[CV 3/5] END criterion=squared_error, max_depth=10, min_samples_leaf=8, min_samples_split=2;, score=0.841 total time=   1.6s\n",
      "[CV 4/5] END criterion=squared_error, max_depth=10, min_samples_leaf=8, min_samples_split=2;, score=0.846 total time=   1.7s\n",
      "[CV 5/5] END criterion=squared_error, max_depth=10, min_samples_leaf=8, min_samples_split=2;, score=0.843 total time=   1.6s\n",
      "[CV 1/5] END criterion=squared_error, max_depth=10, min_samples_leaf=8, min_samples_split=4;, score=0.840 total time=   1.2s\n",
      "[CV 2/5] END criterion=squared_error, max_depth=10, min_samples_leaf=8, min_samples_split=4;, score=0.849 total time=   1.6s\n",
      "[CV 3/5] END criterion=squared_error, max_depth=10, min_samples_leaf=8, min_samples_split=4;, score=0.841 total time=   1.6s\n",
      "[CV 4/5] END criterion=squared_error, max_depth=10, min_samples_leaf=8, min_samples_split=4;, score=0.846 total time=   1.6s\n",
      "[CV 5/5] END criterion=squared_error, max_depth=10, min_samples_leaf=8, min_samples_split=4;, score=0.843 total time=   1.6s\n",
      "[CV 1/5] END criterion=squared_error, max_depth=10, min_samples_leaf=8, min_samples_split=6;, score=0.840 total time=   1.7s\n",
      "[CV 2/5] END criterion=squared_error, max_depth=10, min_samples_leaf=8, min_samples_split=6;, score=0.848 total time=   1.6s\n",
      "[CV 3/5] END criterion=squared_error, max_depth=10, min_samples_leaf=8, min_samples_split=6;, score=0.841 total time=   1.6s\n",
      "[CV 4/5] END criterion=squared_error, max_depth=10, min_samples_leaf=8, min_samples_split=6;, score=0.846 total time=   1.7s\n",
      "[CV 5/5] END criterion=squared_error, max_depth=10, min_samples_leaf=8, min_samples_split=6;, score=0.843 total time=   1.5s\n",
      "[CV 1/5] END criterion=squared_error, max_depth=10, min_samples_leaf=8, min_samples_split=8;, score=0.840 total time=   1.6s\n",
      "[CV 2/5] END criterion=squared_error, max_depth=10, min_samples_leaf=8, min_samples_split=8;, score=0.849 total time=   1.6s\n",
      "[CV 3/5] END criterion=squared_error, max_depth=10, min_samples_leaf=8, min_samples_split=8;, score=0.841 total time=   1.7s\n",
      "[CV 4/5] END criterion=squared_error, max_depth=10, min_samples_leaf=8, min_samples_split=8;, score=0.846 total time=   1.6s\n",
      "[CV 5/5] END criterion=squared_error, max_depth=10, min_samples_leaf=8, min_samples_split=8;, score=0.843 total time=   1.6s\n",
      "[CV 1/5] END criterion=squared_error, max_depth=10, min_samples_leaf=8, min_samples_split=10;, score=0.840 total time=   1.7s\n",
      "[CV 2/5] END criterion=squared_error, max_depth=10, min_samples_leaf=8, min_samples_split=10;, score=0.848 total time=   1.6s\n",
      "[CV 3/5] END criterion=squared_error, max_depth=10, min_samples_leaf=8, min_samples_split=10;, score=0.841 total time=   1.6s\n",
      "[CV 4/5] END criterion=squared_error, max_depth=10, min_samples_leaf=8, min_samples_split=10;, score=0.846 total time=   1.5s\n",
      "[CV 5/5] END criterion=squared_error, max_depth=10, min_samples_leaf=8, min_samples_split=10;, score=0.843 total time=   1.3s\n",
      "[CV 1/5] END criterion=squared_error, max_depth=10, min_samples_leaf=10, min_samples_split=2;, score=0.828 total time=   1.6s\n"
     ]
    },
    {
     "name": "stdout",
     "output_type": "stream",
     "text": [
      "[CV 2/5] END criterion=squared_error, max_depth=10, min_samples_leaf=10, min_samples_split=2;, score=0.845 total time=   1.6s\n",
      "[CV 3/5] END criterion=squared_error, max_depth=10, min_samples_leaf=10, min_samples_split=2;, score=0.838 total time=   1.7s\n",
      "[CV 4/5] END criterion=squared_error, max_depth=10, min_samples_leaf=10, min_samples_split=2;, score=0.846 total time=   1.7s\n",
      "[CV 5/5] END criterion=squared_error, max_depth=10, min_samples_leaf=10, min_samples_split=2;, score=0.843 total time=   1.7s\n",
      "[CV 1/5] END criterion=squared_error, max_depth=10, min_samples_leaf=10, min_samples_split=4;, score=0.828 total time=   1.6s\n",
      "[CV 2/5] END criterion=squared_error, max_depth=10, min_samples_leaf=10, min_samples_split=4;, score=0.845 total time=   1.6s\n",
      "[CV 3/5] END criterion=squared_error, max_depth=10, min_samples_leaf=10, min_samples_split=4;, score=0.838 total time=   1.6s\n",
      "[CV 4/5] END criterion=squared_error, max_depth=10, min_samples_leaf=10, min_samples_split=4;, score=0.846 total time=   1.4s\n",
      "[CV 5/5] END criterion=squared_error, max_depth=10, min_samples_leaf=10, min_samples_split=4;, score=0.843 total time=   1.6s\n",
      "[CV 1/5] END criterion=squared_error, max_depth=10, min_samples_leaf=10, min_samples_split=6;, score=0.828 total time=   1.7s\n",
      "[CV 2/5] END criterion=squared_error, max_depth=10, min_samples_leaf=10, min_samples_split=6;, score=0.845 total time=   1.7s\n",
      "[CV 3/5] END criterion=squared_error, max_depth=10, min_samples_leaf=10, min_samples_split=6;, score=0.838 total time=   1.7s\n",
      "[CV 4/5] END criterion=squared_error, max_depth=10, min_samples_leaf=10, min_samples_split=6;, score=0.846 total time=   1.7s\n",
      "[CV 5/5] END criterion=squared_error, max_depth=10, min_samples_leaf=10, min_samples_split=6;, score=0.843 total time=   1.7s\n",
      "[CV 1/5] END criterion=squared_error, max_depth=10, min_samples_leaf=10, min_samples_split=8;, score=0.828 total time=   1.7s\n",
      "[CV 2/5] END criterion=squared_error, max_depth=10, min_samples_leaf=10, min_samples_split=8;, score=0.845 total time=   1.7s\n",
      "[CV 3/5] END criterion=squared_error, max_depth=10, min_samples_leaf=10, min_samples_split=8;, score=0.838 total time=   1.4s\n",
      "[CV 4/5] END criterion=squared_error, max_depth=10, min_samples_leaf=10, min_samples_split=8;, score=0.846 total time=   1.5s\n",
      "[CV 5/5] END criterion=squared_error, max_depth=10, min_samples_leaf=10, min_samples_split=8;, score=0.843 total time=   1.6s\n",
      "[CV 1/5] END criterion=squared_error, max_depth=10, min_samples_leaf=10, min_samples_split=10;, score=0.828 total time=   1.7s\n",
      "[CV 2/5] END criterion=squared_error, max_depth=10, min_samples_leaf=10, min_samples_split=10;, score=0.845 total time=   1.7s\n",
      "[CV 3/5] END criterion=squared_error, max_depth=10, min_samples_leaf=10, min_samples_split=10;, score=0.838 total time=   1.5s\n",
      "[CV 4/5] END criterion=squared_error, max_depth=10, min_samples_leaf=10, min_samples_split=10;, score=0.846 total time=   1.7s\n",
      "[CV 5/5] END criterion=squared_error, max_depth=10, min_samples_leaf=10, min_samples_split=10;, score=0.843 total time=   1.7s\n"
     ]
    },
    {
     "data": {
      "text/html": [
       "<style>#sk-container-id-1 {color: black;}#sk-container-id-1 pre{padding: 0;}#sk-container-id-1 div.sk-toggleable {background-color: white;}#sk-container-id-1 label.sk-toggleable__label {cursor: pointer;display: block;width: 100%;margin-bottom: 0;padding: 0.3em;box-sizing: border-box;text-align: center;}#sk-container-id-1 label.sk-toggleable__label-arrow:before {content: \"▸\";float: left;margin-right: 0.25em;color: #696969;}#sk-container-id-1 label.sk-toggleable__label-arrow:hover:before {color: black;}#sk-container-id-1 div.sk-estimator:hover label.sk-toggleable__label-arrow:before {color: black;}#sk-container-id-1 div.sk-toggleable__content {max-height: 0;max-width: 0;overflow: hidden;text-align: left;background-color: #f0f8ff;}#sk-container-id-1 div.sk-toggleable__content pre {margin: 0.2em;color: black;border-radius: 0.25em;background-color: #f0f8ff;}#sk-container-id-1 input.sk-toggleable__control:checked~div.sk-toggleable__content {max-height: 200px;max-width: 100%;overflow: auto;}#sk-container-id-1 input.sk-toggleable__control:checked~label.sk-toggleable__label-arrow:before {content: \"▾\";}#sk-container-id-1 div.sk-estimator input.sk-toggleable__control:checked~label.sk-toggleable__label {background-color: #d4ebff;}#sk-container-id-1 div.sk-label input.sk-toggleable__control:checked~label.sk-toggleable__label {background-color: #d4ebff;}#sk-container-id-1 input.sk-hidden--visually {border: 0;clip: rect(1px 1px 1px 1px);clip: rect(1px, 1px, 1px, 1px);height: 1px;margin: -1px;overflow: hidden;padding: 0;position: absolute;width: 1px;}#sk-container-id-1 div.sk-estimator {font-family: monospace;background-color: #f0f8ff;border: 1px dotted black;border-radius: 0.25em;box-sizing: border-box;margin-bottom: 0.5em;}#sk-container-id-1 div.sk-estimator:hover {background-color: #d4ebff;}#sk-container-id-1 div.sk-parallel-item::after {content: \"\";width: 100%;border-bottom: 1px solid gray;flex-grow: 1;}#sk-container-id-1 div.sk-label:hover label.sk-toggleable__label {background-color: #d4ebff;}#sk-container-id-1 div.sk-serial::before {content: \"\";position: absolute;border-left: 1px solid gray;box-sizing: border-box;top: 0;bottom: 0;left: 50%;z-index: 0;}#sk-container-id-1 div.sk-serial {display: flex;flex-direction: column;align-items: center;background-color: white;padding-right: 0.2em;padding-left: 0.2em;position: relative;}#sk-container-id-1 div.sk-item {position: relative;z-index: 1;}#sk-container-id-1 div.sk-parallel {display: flex;align-items: stretch;justify-content: center;background-color: white;position: relative;}#sk-container-id-1 div.sk-item::before, #sk-container-id-1 div.sk-parallel-item::before {content: \"\";position: absolute;border-left: 1px solid gray;box-sizing: border-box;top: 0;bottom: 0;left: 50%;z-index: -1;}#sk-container-id-1 div.sk-parallel-item {display: flex;flex-direction: column;z-index: 1;position: relative;background-color: white;}#sk-container-id-1 div.sk-parallel-item:first-child::after {align-self: flex-end;width: 50%;}#sk-container-id-1 div.sk-parallel-item:last-child::after {align-self: flex-start;width: 50%;}#sk-container-id-1 div.sk-parallel-item:only-child::after {width: 0;}#sk-container-id-1 div.sk-dashed-wrapped {border: 1px dashed gray;margin: 0 0.4em 0.5em 0.4em;box-sizing: border-box;padding-bottom: 0.4em;background-color: white;}#sk-container-id-1 div.sk-label label {font-family: monospace;font-weight: bold;display: inline-block;line-height: 1.2em;}#sk-container-id-1 div.sk-label-container {text-align: center;}#sk-container-id-1 div.sk-container {/* jupyter's `normalize.less` sets `[hidden] { display: none; }` but bootstrap.min.css set `[hidden] { display: none !important; }` so we also need the `!important` here to be able to override the default hidden behavior on the sphinx rendered scikit-learn.org. See: https://github.com/scikit-learn/scikit-learn/issues/21755 */display: inline-block !important;position: relative;}#sk-container-id-1 div.sk-text-repr-fallback {display: none;}</style><div id=\"sk-container-id-1\" class=\"sk-top-container\"><div class=\"sk-text-repr-fallback\"><pre>GridSearchCV(cv=5, estimator=DecisionTreeRegressor(),\n",
       "             param_grid={&#x27;criterion&#x27;: [&#x27;squared_error&#x27;],\n",
       "                         &#x27;max_depth&#x27;: [2, 4, 6, 8, 10],\n",
       "                         &#x27;min_samples_leaf&#x27;: [1, 2, 4, 6, 8, 10],\n",
       "                         &#x27;min_samples_split&#x27;: [2, 4, 6, 8, 10]},\n",
       "             verbose=3)</pre><b>In a Jupyter environment, please rerun this cell to show the HTML representation or trust the notebook. <br />On GitHub, the HTML representation is unable to render, please try loading this page with nbviewer.org.</b></div><div class=\"sk-container\" hidden><div class=\"sk-item sk-dashed-wrapped\"><div class=\"sk-label-container\"><div class=\"sk-label sk-toggleable\"><input class=\"sk-toggleable__control sk-hidden--visually\" id=\"sk-estimator-id-1\" type=\"checkbox\" ><label for=\"sk-estimator-id-1\" class=\"sk-toggleable__label sk-toggleable__label-arrow\">GridSearchCV</label><div class=\"sk-toggleable__content\"><pre>GridSearchCV(cv=5, estimator=DecisionTreeRegressor(),\n",
       "             param_grid={&#x27;criterion&#x27;: [&#x27;squared_error&#x27;],\n",
       "                         &#x27;max_depth&#x27;: [2, 4, 6, 8, 10],\n",
       "                         &#x27;min_samples_leaf&#x27;: [1, 2, 4, 6, 8, 10],\n",
       "                         &#x27;min_samples_split&#x27;: [2, 4, 6, 8, 10]},\n",
       "             verbose=3)</pre></div></div></div><div class=\"sk-parallel\"><div class=\"sk-parallel-item\"><div class=\"sk-item\"><div class=\"sk-label-container\"><div class=\"sk-label sk-toggleable\"><input class=\"sk-toggleable__control sk-hidden--visually\" id=\"sk-estimator-id-2\" type=\"checkbox\" ><label for=\"sk-estimator-id-2\" class=\"sk-toggleable__label sk-toggleable__label-arrow\">estimator: DecisionTreeRegressor</label><div class=\"sk-toggleable__content\"><pre>DecisionTreeRegressor()</pre></div></div></div><div class=\"sk-serial\"><div class=\"sk-item\"><div class=\"sk-estimator sk-toggleable\"><input class=\"sk-toggleable__control sk-hidden--visually\" id=\"sk-estimator-id-3\" type=\"checkbox\" ><label for=\"sk-estimator-id-3\" class=\"sk-toggleable__label sk-toggleable__label-arrow\">DecisionTreeRegressor</label><div class=\"sk-toggleable__content\"><pre>DecisionTreeRegressor()</pre></div></div></div></div></div></div></div></div></div></div>"
      ],
      "text/plain": [
       "GridSearchCV(cv=5, estimator=DecisionTreeRegressor(),\n",
       "             param_grid={'criterion': ['squared_error'],\n",
       "                         'max_depth': [2, 4, 6, 8, 10],\n",
       "                         'min_samples_leaf': [1, 2, 4, 6, 8, 10],\n",
       "                         'min_samples_split': [2, 4, 6, 8, 10]},\n",
       "             verbose=3)"
      ]
     },
     "execution_count": 11,
     "metadata": {},
     "output_type": "execute_result"
    }
   ],
   "source": [
    "from sklearn.model_selection import GridSearchCV\n",
    "\n",
    "#instantiate\n",
    "dtmodel = DecisionTreeRegressor()\n",
    "\n",
    "# Define the parameter grid\n",
    "paramgrid = {\n",
    "    \"max_depth\": [2, 4, 6, 8, 10],  #how deep the tree is allowed to go set between 2-10 in steps of 2\n",
    "    \"min_samples_split\": [2, 4, 6, 8, 10],  #minimum number of samples required to split node between 2-10 in steps of 2\n",
    "    \"min_samples_leaf\": [1, 2, 4, 6, 8, 10],  #minimum number of samples required at leaf node between 1-10\n",
    "    \"criterion\": [\"squared_error\"],  # splitting criteria squared error\n",
    "}\n",
    "\n",
    "#import gridsearchcv, link it to our pipeline and fit to our train\n",
    "grid_search = GridSearchCV(dtmodel, paramgrid,verbose=3, cv=5)\n",
    "grid_search.fit(X_train_s, y_train)\n"
   ]
  },
  {
   "cell_type": "markdown",
   "metadata": {},
   "source": [
    "My gridsearch cross-validation has run and I can now pass that into `.best_score_` and `.best_estimator_` attributes to get my best-fitted model."
   ]
  },
  {
   "cell_type": "code",
   "execution_count": 12,
   "metadata": {},
   "outputs": [
    {
     "name": "stdout",
     "output_type": "stream",
     "text": [
      "0.8445698448222171\n",
      "DecisionTreeRegressor(max_depth=10, min_samples_leaf=6, min_samples_split=6)\n"
     ]
    }
   ],
   "source": [
    "\n",
    "#get best hyperparameters and their corresponding score\n",
    "bestscore = grid_search.best_score_\n",
    "bestmodel = grid_search.best_estimator_\n",
    "\n",
    "print(bestscore)\n",
    "print(bestmodel)\n"
   ]
  },
  {
   "cell_type": "markdown",
   "metadata": {},
   "source": [
    "My optimal Decision Tree model here, configured with max_depth=10, min_samples_leaf=6, and min_samples_split=6, shows a cross-validated score of approximately 0.84% which whilst not as good as our basic decision tree model from before has now protected us from overfitting on the training set."
   ]
  },
  {
   "cell_type": "code",
   "execution_count": null,
   "metadata": {},
   "outputs": [],
   "source": []
  },
  {
   "cell_type": "markdown",
   "metadata": {},
   "source": [
    "### Optimised Decision Tree Regressor"
   ]
  },
  {
   "cell_type": "code",
   "execution_count": 17,
   "metadata": {},
   "outputs": [
    {
     "name": "stdout",
     "output_type": "stream",
     "text": [
      "0.8894014750392316\n",
      "0.8462871413891841\n"
     ]
    }
   ],
   "source": [
    "\n",
    "#instantiate\n",
    "DT=DecisionTreeRegressor(max_depth=10,min_samples_leaf=6,min_samples_split=6)\n",
    "\n",
    "#fit\n",
    "DT.fit(X_train_s,y_train)\n",
    "\n",
    "# Predictions\n",
    "y_train_pred = DT.predict(X_train_s)\n",
    "y_val_pred = DT.predict(X_val_s)\n",
    "\n",
    "#Score\n",
    "#Train\n",
    "print(DT.score(X_train_s,y_train))\n",
    "\n",
    "#Val\n",
    "print(DT.score(X_val_s,y_val))"
   ]
  },
  {
   "cell_type": "markdown",
   "metadata": {},
   "source": [
    "As we can see although our train score has gone down by almost 10% and our test score has gone down by 3%. Our model is no longer overfitted."
   ]
  },
  {
   "cell_type": "markdown",
   "metadata": {},
   "source": [
    "## Model Evaluation"
   ]
  },
  {
   "cell_type": "markdown",
   "metadata": {},
   "source": [
    "### Decision Tree Plot"
   ]
  },
  {
   "cell_type": "code",
   "execution_count": 18,
   "metadata": {},
   "outputs": [],
   "source": [
    "#pip install dtreeviz"
   ]
  },
  {
   "cell_type": "code",
   "execution_count": 19,
   "metadata": {},
   "outputs": [],
   "source": [
    "#from dtreeviz.trees import dtreeviz\n",
    "\n",
    "# Visualize the decision tree with dtreeviz\n",
    "#viz = dtreeviz(DT, X_train_s, y_train, feature_names=X_train_s.columns.tolist(), target_name='market_value')\n",
    "#viz.view()\n"
   ]
  },
  {
   "cell_type": "markdown",
   "metadata": {},
   "source": [
    "As we can see our optimised decision tree is extremely extensive in length and "
   ]
  },
  {
   "cell_type": "markdown",
   "metadata": {},
   "source": [
    "### Mean Absolute Error & Mean Squared Error"
   ]
  },
  {
   "cell_type": "markdown",
   "metadata": {},
   "source": [
    "We can use Mean Absolute Error and Mean Squared Error as alternative metrics for R^2 to evaluate our model."
   ]
  },
  {
   "cell_type": "code",
   "execution_count": 20,
   "metadata": {},
   "outputs": [
    {
     "name": "stdout",
     "output_type": "stream",
     "text": [
      "Train MSE: 12511684463760.807\n",
      "Validation MSE: 17159404951433.264\n",
      "\n",
      "Train MAE: 1688304.5704686358\n",
      "Validation MAE: 1870482.9014710502\n"
     ]
    }
   ],
   "source": [
    "from sklearn.metrics import mean_squared_error, mean_absolute_error\n",
    "\n",
    "# Calculate Mean Squared Error\n",
    "mse_train = mean_squared_error(y_train, y_train_pred)\n",
    "mse_val = mean_squared_error(y_val, y_val_pred)\n",
    "\n",
    "# Calculate Mean Absolute Error\n",
    "mae_train = mean_absolute_error(y_train, y_train_pred)\n",
    "mae_val = mean_absolute_error(y_val, y_val_pred)\n",
    "\n",
    "# Print the metrics\n",
    "print(\"Train MSE:\", mse_train)\n",
    "print(\"Validation MSE:\", mse_val)\n",
    "print(\"\\nTrain MAE:\", mae_train)\n",
    "print(\"Validation MAE:\", mae_val)\n"
   ]
  },
  {
   "cell_type": "markdown",
   "metadata": {},
   "source": [
    "These values seem a bit strange considering the high R-Squared values i got previously. I'll have to do further investigation into this."
   ]
  },
  {
   "cell_type": "markdown",
   "metadata": {},
   "source": [
    "### Feature Importance"
   ]
  },
  {
   "cell_type": "markdown",
   "metadata": {},
   "source": [
    "We can analyse the importance of each feature using the .feature_importances_ attribute."
   ]
  },
  {
   "cell_type": "code",
   "execution_count": 21,
   "metadata": {},
   "outputs": [
    {
     "data": {
      "text/html": [
       "<div>\n",
       "<style scoped>\n",
       "    .dataframe tbody tr th:only-of-type {\n",
       "        vertical-align: middle;\n",
       "    }\n",
       "\n",
       "    .dataframe tbody tr th {\n",
       "        vertical-align: top;\n",
       "    }\n",
       "\n",
       "    .dataframe thead th {\n",
       "        text-align: right;\n",
       "    }\n",
       "</style>\n",
       "<table border=\"1\" class=\"dataframe\">\n",
       "  <thead>\n",
       "    <tr style=\"text-align: right;\">\n",
       "      <th></th>\n",
       "      <th>Feature</th>\n",
       "      <th>Importance</th>\n",
       "    </tr>\n",
       "  </thead>\n",
       "  <tbody>\n",
       "    <tr>\n",
       "      <th>2</th>\n",
       "      <td>highest_ever_market_value</td>\n",
       "      <td>0.736383</td>\n",
       "    </tr>\n",
       "    <tr>\n",
       "      <th>3</th>\n",
       "      <td>age</td>\n",
       "      <td>0.084337</td>\n",
       "    </tr>\n",
       "    <tr>\n",
       "      <th>6</th>\n",
       "      <td>year</td>\n",
       "      <td>0.067186</td>\n",
       "    </tr>\n",
       "    <tr>\n",
       "      <th>11</th>\n",
       "      <td>minutes_played</td>\n",
       "      <td>0.054220</td>\n",
       "    </tr>\n",
       "    <tr>\n",
       "      <th>14</th>\n",
       "      <td>national_team_players</td>\n",
       "      <td>0.018533</td>\n",
       "    </tr>\n",
       "    <tr>\n",
       "      <th>...</th>\n",
       "      <td>...</td>\n",
       "      <td>...</td>\n",
       "    </tr>\n",
       "    <tr>\n",
       "      <th>26</th>\n",
       "      <td>sub_position_Defensive Midfield</td>\n",
       "      <td>0.000000</td>\n",
       "    </tr>\n",
       "    <tr>\n",
       "      <th>28</th>\n",
       "      <td>sub_position_Left Midfield</td>\n",
       "      <td>0.000000</td>\n",
       "    </tr>\n",
       "    <tr>\n",
       "      <th>30</th>\n",
       "      <td>sub_position_Left-Back</td>\n",
       "      <td>0.000000</td>\n",
       "    </tr>\n",
       "    <tr>\n",
       "      <th>36</th>\n",
       "      <td>league_id_DK1</td>\n",
       "      <td>0.000000</td>\n",
       "    </tr>\n",
       "    <tr>\n",
       "      <th>74</th>\n",
       "      <td>Country_Uruguay</td>\n",
       "      <td>0.000000</td>\n",
       "    </tr>\n",
       "  </tbody>\n",
       "</table>\n",
       "<p>75 rows × 2 columns</p>\n",
       "</div>"
      ],
      "text/plain": [
       "                            Feature  Importance\n",
       "2         highest_ever_market_value    0.736383\n",
       "3                               age    0.084337\n",
       "6                              year    0.067186\n",
       "11                   minutes_played    0.054220\n",
       "14            national_team_players    0.018533\n",
       "..                              ...         ...\n",
       "26  sub_position_Defensive Midfield    0.000000\n",
       "28       sub_position_Left Midfield    0.000000\n",
       "30           sub_position_Left-Back    0.000000\n",
       "36                    league_id_DK1    0.000000\n",
       "74                  Country_Uruguay    0.000000\n",
       "\n",
       "[75 rows x 2 columns]"
      ]
     },
     "execution_count": 21,
     "metadata": {},
     "output_type": "execute_result"
    }
   ],
   "source": [
    "#get the feature importance for my best model\n",
    "feature_importance = DT.feature_importances_\n",
    "\n",
    "# set up a dataframe\n",
    "importance_df = pd.DataFrame({'Feature': X_train_s.columns, 'Importance': feature_importance})\n",
    "\n",
    "#sort in desc order\n",
    "importance_df = importance_df.sort_values(by='Importance', ascending=False)\n",
    "\n",
    "#display the feature importances\n",
    "importance_df\n"
   ]
  },
  {
   "cell_type": "code",
   "execution_count": 22,
   "metadata": {},
   "outputs": [
    {
     "data": {
      "text/html": [
       "<div>\n",
       "<style scoped>\n",
       "    .dataframe tbody tr th:only-of-type {\n",
       "        vertical-align: middle;\n",
       "    }\n",
       "\n",
       "    .dataframe tbody tr th {\n",
       "        vertical-align: top;\n",
       "    }\n",
       "\n",
       "    .dataframe thead th {\n",
       "        text-align: right;\n",
       "    }\n",
       "</style>\n",
       "<table border=\"1\" class=\"dataframe\">\n",
       "  <thead>\n",
       "    <tr style=\"text-align: right;\">\n",
       "      <th></th>\n",
       "      <th>Feature</th>\n",
       "      <th>Importance</th>\n",
       "    </tr>\n",
       "  </thead>\n",
       "  <tbody>\n",
       "    <tr>\n",
       "      <th>2</th>\n",
       "      <td>highest_ever_market_value</td>\n",
       "      <td>0.736383</td>\n",
       "    </tr>\n",
       "    <tr>\n",
       "      <th>3</th>\n",
       "      <td>age</td>\n",
       "      <td>0.084337</td>\n",
       "    </tr>\n",
       "    <tr>\n",
       "      <th>6</th>\n",
       "      <td>year</td>\n",
       "      <td>0.067186</td>\n",
       "    </tr>\n",
       "    <tr>\n",
       "      <th>11</th>\n",
       "      <td>minutes_played</td>\n",
       "      <td>0.054220</td>\n",
       "    </tr>\n",
       "    <tr>\n",
       "      <th>14</th>\n",
       "      <td>national_team_players</td>\n",
       "      <td>0.018533</td>\n",
       "    </tr>\n",
       "    <tr>\n",
       "      <th>7</th>\n",
       "      <td>goals</td>\n",
       "      <td>0.005888</td>\n",
       "    </tr>\n",
       "    <tr>\n",
       "      <th>13</th>\n",
       "      <td>net_transfer_record</td>\n",
       "      <td>0.005565</td>\n",
       "    </tr>\n",
       "    <tr>\n",
       "      <th>8</th>\n",
       "      <td>assists</td>\n",
       "      <td>0.005386</td>\n",
       "    </tr>\n",
       "    <tr>\n",
       "      <th>5</th>\n",
       "      <td>month</td>\n",
       "      <td>0.004554</td>\n",
       "    </tr>\n",
       "    <tr>\n",
       "      <th>12</th>\n",
       "      <td>player_club_id</td>\n",
       "      <td>0.003066</td>\n",
       "    </tr>\n",
       "  </tbody>\n",
       "</table>\n",
       "</div>"
      ],
      "text/plain": [
       "                      Feature  Importance\n",
       "2   highest_ever_market_value    0.736383\n",
       "3                         age    0.084337\n",
       "6                        year    0.067186\n",
       "11             minutes_played    0.054220\n",
       "14      national_team_players    0.018533\n",
       "7                       goals    0.005888\n",
       "13        net_transfer_record    0.005565\n",
       "8                     assists    0.005386\n",
       "5                       month    0.004554\n",
       "12             player_club_id    0.003066"
      ]
     },
     "execution_count": 22,
     "metadata": {},
     "output_type": "execute_result"
    }
   ],
   "source": [
    "importance_df.head(10)"
   ]
  },
  {
   "cell_type": "markdown",
   "metadata": {},
   "source": [
    "We can make a stacked bar chart to visualise this importance."
   ]
  },
  {
   "cell_type": "code",
   "execution_count": 23,
   "metadata": {},
   "outputs": [
    {
     "data": {
      "image/png": "[encoded data removed]",
      "text/plain": [
       "<Figure size 2000x1200 with 1 Axes>"
      ]
     },
     "metadata": {},
     "output_type": "display_data"
    }
   ],
   "source": [
    "import matplotlib.pyplot as plt\n",
    "\n",
    "\n",
    "#filter rows where importance  not 0\n",
    "filtered_importance_df = importance_df[importance_df['Importance'] > 0]\n",
    "\n",
    "#create stacked bar chart\n",
    "plt.figure(figsize=(20, 12))\n",
    "plt.bar(filtered_importance_df['Feature'], filtered_importance_df['Importance'], color='forestgreen')\n",
    "\n",
    "\n",
    "# log scale my y axis\n",
    "plt.yscale('log')\n",
    "\n",
    "#layout graphing\n",
    "plt.xlabel('Features')\n",
    "plt.ylabel('Importance')\n",
    "plt.title('Feature Importances')\n",
    "plt.xticks(rotation=45, ha='right')\n",
    "plt.tight_layout()\n",
    "plt.show()\n"
   ]
  },
  {
   "cell_type": "markdown",
   "metadata": {},
   "source": [
    "\n",
    "`age`:\n",
    "Age ranks highest in importance, suggesting its substantial role in influencing market value predictions.\n",
    "\n",
    "`year`:\n",
    "The year is also an important temporal factor, indicating that market values are influenced by trends or changes over time.\n",
    "\n",
    "`minutes_played`:\n",
    "Playing time is a significant factor, suggesting its impact on predicting player market values.\n",
    "\n",
    "`national_team_players`:\n",
    "How many national team players a team has is also significant as better teams usually have more of them.\n",
    "\n",
    "`net_transfer_record`:\n",
    "The transfer record of the club, reflected in the net transfer record, plays a role in determining market values.\n",
    "\n",
    "`goals`:\n",
    "Goal-scoring ability is considered, indicating its influence on predicting player market values.\n",
    "\n",
    "`assists`:\n",
    "Contributions to goals through assists also contribute to predictions.\n",
    "\n",
    "`month`:\n",
    "The month may indicate periodic trends, but it holds relatively less importance compared to other features.\n",
    "\n",
    "`player_club_id`:\n",
    "The actual club id holds less information about the valuation than certain attributes of the club which is a bit strange.\n",
    "\n",
    "These importance scores guide my understanding of which features are more influential in determining player market values and help in feature selection and further analysis."
   ]
  },
  {
   "cell_type": "code",
   "execution_count": null,
   "metadata": {},
   "outputs": [],
   "source": []
  }
 ],
 "metadata": {
  "kernelspec": {
   "display_name": "Python 3 (ipykernel)",
   "language": "python",
   "name": "python3"
  },
  "language_info": {
   "codemirror_mode": {
    "name": "ipython",
    "version": 3
   },
   "file_extension": ".py",
   "mimetype": "text/x-python",
   "name": "python",
   "nbconvert_exporter": "python",
   "pygments_lexer": "ipython3",
   "version": "3.11.4"
  }
 },
 "nbformat": 4,
 "nbformat_minor": 2
}
