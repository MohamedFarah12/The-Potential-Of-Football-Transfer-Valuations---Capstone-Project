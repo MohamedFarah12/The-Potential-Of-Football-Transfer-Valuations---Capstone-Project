{
 "cells": [
  {
   "cell_type": "markdown",
   "metadata": {},
   "source": [
    "# Modelling"
   ]
  },
  {
   "cell_type": "markdown",
   "metadata": {},
   "source": [
    "In this notebook I'll be starting the modelling phase of my project."
   ]
  },
  {
   "cell_type": "code",
   "execution_count": 1,
   "metadata": {},
   "outputs": [],
   "source": [
    "import pandas as pd\n",
    "pd.set_option('display.max_columns', 100)\n",
    "import numpy as np\n",
    "import matplotlib.pyplot as plt\n",
    "import seaborn as sns"
   ]
  },
  {
   "cell_type": "markdown",
   "metadata": {},
   "source": [
    "## Data Loading"
   ]
  },
  {
   "cell_type": "code",
   "execution_count": 2,
   "metadata": {},
   "outputs": [],
   "source": [
    "X_train_s = pd.read_pickle('data1/X_train_s.pkl')\n",
    "X_val_s = pd.read_pickle('data1/X_val_s.pkl')\n",
    "X_test_s = pd.read_pickle('data1/X_test_s.pkl')\n",
    "y_train = pd.read_pickle('data1/y_train.pkl')\n",
    "y_val = pd.read_pickle('data1/y_val.pkl')\n",
    "y_test = pd.read_pickle('data1/y_test.pkl')\n",
    "df=pd.read_pickle(\"data1/df.pkl\")\n"
   ]
  },
  {
   "cell_type": "markdown",
   "metadata": {},
   "source": [
    "Data has been loaded."
   ]
  },
  {
   "cell_type": "markdown",
   "metadata": {},
   "source": [
    "## Linear Regression"
   ]
  },
  {
   "cell_type": "markdown",
   "metadata": {},
   "source": [
    "For my first model, I'll be running a Linear Regression to get a \n",
    "baseline understanding of how well my features can predict the target variable, Market Value."
   ]
  },
  {
   "cell_type": "markdown",
   "metadata": {},
   "source": [
    "### Linearity"
   ]
  },
  {
   "cell_type": "markdown",
   "metadata": {},
   "source": [
    "Since we are doing Linear Regression we should check for linearity between our variables."
   ]
  },
  {
   "cell_type": "code",
   "execution_count": 3,
   "metadata": {},
   "outputs": [],
   "source": [
    "#concat the train data\n",
    "train_data = pd.concat([X_train_s, y_train], axis=1)\n",
    "\n",
    "#set up the corr matrix\n",
    "correlation_matrix = train_data.corr()"
   ]
  },
  {
   "cell_type": "code",
   "execution_count": 4,
   "metadata": {},
   "outputs": [
    {
     "name": "stdout",
     "output_type": "stream",
     "text": [
      "market_value                     1.000000\n",
      "Country_Russia                   0.011604\n",
      "sub_position_Central Midfield    0.007945\n",
      "Country_Morocco                  0.007656\n",
      "league_id_ES1                    0.007512\n",
      "height_in_cm                     0.006708\n",
      "Country_Cote d'Ivoire            0.006066\n",
      "sub_position_Second Striker      0.004974\n",
      "Country_Scotland                 0.004743\n",
      "last_season_x                    0.004453\n",
      "Country_Spain                    0.004043\n",
      "Country_Denmark                  0.003680\n",
      "position_Midfield                0.003362\n",
      "sub_position_Centre-Back         0.003239\n",
      "age                              0.002990\n",
      "Country_Ukraine                  0.002971\n",
      "league_id_UKR1                   0.002880\n",
      "Country_Portugal                 0.002694\n",
      "league_id_FR1                    0.002657\n",
      "league_id_RU1                    0.002654\n",
      "Name: market_value, dtype: float64\n"
     ]
    }
   ],
   "source": [
    "#get corr matrix\n",
    "correlation_values = correlation_matrix[\"market_value\"]\n",
    "\n",
    "#sort the correlation values in descending order and get the top 10 for positive and negative correlation\n",
    "sortedposcorr = correlation_values.sort_values(ascending=False).head(20)\n",
    "sortednegcorr= correlation_values.sort_values(ascending=True).head(20)\n",
    "\n",
    "print(sortedposcorr)\n"
   ]
  },
  {
   "cell_type": "code",
   "execution_count": 5,
   "metadata": {},
   "outputs": [
    {
     "name": "stdout",
     "output_type": "stream",
     "text": [
      "sub_position_Right Midfield       -0.008534\n",
      "Country_Turkey                    -0.008409\n",
      "Country_England                   -0.008379\n",
      "league_id_TR1                     -0.007212\n",
      "sub_position_Left-Back            -0.006865\n",
      "Country_Brazil                    -0.006024\n",
      "month                             -0.005411\n",
      "Country_Greece                    -0.005313\n",
      "yellow_cards                      -0.005298\n",
      "sub_position_Attacking Midfield   -0.004437\n",
      "net_transfer_record               -0.004117\n",
      "assists                           -0.004090\n",
      "minutes_played                    -0.004055\n",
      "league_id_DK1                     -0.003989\n",
      "league_id_L1                      -0.003629\n",
      "year                              -0.003471\n",
      "sub_position_Right Winger         -0.003334\n",
      "sub_position_Right-Back           -0.003228\n",
      "Country_Croatia                   -0.003192\n",
      "Country_Senegal                   -0.003088\n",
      "Name: market_value, dtype: float64\n"
     ]
    }
   ],
   "source": [
    "print(sortednegcorr)"
   ]
  },
  {
   "cell_type": "markdown",
   "metadata": {},
   "source": [
    " We dont seem to have any strong postive or negative correlations. This could be down to the scaling as in the EDA step there was a decent amount of correlation in the dataset, but we can likely say that a linear regression is not the best machine learning algorithm for this dataset. We will do it anyway as a baseline model however."
   ]
  },
  {
   "cell_type": "markdown",
   "metadata": {},
   "source": [
    "### Base Model"
   ]
  },
  {
   "cell_type": "markdown",
   "metadata": {},
   "source": [
    "The first step in Modelling for my project will be a baseline linear regression model."
   ]
  },
  {
   "cell_type": "code",
   "execution_count": 6,
   "metadata": {},
   "outputs": [
    {
     "name": "stdout",
     "output_type": "stream",
     "text": [
      "train R^2 score:0.693051423049036\n",
      "validation R^2 score:0.6898009108330572\n"
     ]
    }
   ],
   "source": [
    "#import LinearRegression\n",
    "from sklearn.linear_model import LinearRegression\n",
    "\n",
    "#instantiate\n",
    "LinReg=LinearRegression()\n",
    "\n",
    "#fit\n",
    "LinReg.fit(X_train_s,y_train)\n",
    "\n",
    "#Score\n",
    "#Train\n",
    "print(f\"train R^2 score:{LinReg.score(X_train_s,y_train)}\")\n",
    "\n",
    "#Val\n",
    "print(f\"validation R^2 score:{LinReg.score(X_val_s,y_val)}\")\n"
   ]
  },
  {
   "cell_type": "markdown",
   "metadata": {},
   "source": [
    "The training R^2 score of 0.6933 indicates our Linear Regression model captures about 70% of training variance. The validation R^2 score of 0.69 also indicates about 70% variance.This is decent as higher R-squared values, closer to 1, signify a better fit hence showcasing the model's moderate ability to recognise and capture patterns in the validation set."
   ]
  },
  {
   "cell_type": "markdown",
   "metadata": {},
   "source": [
    "### Coefficients & Intercepts"
   ]
  },
  {
   "cell_type": "code",
   "execution_count": 7,
   "metadata": {},
   "outputs": [
    {
     "data": {
      "text/plain": [
       "5096796.852634913"
      ]
     },
     "execution_count": 7,
     "metadata": {},
     "output_type": "execute_result"
    }
   ],
   "source": [
    "LinReg.intercept_"
   ]
  },
  {
   "cell_type": "markdown",
   "metadata": {},
   "source": [
    "My Linear Regression Model has a y-intercept of approximately €5.1 million indicating that when all my other features are set to zero (have no effect) the baseline value of the player is 5.1 million euros."
   ]
  },
  {
   "cell_type": "code",
   "execution_count": 8,
   "metadata": {},
   "outputs": [
    {
     "name": "stdout",
     "output_type": "stream",
     "text": [
      "                Feature  coefficients\n",
      "63        Country_Other  2.515608e+19\n",
      "70        Country_Spain  1.665870e+19\n",
      "56       Country_France  1.448118e+19\n",
      "72       Country_Turkey  1.355611e+19\n",
      "61  Country_Netherlands  1.352889e+19\n",
      "51       Country_Brazil  1.344074e+19\n",
      "65     Country_Portugal  1.308863e+19\n",
      "57      Country_Germany  1.301109e+19\n",
      "59        Country_Italy  1.263444e+19\n",
      "66       Country_Russia  1.212863e+19\n"
     ]
    }
   ],
   "source": [
    "#get coefficients\n",
    "coefficients = LinReg.coef_\n",
    "\n",
    "# set up a dataframe\n",
    "coefficientsdf = pd.DataFrame({'Feature': LinReg.feature_names_in_, 'coefficients': coefficients})\n",
    "\n",
    "#sort in desc order\n",
    "coefficientsdf = coefficientsdf.sort_values(by='coefficients', ascending=False)\n",
    "\n",
    "#display the 10 highest coefficients\n",
    "print(coefficientsdf.head(10))\n"
   ]
  },
  {
   "cell_type": "code",
   "execution_count": 9,
   "metadata": {},
   "outputs": [
    {
     "name": "stdout",
     "output_type": "stream",
     "text": [
      "                        Feature  coefficients\n",
      "17                   foot_right -5.819010e+18\n",
      "37                league_id_ES1 -5.909463e+18\n",
      "29     sub_position_Left Winger -6.932207e+18\n",
      "32    sub_position_Right Winger -6.984300e+18\n",
      "30       sub_position_Left-Back -8.518018e+18\n",
      "33      sub_position_Right-Back -8.947421e+18\n",
      "25  sub_position_Centre-Forward -9.637604e+18\n",
      "24     sub_position_Centre-Back -1.263725e+19\n",
      "27      sub_position_Goalkeeper -1.856675e+19\n",
      "21            position_Midfield -2.387822e+19\n"
     ]
    }
   ],
   "source": [
    "#display the 10 lowest coefficients\n",
    "print(coefficientsdf.tail(10))\n"
   ]
  },
  {
   "cell_type": "markdown",
   "metadata": {},
   "source": [
    "#### Analysis:\n",
    "\n",
    "- **Positive Coefficients:** Features like 'Country_Other,' 'Country_Spain,' etc., have large positive coefficients, indicating a strong positive influence on the target variable.They seem to be majority in the country collumns suggesting that for this specific dataset, countries have the strongest positive influence in a players valuation.\n",
    "\n",
    "- **Negative Coefficients:** Features like 'position_Goalkeeper,' 'position_Midfield,' etc., have large negative coefficients, suggesting a strong negative influence on the target variable. They seem to be mostly in the sub-position collumns suggesting that the specific subposition of a player is one of the leading factors for a lower transfer fee.\n"
   ]
  },
  {
   "cell_type": "markdown",
   "metadata": {},
   "source": [
    "## Non-Linear Models"
   ]
  },
  {
   "cell_type": "markdown",
   "metadata": {},
   "source": [
    "### Chosen Metrics\n",
    "\n",
    "- **R-Squared Score**: I've chosen R-squared score as my main metric which is the proportion of variance that is explained by my model.\n",
    "- **Mean Absolute Error**: I chose Mean Absolute Error as my secondary metric as a direct metric for me to judge my model off of. I opted for Mean Absolute Error over Root Mean Squared Error/ Mean Squared Error as it's less sensitive to outliers and as seen in my EDA (Notebook 2), I have quite a lot of outliers which skew my target variable.\n",
    "- **Mean Absolute Percentage Error**: Mean Absolute Percentage Error gives me the Mean Absolute Error as a percentage off the actual values, giving me a more relative measure of my error, which is particularly useful for understanding the prediction accuracy in terms of the scale of the target variable. "
   ]
  },
  {
   "cell_type": "markdown",
   "metadata": {},
   "source": [
    "### Decision Tree Regressor"
   ]
  },
  {
   "cell_type": "markdown",
   "metadata": {},
   "source": [
    "I will be setting up a basic, unoptimised Decision Tree Regressor to get a gauge of how it would look."
   ]
  },
  {
   "cell_type": "code",
   "execution_count": 10,
   "metadata": {},
   "outputs": [
    {
     "name": "stdout",
     "output_type": "stream",
     "text": [
      "0.9999959853676804\n",
      "0.8740324450987234\n"
     ]
    }
   ],
   "source": [
    "#import DT regressor\n",
    "from sklearn.tree import DecisionTreeRegressor\n",
    "\n",
    "#instantiate\n",
    "dtbase=DecisionTreeRegressor()\n",
    "\n",
    "#fit\n",
    "dtbase.fit(X_train_s,y_train)\n",
    "\n",
    "#Score\n",
    "#Train\n",
    "print(dtbase.score(X_train_s,y_train))\n",
    "\n",
    "#Val\n",
    "print(dtbase.score(X_val_s,y_val))"
   ]
  },
  {
   "cell_type": "markdown",
   "metadata": {},
   "source": [
    "Here I get a train score of 99.999% accuracy which would be great if the validation score followed suit however the validation score is quite a bit lower suggesting quite a significant overfit even if these values are good."
   ]
  },
  {
   "cell_type": "markdown",
   "metadata": {},
   "source": [
    "### GridSearch & Cross-Validation"
   ]
  },
  {
   "cell_type": "markdown",
   "metadata": {},
   "source": [
    "Since I have quite a significant amount of overfitting I need to tune my hyperparameters and run a gridsearch. I can do this by setting up a parameter grid and passing that into my decision tree regressor model with a 5-fold cross validation.I will be tuning 4 hyperparameters including `\"max_depth\"`,`\"min_samples_split\"`,`\"min_samples_leaf\"`,`\"criterion\"` with a range of values for each."
   ]
  },
  {
   "cell_type": "markdown",
   "metadata": {},
   "source": [
    "**Sidenote**-Modifying the max-depth parameter grid as it landed on the highest max depth that we fed into it, hence suggesting that a higher max depth might be more suited."
   ]
  },
  {
   "cell_type": "code",
   "execution_count": 11,
   "metadata": {
    "scrolled": true
   },
   "outputs": [
    {
     "name": "stdout",
     "output_type": "stream",
     "text": [
      "Fitting 5 folds for each of 80 candidates, totalling 400 fits\n",
      "[CV 1/5] END criterion=squared_error, max_depth=10, min_samples_leaf=1, min_samples_split=2;, score=0.838 total time=   1.7s\n",
      "[CV 2/5] END criterion=squared_error, max_depth=10, min_samples_leaf=1, min_samples_split=2;, score=0.841 total time=   1.7s\n",
      "[CV 3/5] END criterion=squared_error, max_depth=10, min_samples_leaf=1, min_samples_split=2;, score=0.846 total time=   1.6s\n",
      "[CV 4/5] END criterion=squared_error, max_depth=10, min_samples_leaf=1, min_samples_split=2;, score=0.840 total time=   1.5s\n",
      "[CV 5/5] END criterion=squared_error, max_depth=10, min_samples_leaf=1, min_samples_split=2;, score=0.845 total time=   1.6s\n",
      "[CV 1/5] END criterion=squared_error, max_depth=10, min_samples_leaf=1, min_samples_split=4;, score=0.835 total time=   1.7s\n",
      "[CV 2/5] END criterion=squared_error, max_depth=10, min_samples_leaf=1, min_samples_split=4;, score=0.840 total time=   1.6s\n",
      "[CV 3/5] END criterion=squared_error, max_depth=10, min_samples_leaf=1, min_samples_split=4;, score=0.847 total time=   1.7s\n",
      "[CV 4/5] END criterion=squared_error, max_depth=10, min_samples_leaf=1, min_samples_split=4;, score=0.837 total time=   1.7s\n",
      "[CV 5/5] END criterion=squared_error, max_depth=10, min_samples_leaf=1, min_samples_split=4;, score=0.845 total time=   1.7s\n",
      "[CV 1/5] END criterion=squared_error, max_depth=10, min_samples_leaf=1, min_samples_split=6;, score=0.833 total time=   1.7s\n",
      "[CV 2/5] END criterion=squared_error, max_depth=10, min_samples_leaf=1, min_samples_split=6;, score=0.849 total time=   1.7s\n",
      "[CV 3/5] END criterion=squared_error, max_depth=10, min_samples_leaf=1, min_samples_split=6;, score=0.846 total time=   1.5s\n",
      "[CV 4/5] END criterion=squared_error, max_depth=10, min_samples_leaf=1, min_samples_split=6;, score=0.837 total time=   1.6s\n",
      "[CV 5/5] END criterion=squared_error, max_depth=10, min_samples_leaf=1, min_samples_split=6;, score=0.845 total time=   1.7s\n",
      "[CV 1/5] END criterion=squared_error, max_depth=10, min_samples_leaf=1, min_samples_split=8;, score=0.833 total time=   1.9s\n",
      "[CV 2/5] END criterion=squared_error, max_depth=10, min_samples_leaf=1, min_samples_split=8;, score=0.850 total time=   1.7s\n",
      "[CV 3/5] END criterion=squared_error, max_depth=10, min_samples_leaf=1, min_samples_split=8;, score=0.845 total time=   1.6s\n",
      "[CV 4/5] END criterion=squared_error, max_depth=10, min_samples_leaf=1, min_samples_split=8;, score=0.838 total time=   1.7s\n",
      "[CV 5/5] END criterion=squared_error, max_depth=10, min_samples_leaf=1, min_samples_split=8;, score=0.846 total time=   1.7s\n",
      "[CV 1/5] END criterion=squared_error, max_depth=10, min_samples_leaf=2, min_samples_split=2;, score=0.830 total time=   1.8s\n",
      "[CV 2/5] END criterion=squared_error, max_depth=10, min_samples_leaf=2, min_samples_split=2;, score=0.850 total time=   1.7s\n",
      "[CV 3/5] END criterion=squared_error, max_depth=10, min_samples_leaf=2, min_samples_split=2;, score=0.840 total time=   1.6s\n",
      "[CV 4/5] END criterion=squared_error, max_depth=10, min_samples_leaf=2, min_samples_split=2;, score=0.838 total time=   1.7s\n",
      "[CV 5/5] END criterion=squared_error, max_depth=10, min_samples_leaf=2, min_samples_split=2;, score=0.847 total time=   1.7s\n",
      "[CV 1/5] END criterion=squared_error, max_depth=10, min_samples_leaf=2, min_samples_split=4;, score=0.833 total time=   1.7s\n",
      "[CV 2/5] END criterion=squared_error, max_depth=10, min_samples_leaf=2, min_samples_split=4;, score=0.849 total time=   1.7s\n",
      "[CV 3/5] END criterion=squared_error, max_depth=10, min_samples_leaf=2, min_samples_split=4;, score=0.851 total time=   1.7s\n",
      "[CV 4/5] END criterion=squared_error, max_depth=10, min_samples_leaf=2, min_samples_split=4;, score=0.838 total time=   1.7s\n",
      "[CV 5/5] END criterion=squared_error, max_depth=10, min_samples_leaf=2, min_samples_split=4;, score=0.849 total time=   1.5s\n",
      "[CV 1/5] END criterion=squared_error, max_depth=10, min_samples_leaf=2, min_samples_split=6;, score=0.830 total time=   1.5s\n",
      "[CV 2/5] END criterion=squared_error, max_depth=10, min_samples_leaf=2, min_samples_split=6;, score=0.849 total time=   1.6s\n",
      "[CV 3/5] END criterion=squared_error, max_depth=10, min_samples_leaf=2, min_samples_split=6;, score=0.846 total time=   1.7s\n",
      "[CV 4/5] END criterion=squared_error, max_depth=10, min_samples_leaf=2, min_samples_split=6;, score=0.838 total time=   1.7s\n",
      "[CV 5/5] END criterion=squared_error, max_depth=10, min_samples_leaf=2, min_samples_split=6;, score=0.847 total time=   1.6s\n",
      "[CV 1/5] END criterion=squared_error, max_depth=10, min_samples_leaf=2, min_samples_split=8;, score=0.831 total time=   1.7s\n",
      "[CV 2/5] END criterion=squared_error, max_depth=10, min_samples_leaf=2, min_samples_split=8;, score=0.850 total time=   1.7s\n",
      "[CV 3/5] END criterion=squared_error, max_depth=10, min_samples_leaf=2, min_samples_split=8;, score=0.844 total time=   1.7s\n",
      "[CV 4/5] END criterion=squared_error, max_depth=10, min_samples_leaf=2, min_samples_split=8;, score=0.840 total time=   1.7s\n",
      "[CV 5/5] END criterion=squared_error, max_depth=10, min_samples_leaf=2, min_samples_split=8;, score=0.848 total time=   1.3s\n",
      "[CV 1/5] END criterion=squared_error, max_depth=10, min_samples_leaf=4, min_samples_split=2;, score=0.835 total time=   1.5s\n",
      "[CV 2/5] END criterion=squared_error, max_depth=10, min_samples_leaf=4, min_samples_split=2;, score=0.852 total time=   1.7s\n",
      "[CV 3/5] END criterion=squared_error, max_depth=10, min_samples_leaf=4, min_samples_split=2;, score=0.845 total time=   1.7s\n",
      "[CV 4/5] END criterion=squared_error, max_depth=10, min_samples_leaf=4, min_samples_split=2;, score=0.841 total time=   1.7s\n",
      "[CV 5/5] END criterion=squared_error, max_depth=10, min_samples_leaf=4, min_samples_split=2;, score=0.848 total time=   1.7s\n",
      "[CV 1/5] END criterion=squared_error, max_depth=10, min_samples_leaf=4, min_samples_split=4;, score=0.835 total time=   1.6s\n",
      "[CV 2/5] END criterion=squared_error, max_depth=10, min_samples_leaf=4, min_samples_split=4;, score=0.852 total time=   1.6s\n",
      "[CV 3/5] END criterion=squared_error, max_depth=10, min_samples_leaf=4, min_samples_split=4;, score=0.845 total time=   1.7s\n",
      "[CV 4/5] END criterion=squared_error, max_depth=10, min_samples_leaf=4, min_samples_split=4;, score=0.842 total time=   1.6s\n",
      "[CV 5/5] END criterion=squared_error, max_depth=10, min_samples_leaf=4, min_samples_split=4;, score=0.848 total time=   1.6s\n",
      "[CV 1/5] END criterion=squared_error, max_depth=10, min_samples_leaf=4, min_samples_split=6;, score=0.834 total time=   1.5s\n",
      "[CV 2/5] END criterion=squared_error, max_depth=10, min_samples_leaf=4, min_samples_split=6;, score=0.851 total time=   1.6s\n",
      "[CV 3/5] END criterion=squared_error, max_depth=10, min_samples_leaf=4, min_samples_split=6;, score=0.845 total time=   1.7s\n",
      "[CV 4/5] END criterion=squared_error, max_depth=10, min_samples_leaf=4, min_samples_split=6;, score=0.840 total time=   1.5s\n",
      "[CV 5/5] END criterion=squared_error, max_depth=10, min_samples_leaf=4, min_samples_split=6;, score=0.848 total time=   1.6s\n",
      "[CV 1/5] END criterion=squared_error, max_depth=10, min_samples_leaf=4, min_samples_split=8;, score=0.834 total time=   1.7s\n",
      "[CV 2/5] END criterion=squared_error, max_depth=10, min_samples_leaf=4, min_samples_split=8;, score=0.852 total time=   1.7s\n",
      "[CV 3/5] END criterion=squared_error, max_depth=10, min_samples_leaf=4, min_samples_split=8;, score=0.845 total time=   1.5s\n",
      "[CV 4/5] END criterion=squared_error, max_depth=10, min_samples_leaf=4, min_samples_split=8;, score=0.840 total time=   1.5s\n",
      "[CV 5/5] END criterion=squared_error, max_depth=10, min_samples_leaf=4, min_samples_split=8;, score=0.848 total time=   1.7s\n",
      "[CV 1/5] END criterion=squared_error, max_depth=10, min_samples_leaf=6, min_samples_split=2;, score=0.843 total time=   1.6s\n",
      "[CV 2/5] END criterion=squared_error, max_depth=10, min_samples_leaf=6, min_samples_split=2;, score=0.850 total time=   1.7s\n",
      "[CV 3/5] END criterion=squared_error, max_depth=10, min_samples_leaf=6, min_samples_split=2;, score=0.844 total time=   1.7s\n",
      "[CV 4/5] END criterion=squared_error, max_depth=10, min_samples_leaf=6, min_samples_split=2;, score=0.838 total time=   1.7s\n",
      "[CV 5/5] END criterion=squared_error, max_depth=10, min_samples_leaf=6, min_samples_split=2;, score=0.847 total time=   1.7s\n",
      "[CV 1/5] END criterion=squared_error, max_depth=10, min_samples_leaf=6, min_samples_split=4;, score=0.842 total time=   1.6s\n"
     ]
    },
    {
     "name": "stdout",
     "output_type": "stream",
     "text": [
      "[CV 2/5] END criterion=squared_error, max_depth=10, min_samples_leaf=6, min_samples_split=4;, score=0.850 total time=   1.6s\n",
      "[CV 3/5] END criterion=squared_error, max_depth=10, min_samples_leaf=6, min_samples_split=4;, score=0.844 total time=   1.6s\n",
      "[CV 4/5] END criterion=squared_error, max_depth=10, min_samples_leaf=6, min_samples_split=4;, score=0.838 total time=   1.7s\n",
      "[CV 5/5] END criterion=squared_error, max_depth=10, min_samples_leaf=6, min_samples_split=4;, score=0.846 total time=   1.6s\n",
      "[CV 1/5] END criterion=squared_error, max_depth=10, min_samples_leaf=6, min_samples_split=6;, score=0.842 total time=   1.5s\n",
      "[CV 2/5] END criterion=squared_error, max_depth=10, min_samples_leaf=6, min_samples_split=6;, score=0.850 total time=   1.7s\n",
      "[CV 3/5] END criterion=squared_error, max_depth=10, min_samples_leaf=6, min_samples_split=6;, score=0.844 total time=   1.7s\n",
      "[CV 4/5] END criterion=squared_error, max_depth=10, min_samples_leaf=6, min_samples_split=6;, score=0.838 total time=   1.7s\n",
      "[CV 5/5] END criterion=squared_error, max_depth=10, min_samples_leaf=6, min_samples_split=6;, score=0.846 total time=   1.7s\n",
      "[CV 1/5] END criterion=squared_error, max_depth=10, min_samples_leaf=6, min_samples_split=8;, score=0.842 total time=   1.6s\n",
      "[CV 2/5] END criterion=squared_error, max_depth=10, min_samples_leaf=6, min_samples_split=8;, score=0.850 total time=   1.3s\n",
      "[CV 3/5] END criterion=squared_error, max_depth=10, min_samples_leaf=6, min_samples_split=8;, score=0.845 total time=   1.4s\n",
      "[CV 4/5] END criterion=squared_error, max_depth=10, min_samples_leaf=6, min_samples_split=8;, score=0.838 total time=   1.6s\n",
      "[CV 5/5] END criterion=squared_error, max_depth=10, min_samples_leaf=6, min_samples_split=8;, score=0.847 total time=   1.6s\n",
      "[CV 1/5] END criterion=squared_error, max_depth=10, min_samples_leaf=8, min_samples_split=2;, score=0.840 total time=   1.6s\n",
      "[CV 2/5] END criterion=squared_error, max_depth=10, min_samples_leaf=8, min_samples_split=2;, score=0.849 total time=   1.6s\n",
      "[CV 3/5] END criterion=squared_error, max_depth=10, min_samples_leaf=8, min_samples_split=2;, score=0.841 total time=   1.6s\n",
      "[CV 4/5] END criterion=squared_error, max_depth=10, min_samples_leaf=8, min_samples_split=2;, score=0.846 total time=   1.7s\n",
      "[CV 5/5] END criterion=squared_error, max_depth=10, min_samples_leaf=8, min_samples_split=2;, score=0.843 total time=   1.6s\n",
      "[CV 1/5] END criterion=squared_error, max_depth=10, min_samples_leaf=8, min_samples_split=4;, score=0.840 total time=   1.6s\n",
      "[CV 2/5] END criterion=squared_error, max_depth=10, min_samples_leaf=8, min_samples_split=4;, score=0.848 total time=   1.5s\n",
      "[CV 3/5] END criterion=squared_error, max_depth=10, min_samples_leaf=8, min_samples_split=4;, score=0.841 total time=   1.6s\n",
      "[CV 4/5] END criterion=squared_error, max_depth=10, min_samples_leaf=8, min_samples_split=4;, score=0.846 total time=   1.6s\n",
      "[CV 5/5] END criterion=squared_error, max_depth=10, min_samples_leaf=8, min_samples_split=4;, score=0.843 total time=   1.7s\n",
      "[CV 1/5] END criterion=squared_error, max_depth=10, min_samples_leaf=8, min_samples_split=6;, score=0.840 total time=   1.7s\n",
      "[CV 2/5] END criterion=squared_error, max_depth=10, min_samples_leaf=8, min_samples_split=6;, score=0.848 total time=   1.7s\n",
      "[CV 3/5] END criterion=squared_error, max_depth=10, min_samples_leaf=8, min_samples_split=6;, score=0.841 total time=   1.6s\n",
      "[CV 4/5] END criterion=squared_error, max_depth=10, min_samples_leaf=8, min_samples_split=6;, score=0.846 total time=   1.7s\n",
      "[CV 5/5] END criterion=squared_error, max_depth=10, min_samples_leaf=8, min_samples_split=6;, score=0.843 total time=   1.7s\n",
      "[CV 1/5] END criterion=squared_error, max_depth=10, min_samples_leaf=8, min_samples_split=8;, score=0.840 total time=   1.4s\n",
      "[CV 2/5] END criterion=squared_error, max_depth=10, min_samples_leaf=8, min_samples_split=8;, score=0.848 total time=   1.5s\n",
      "[CV 3/5] END criterion=squared_error, max_depth=10, min_samples_leaf=8, min_samples_split=8;, score=0.841 total time=   1.6s\n",
      "[CV 4/5] END criterion=squared_error, max_depth=10, min_samples_leaf=8, min_samples_split=8;, score=0.846 total time=   1.7s\n",
      "[CV 5/5] END criterion=squared_error, max_depth=10, min_samples_leaf=8, min_samples_split=8;, score=0.843 total time=   1.7s\n",
      "[CV 1/5] END criterion=squared_error, max_depth=15, min_samples_leaf=1, min_samples_split=2;, score=0.854 total time=   3.1s\n",
      "[CV 2/5] END criterion=squared_error, max_depth=15, min_samples_leaf=1, min_samples_split=2;, score=0.861 total time=   3.1s\n",
      "[CV 3/5] END criterion=squared_error, max_depth=15, min_samples_leaf=1, min_samples_split=2;, score=0.858 total time=   2.9s\n",
      "[CV 4/5] END criterion=squared_error, max_depth=15, min_samples_leaf=1, min_samples_split=2;, score=0.845 total time=   3.2s\n",
      "[CV 5/5] END criterion=squared_error, max_depth=15, min_samples_leaf=1, min_samples_split=2;, score=0.863 total time=   3.2s\n",
      "[CV 1/5] END criterion=squared_error, max_depth=15, min_samples_leaf=1, min_samples_split=4;, score=0.853 total time=   3.0s\n",
      "[CV 2/5] END criterion=squared_error, max_depth=15, min_samples_leaf=1, min_samples_split=4;, score=0.853 total time=   3.1s\n",
      "[CV 3/5] END criterion=squared_error, max_depth=15, min_samples_leaf=1, min_samples_split=4;, score=0.866 total time=   2.7s\n",
      "[CV 4/5] END criterion=squared_error, max_depth=15, min_samples_leaf=1, min_samples_split=4;, score=0.848 total time=   3.0s\n",
      "[CV 5/5] END criterion=squared_error, max_depth=15, min_samples_leaf=1, min_samples_split=4;, score=0.862 total time=   3.3s\n",
      "[CV 1/5] END criterion=squared_error, max_depth=15, min_samples_leaf=1, min_samples_split=6;, score=0.850 total time=   3.1s\n",
      "[CV 2/5] END criterion=squared_error, max_depth=15, min_samples_leaf=1, min_samples_split=6;, score=0.859 total time=   3.1s\n",
      "[CV 3/5] END criterion=squared_error, max_depth=15, min_samples_leaf=1, min_samples_split=6;, score=0.860 total time=   3.3s\n",
      "[CV 4/5] END criterion=squared_error, max_depth=15, min_samples_leaf=1, min_samples_split=6;, score=0.846 total time=   3.1s\n",
      "[CV 5/5] END criterion=squared_error, max_depth=15, min_samples_leaf=1, min_samples_split=6;, score=0.861 total time=   3.2s\n",
      "[CV 1/5] END criterion=squared_error, max_depth=15, min_samples_leaf=1, min_samples_split=8;, score=0.850 total time=   3.6s\n",
      "[CV 2/5] END criterion=squared_error, max_depth=15, min_samples_leaf=1, min_samples_split=8;, score=0.856 total time=   3.1s\n",
      "[CV 3/5] END criterion=squared_error, max_depth=15, min_samples_leaf=1, min_samples_split=8;, score=0.860 total time=   2.7s\n",
      "[CV 4/5] END criterion=squared_error, max_depth=15, min_samples_leaf=1, min_samples_split=8;, score=0.847 total time=   3.6s\n",
      "[CV 5/5] END criterion=squared_error, max_depth=15, min_samples_leaf=1, min_samples_split=8;, score=0.865 total time=   3.6s\n",
      "[CV 1/5] END criterion=squared_error, max_depth=15, min_samples_leaf=2, min_samples_split=2;, score=0.849 total time=   3.3s\n",
      "[CV 2/5] END criterion=squared_error, max_depth=15, min_samples_leaf=2, min_samples_split=2;, score=0.866 total time=   3.2s\n",
      "[CV 3/5] END criterion=squared_error, max_depth=15, min_samples_leaf=2, min_samples_split=2;, score=0.864 total time=   3.5s\n",
      "[CV 4/5] END criterion=squared_error, max_depth=15, min_samples_leaf=2, min_samples_split=2;, score=0.847 total time=   3.9s\n",
      "[CV 5/5] END criterion=squared_error, max_depth=15, min_samples_leaf=2, min_samples_split=2;, score=0.868 total time=   3.9s\n",
      "[CV 1/5] END criterion=squared_error, max_depth=15, min_samples_leaf=2, min_samples_split=4;, score=0.850 total time=   3.5s\n",
      "[CV 2/5] END criterion=squared_error, max_depth=15, min_samples_leaf=2, min_samples_split=4;, score=0.863 total time=   3.1s\n",
      "[CV 3/5] END criterion=squared_error, max_depth=15, min_samples_leaf=2, min_samples_split=4;, score=0.863 total time=   3.2s\n",
      "[CV 4/5] END criterion=squared_error, max_depth=15, min_samples_leaf=2, min_samples_split=4;, score=0.847 total time=   3.9s\n",
      "[CV 5/5] END criterion=squared_error, max_depth=15, min_samples_leaf=2, min_samples_split=4;, score=0.868 total time=   3.6s\n",
      "[CV 1/5] END criterion=squared_error, max_depth=15, min_samples_leaf=2, min_samples_split=6;, score=0.847 total time=   3.5s\n",
      "[CV 2/5] END criterion=squared_error, max_depth=15, min_samples_leaf=2, min_samples_split=6;, score=0.862 total time=   3.7s\n"
     ]
    },
    {
     "name": "stdout",
     "output_type": "stream",
     "text": [
      "[CV 3/5] END criterion=squared_error, max_depth=15, min_samples_leaf=2, min_samples_split=6;, score=0.859 total time=   3.5s\n",
      "[CV 4/5] END criterion=squared_error, max_depth=15, min_samples_leaf=2, min_samples_split=6;, score=0.843 total time=   3.5s\n",
      "[CV 5/5] END criterion=squared_error, max_depth=15, min_samples_leaf=2, min_samples_split=6;, score=0.864 total time=   3.3s\n",
      "[CV 1/5] END criterion=squared_error, max_depth=15, min_samples_leaf=2, min_samples_split=8;, score=0.846 total time=   3.1s\n",
      "[CV 2/5] END criterion=squared_error, max_depth=15, min_samples_leaf=2, min_samples_split=8;, score=0.866 total time=   3.3s\n",
      "[CV 3/5] END criterion=squared_error, max_depth=15, min_samples_leaf=2, min_samples_split=8;, score=0.858 total time=   3.6s\n",
      "[CV 4/5] END criterion=squared_error, max_depth=15, min_samples_leaf=2, min_samples_split=8;, score=0.845 total time=   3.7s\n",
      "[CV 5/5] END criterion=squared_error, max_depth=15, min_samples_leaf=2, min_samples_split=8;, score=0.867 total time=   3.1s\n",
      "[CV 1/5] END criterion=squared_error, max_depth=15, min_samples_leaf=4, min_samples_split=2;, score=0.841 total time=   3.1s\n",
      "[CV 2/5] END criterion=squared_error, max_depth=15, min_samples_leaf=4, min_samples_split=2;, score=0.860 total time=   3.6s\n",
      "[CV 3/5] END criterion=squared_error, max_depth=15, min_samples_leaf=4, min_samples_split=2;, score=0.858 total time=   3.5s\n",
      "[CV 4/5] END criterion=squared_error, max_depth=15, min_samples_leaf=4, min_samples_split=2;, score=0.850 total time=   3.3s\n",
      "[CV 5/5] END criterion=squared_error, max_depth=15, min_samples_leaf=4, min_samples_split=2;, score=0.867 total time=   2.9s\n",
      "[CV 1/5] END criterion=squared_error, max_depth=15, min_samples_leaf=4, min_samples_split=4;, score=0.840 total time=   3.5s\n",
      "[CV 2/5] END criterion=squared_error, max_depth=15, min_samples_leaf=4, min_samples_split=4;, score=0.859 total time=   3.2s\n",
      "[CV 3/5] END criterion=squared_error, max_depth=15, min_samples_leaf=4, min_samples_split=4;, score=0.858 total time=   3.4s\n",
      "[CV 4/5] END criterion=squared_error, max_depth=15, min_samples_leaf=4, min_samples_split=4;, score=0.851 total time=   2.9s\n",
      "[CV 5/5] END criterion=squared_error, max_depth=15, min_samples_leaf=4, min_samples_split=4;, score=0.866 total time=   3.1s\n",
      "[CV 1/5] END criterion=squared_error, max_depth=15, min_samples_leaf=4, min_samples_split=6;, score=0.841 total time=   3.5s\n",
      "[CV 2/5] END criterion=squared_error, max_depth=15, min_samples_leaf=4, min_samples_split=6;, score=0.860 total time=   3.5s\n",
      "[CV 3/5] END criterion=squared_error, max_depth=15, min_samples_leaf=4, min_samples_split=6;, score=0.857 total time=   3.1s\n",
      "[CV 4/5] END criterion=squared_error, max_depth=15, min_samples_leaf=4, min_samples_split=6;, score=0.848 total time=   2.8s\n",
      "[CV 5/5] END criterion=squared_error, max_depth=15, min_samples_leaf=4, min_samples_split=6;, score=0.867 total time=   3.0s\n",
      "[CV 1/5] END criterion=squared_error, max_depth=15, min_samples_leaf=4, min_samples_split=8;, score=0.841 total time=   3.4s\n",
      "[CV 2/5] END criterion=squared_error, max_depth=15, min_samples_leaf=4, min_samples_split=8;, score=0.858 total time=   3.6s\n",
      "[CV 3/5] END criterion=squared_error, max_depth=15, min_samples_leaf=4, min_samples_split=8;, score=0.858 total time=   3.6s\n",
      "[CV 4/5] END criterion=squared_error, max_depth=15, min_samples_leaf=4, min_samples_split=8;, score=0.849 total time=   3.0s\n",
      "[CV 5/5] END criterion=squared_error, max_depth=15, min_samples_leaf=4, min_samples_split=8;, score=0.867 total time=   3.3s\n",
      "[CV 1/5] END criterion=squared_error, max_depth=15, min_samples_leaf=6, min_samples_split=2;, score=0.852 total time=   3.3s\n",
      "[CV 2/5] END criterion=squared_error, max_depth=15, min_samples_leaf=6, min_samples_split=2;, score=0.855 total time=   3.4s\n",
      "[CV 3/5] END criterion=squared_error, max_depth=15, min_samples_leaf=6, min_samples_split=2;, score=0.853 total time=   3.3s\n",
      "[CV 4/5] END criterion=squared_error, max_depth=15, min_samples_leaf=6, min_samples_split=2;, score=0.843 total time=   2.9s\n",
      "[CV 5/5] END criterion=squared_error, max_depth=15, min_samples_leaf=6, min_samples_split=2;, score=0.857 total time=   3.2s\n",
      "[CV 1/5] END criterion=squared_error, max_depth=15, min_samples_leaf=6, min_samples_split=4;, score=0.854 total time=   3.3s\n",
      "[CV 2/5] END criterion=squared_error, max_depth=15, min_samples_leaf=6, min_samples_split=4;, score=0.856 total time=   3.4s\n",
      "[CV 3/5] END criterion=squared_error, max_depth=15, min_samples_leaf=6, min_samples_split=4;, score=0.853 total time=   3.0s\n",
      "[CV 4/5] END criterion=squared_error, max_depth=15, min_samples_leaf=6, min_samples_split=4;, score=0.842 total time=   2.8s\n",
      "[CV 5/5] END criterion=squared_error, max_depth=15, min_samples_leaf=6, min_samples_split=4;, score=0.858 total time=   3.5s\n",
      "[CV 1/5] END criterion=squared_error, max_depth=15, min_samples_leaf=6, min_samples_split=6;, score=0.854 total time=   3.4s\n",
      "[CV 2/5] END criterion=squared_error, max_depth=15, min_samples_leaf=6, min_samples_split=6;, score=0.856 total time=   3.5s\n",
      "[CV 3/5] END criterion=squared_error, max_depth=15, min_samples_leaf=6, min_samples_split=6;, score=0.853 total time=   3.2s\n",
      "[CV 4/5] END criterion=squared_error, max_depth=15, min_samples_leaf=6, min_samples_split=6;, score=0.843 total time=   3.2s\n",
      "[CV 5/5] END criterion=squared_error, max_depth=15, min_samples_leaf=6, min_samples_split=6;, score=0.858 total time=   3.5s\n",
      "[CV 1/5] END criterion=squared_error, max_depth=15, min_samples_leaf=6, min_samples_split=8;, score=0.852 total time=   3.6s\n",
      "[CV 2/5] END criterion=squared_error, max_depth=15, min_samples_leaf=6, min_samples_split=8;, score=0.856 total time=   3.5s\n",
      "[CV 3/5] END criterion=squared_error, max_depth=15, min_samples_leaf=6, min_samples_split=8;, score=0.853 total time=   2.4s\n",
      "[CV 4/5] END criterion=squared_error, max_depth=15, min_samples_leaf=6, min_samples_split=8;, score=0.842 total time=   3.4s\n",
      "[CV 5/5] END criterion=squared_error, max_depth=15, min_samples_leaf=6, min_samples_split=8;, score=0.859 total time=   3.3s\n",
      "[CV 1/5] END criterion=squared_error, max_depth=15, min_samples_leaf=8, min_samples_split=2;, score=0.850 total time=   3.2s\n",
      "[CV 2/5] END criterion=squared_error, max_depth=15, min_samples_leaf=8, min_samples_split=2;, score=0.855 total time=   3.2s\n",
      "[CV 3/5] END criterion=squared_error, max_depth=15, min_samples_leaf=8, min_samples_split=2;, score=0.848 total time=   2.7s\n",
      "[CV 4/5] END criterion=squared_error, max_depth=15, min_samples_leaf=8, min_samples_split=2;, score=0.847 total time=   2.9s\n",
      "[CV 5/5] END criterion=squared_error, max_depth=15, min_samples_leaf=8, min_samples_split=2;, score=0.859 total time=   3.3s\n",
      "[CV 1/5] END criterion=squared_error, max_depth=15, min_samples_leaf=8, min_samples_split=4;, score=0.850 total time=   3.5s\n",
      "[CV 2/5] END criterion=squared_error, max_depth=15, min_samples_leaf=8, min_samples_split=4;, score=0.855 total time=   3.4s\n",
      "[CV 3/5] END criterion=squared_error, max_depth=15, min_samples_leaf=8, min_samples_split=4;, score=0.847 total time=   2.9s\n",
      "[CV 4/5] END criterion=squared_error, max_depth=15, min_samples_leaf=8, min_samples_split=4;, score=0.847 total time=   3.5s\n",
      "[CV 5/5] END criterion=squared_error, max_depth=15, min_samples_leaf=8, min_samples_split=4;, score=0.859 total time=   3.2s\n",
      "[CV 1/5] END criterion=squared_error, max_depth=15, min_samples_leaf=8, min_samples_split=6;, score=0.850 total time=   3.4s\n",
      "[CV 2/5] END criterion=squared_error, max_depth=15, min_samples_leaf=8, min_samples_split=6;, score=0.855 total time=   3.1s\n",
      "[CV 3/5] END criterion=squared_error, max_depth=15, min_samples_leaf=8, min_samples_split=6;, score=0.847 total time=   3.0s\n",
      "[CV 4/5] END criterion=squared_error, max_depth=15, min_samples_leaf=8, min_samples_split=6;, score=0.847 total time=   3.5s\n",
      "[CV 5/5] END criterion=squared_error, max_depth=15, min_samples_leaf=8, min_samples_split=6;, score=0.859 total time=   3.1s\n",
      "[CV 1/5] END criterion=squared_error, max_depth=15, min_samples_leaf=8, min_samples_split=8;, score=0.851 total time=   2.6s\n",
      "[CV 2/5] END criterion=squared_error, max_depth=15, min_samples_leaf=8, min_samples_split=8;, score=0.853 total time=   2.8s\n",
      "[CV 3/5] END criterion=squared_error, max_depth=15, min_samples_leaf=8, min_samples_split=8;, score=0.847 total time=   2.4s\n"
     ]
    },
    {
     "name": "stdout",
     "output_type": "stream",
     "text": [
      "[CV 4/5] END criterion=squared_error, max_depth=15, min_samples_leaf=8, min_samples_split=8;, score=0.847 total time=   2.9s\n",
      "[CV 5/5] END criterion=squared_error, max_depth=15, min_samples_leaf=8, min_samples_split=8;, score=0.859 total time=   2.9s\n",
      "[CV 1/5] END criterion=squared_error, max_depth=20, min_samples_leaf=1, min_samples_split=2;, score=0.846 total time=   5.1s\n",
      "[CV 2/5] END criterion=squared_error, max_depth=20, min_samples_leaf=1, min_samples_split=2;, score=0.863 total time=   5.0s\n",
      "[CV 3/5] END criterion=squared_error, max_depth=20, min_samples_leaf=1, min_samples_split=2;, score=0.862 total time=   6.1s\n",
      "[CV 4/5] END criterion=squared_error, max_depth=20, min_samples_leaf=1, min_samples_split=2;, score=0.839 total time=   5.9s\n",
      "[CV 5/5] END criterion=squared_error, max_depth=20, min_samples_leaf=1, min_samples_split=2;, score=0.861 total time=   5.6s\n",
      "[CV 1/5] END criterion=squared_error, max_depth=20, min_samples_leaf=1, min_samples_split=4;, score=0.851 total time=   5.7s\n",
      "[CV 2/5] END criterion=squared_error, max_depth=20, min_samples_leaf=1, min_samples_split=4;, score=0.855 total time=   5.8s\n",
      "[CV 3/5] END criterion=squared_error, max_depth=20, min_samples_leaf=1, min_samples_split=4;, score=0.857 total time=   5.5s\n",
      "[CV 4/5] END criterion=squared_error, max_depth=20, min_samples_leaf=1, min_samples_split=4;, score=0.848 total time=   5.7s\n",
      "[CV 5/5] END criterion=squared_error, max_depth=20, min_samples_leaf=1, min_samples_split=4;, score=0.862 total time=   5.2s\n",
      "[CV 1/5] END criterion=squared_error, max_depth=20, min_samples_leaf=1, min_samples_split=6;, score=0.846 total time=   5.0s\n",
      "[CV 2/5] END criterion=squared_error, max_depth=20, min_samples_leaf=1, min_samples_split=6;, score=0.865 total time=   5.6s\n",
      "[CV 3/5] END criterion=squared_error, max_depth=20, min_samples_leaf=1, min_samples_split=6;, score=0.866 total time=   5.1s\n",
      "[CV 4/5] END criterion=squared_error, max_depth=20, min_samples_leaf=1, min_samples_split=6;, score=0.843 total time=   4.6s\n",
      "[CV 5/5] END criterion=squared_error, max_depth=20, min_samples_leaf=1, min_samples_split=6;, score=0.862 total time=   4.5s\n",
      "[CV 1/5] END criterion=squared_error, max_depth=20, min_samples_leaf=1, min_samples_split=8;, score=0.843 total time=   4.2s\n",
      "[CV 2/5] END criterion=squared_error, max_depth=20, min_samples_leaf=1, min_samples_split=8;, score=0.856 total time=   4.2s\n",
      "[CV 3/5] END criterion=squared_error, max_depth=20, min_samples_leaf=1, min_samples_split=8;, score=0.863 total time=   4.6s\n",
      "[CV 4/5] END criterion=squared_error, max_depth=20, min_samples_leaf=1, min_samples_split=8;, score=0.846 total time=   4.4s\n",
      "[CV 5/5] END criterion=squared_error, max_depth=20, min_samples_leaf=1, min_samples_split=8;, score=0.864 total time=   4.4s\n",
      "[CV 1/5] END criterion=squared_error, max_depth=20, min_samples_leaf=2, min_samples_split=2;, score=0.848 total time=   4.6s\n",
      "[CV 2/5] END criterion=squared_error, max_depth=20, min_samples_leaf=2, min_samples_split=2;, score=0.868 total time=   4.7s\n",
      "[CV 3/5] END criterion=squared_error, max_depth=20, min_samples_leaf=2, min_samples_split=2;, score=0.865 total time=   4.5s\n",
      "[CV 4/5] END criterion=squared_error, max_depth=20, min_samples_leaf=2, min_samples_split=2;, score=0.842 total time=   3.7s\n",
      "[CV 5/5] END criterion=squared_error, max_depth=20, min_samples_leaf=2, min_samples_split=2;, score=0.862 total time=   4.3s\n",
      "[CV 1/5] END criterion=squared_error, max_depth=20, min_samples_leaf=2, min_samples_split=4;, score=0.852 total time=   3.7s\n",
      "[CV 2/5] END criterion=squared_error, max_depth=20, min_samples_leaf=2, min_samples_split=4;, score=0.871 total time=   4.1s\n",
      "[CV 3/5] END criterion=squared_error, max_depth=20, min_samples_leaf=2, min_samples_split=4;, score=0.857 total time=   4.1s\n",
      "[CV 4/5] END criterion=squared_error, max_depth=20, min_samples_leaf=2, min_samples_split=4;, score=0.843 total time=   4.6s\n",
      "[CV 5/5] END criterion=squared_error, max_depth=20, min_samples_leaf=2, min_samples_split=4;, score=0.862 total time=   4.7s\n",
      "[CV 1/5] END criterion=squared_error, max_depth=20, min_samples_leaf=2, min_samples_split=6;, score=0.848 total time=   4.4s\n",
      "[CV 2/5] END criterion=squared_error, max_depth=20, min_samples_leaf=2, min_samples_split=6;, score=0.867 total time=   4.5s\n",
      "[CV 3/5] END criterion=squared_error, max_depth=20, min_samples_leaf=2, min_samples_split=6;, score=0.862 total time=   4.7s\n",
      "[CV 4/5] END criterion=squared_error, max_depth=20, min_samples_leaf=2, min_samples_split=6;, score=0.845 total time=   4.8s\n",
      "[CV 5/5] END criterion=squared_error, max_depth=20, min_samples_leaf=2, min_samples_split=6;, score=0.865 total time=   3.8s\n",
      "[CV 1/5] END criterion=squared_error, max_depth=20, min_samples_leaf=2, min_samples_split=8;, score=0.847 total time=   4.4s\n",
      "[CV 2/5] END criterion=squared_error, max_depth=20, min_samples_leaf=2, min_samples_split=8;, score=0.868 total time=   4.9s\n",
      "[CV 3/5] END criterion=squared_error, max_depth=20, min_samples_leaf=2, min_samples_split=8;, score=0.862 total time=   4.3s\n",
      "[CV 4/5] END criterion=squared_error, max_depth=20, min_samples_leaf=2, min_samples_split=8;, score=0.845 total time=   4.4s\n",
      "[CV 5/5] END criterion=squared_error, max_depth=20, min_samples_leaf=2, min_samples_split=8;, score=0.867 total time=   4.4s\n",
      "[CV 1/5] END criterion=squared_error, max_depth=20, min_samples_leaf=4, min_samples_split=2;, score=0.840 total time=   4.2s\n",
      "[CV 2/5] END criterion=squared_error, max_depth=20, min_samples_leaf=4, min_samples_split=2;, score=0.859 total time=   3.7s\n",
      "[CV 3/5] END criterion=squared_error, max_depth=20, min_samples_leaf=4, min_samples_split=2;, score=0.857 total time=   4.1s\n",
      "[CV 4/5] END criterion=squared_error, max_depth=20, min_samples_leaf=4, min_samples_split=2;, score=0.849 total time=   4.8s\n",
      "[CV 5/5] END criterion=squared_error, max_depth=20, min_samples_leaf=4, min_samples_split=2;, score=0.865 total time=   4.4s\n",
      "[CV 1/5] END criterion=squared_error, max_depth=20, min_samples_leaf=4, min_samples_split=4;, score=0.841 total time=   3.4s\n",
      "[CV 2/5] END criterion=squared_error, max_depth=20, min_samples_leaf=4, min_samples_split=4;, score=0.859 total time=   4.3s\n",
      "[CV 3/5] END criterion=squared_error, max_depth=20, min_samples_leaf=4, min_samples_split=4;, score=0.855 total time=   4.6s\n",
      "[CV 4/5] END criterion=squared_error, max_depth=20, min_samples_leaf=4, min_samples_split=4;, score=0.848 total time=   4.2s\n",
      "[CV 5/5] END criterion=squared_error, max_depth=20, min_samples_leaf=4, min_samples_split=4;, score=0.863 total time=   4.2s\n",
      "[CV 1/5] END criterion=squared_error, max_depth=20, min_samples_leaf=4, min_samples_split=6;, score=0.840 total time=   4.6s\n",
      "[CV 2/5] END criterion=squared_error, max_depth=20, min_samples_leaf=4, min_samples_split=6;, score=0.859 total time=   4.2s\n",
      "[CV 3/5] END criterion=squared_error, max_depth=20, min_samples_leaf=4, min_samples_split=6;, score=0.856 total time=   3.8s\n",
      "[CV 4/5] END criterion=squared_error, max_depth=20, min_samples_leaf=4, min_samples_split=6;, score=0.848 total time=   4.1s\n",
      "[CV 5/5] END criterion=squared_error, max_depth=20, min_samples_leaf=4, min_samples_split=6;, score=0.866 total time=   4.3s\n",
      "[CV 1/5] END criterion=squared_error, max_depth=20, min_samples_leaf=4, min_samples_split=8;, score=0.840 total time=   4.6s\n",
      "[CV 2/5] END criterion=squared_error, max_depth=20, min_samples_leaf=4, min_samples_split=8;, score=0.860 total time=   3.8s\n",
      "[CV 3/5] END criterion=squared_error, max_depth=20, min_samples_leaf=4, min_samples_split=8;, score=0.857 total time=   4.3s\n",
      "[CV 4/5] END criterion=squared_error, max_depth=20, min_samples_leaf=4, min_samples_split=8;, score=0.850 total time=   4.8s\n",
      "[CV 5/5] END criterion=squared_error, max_depth=20, min_samples_leaf=4, min_samples_split=8;, score=0.864 total time=   4.1s\n",
      "[CV 1/5] END criterion=squared_error, max_depth=20, min_samples_leaf=6, min_samples_split=2;, score=0.853 total time=   4.0s\n",
      "[CV 2/5] END criterion=squared_error, max_depth=20, min_samples_leaf=6, min_samples_split=2;, score=0.857 total time=   3.6s\n",
      "[CV 3/5] END criterion=squared_error, max_depth=20, min_samples_leaf=6, min_samples_split=2;, score=0.854 total time=   4.2s\n",
      "[CV 4/5] END criterion=squared_error, max_depth=20, min_samples_leaf=6, min_samples_split=2;, score=0.843 total time=   4.0s\n"
     ]
    },
    {
     "name": "stdout",
     "output_type": "stream",
     "text": [
      "[CV 5/5] END criterion=squared_error, max_depth=20, min_samples_leaf=6, min_samples_split=2;, score=0.858 total time=   3.9s\n",
      "[CV 1/5] END criterion=squared_error, max_depth=20, min_samples_leaf=6, min_samples_split=4;, score=0.855 total time=   3.9s\n",
      "[CV 2/5] END criterion=squared_error, max_depth=20, min_samples_leaf=6, min_samples_split=4;, score=0.857 total time=   4.0s\n",
      "[CV 3/5] END criterion=squared_error, max_depth=20, min_samples_leaf=6, min_samples_split=4;, score=0.854 total time=   3.9s\n",
      "[CV 4/5] END criterion=squared_error, max_depth=20, min_samples_leaf=6, min_samples_split=4;, score=0.843 total time=   3.9s\n",
      "[CV 5/5] END criterion=squared_error, max_depth=20, min_samples_leaf=6, min_samples_split=4;, score=0.857 total time=   3.9s\n",
      "[CV 1/5] END criterion=squared_error, max_depth=20, min_samples_leaf=6, min_samples_split=6;, score=0.853 total time=   3.9s\n",
      "[CV 2/5] END criterion=squared_error, max_depth=20, min_samples_leaf=6, min_samples_split=6;, score=0.857 total time=   3.3s\n",
      "[CV 3/5] END criterion=squared_error, max_depth=20, min_samples_leaf=6, min_samples_split=6;, score=0.855 total time=   3.7s\n",
      "[CV 4/5] END criterion=squared_error, max_depth=20, min_samples_leaf=6, min_samples_split=6;, score=0.843 total time=   3.9s\n",
      "[CV 5/5] END criterion=squared_error, max_depth=20, min_samples_leaf=6, min_samples_split=6;, score=0.858 total time=   3.9s\n",
      "[CV 1/5] END criterion=squared_error, max_depth=20, min_samples_leaf=6, min_samples_split=8;, score=0.853 total time=   3.7s\n",
      "[CV 2/5] END criterion=squared_error, max_depth=20, min_samples_leaf=6, min_samples_split=8;, score=0.856 total time=   4.1s\n",
      "[CV 3/5] END criterion=squared_error, max_depth=20, min_samples_leaf=6, min_samples_split=8;, score=0.855 total time=   3.9s\n",
      "[CV 4/5] END criterion=squared_error, max_depth=20, min_samples_leaf=6, min_samples_split=8;, score=0.843 total time=   3.8s\n",
      "[CV 5/5] END criterion=squared_error, max_depth=20, min_samples_leaf=6, min_samples_split=8;, score=0.858 total time=   3.7s\n",
      "[CV 1/5] END criterion=squared_error, max_depth=20, min_samples_leaf=8, min_samples_split=2;, score=0.852 total time=   3.1s\n",
      "[CV 2/5] END criterion=squared_error, max_depth=20, min_samples_leaf=8, min_samples_split=2;, score=0.855 total time=   3.6s\n",
      "[CV 3/5] END criterion=squared_error, max_depth=20, min_samples_leaf=8, min_samples_split=2;, score=0.850 total time=   4.1s\n",
      "[CV 4/5] END criterion=squared_error, max_depth=20, min_samples_leaf=8, min_samples_split=2;, score=0.845 total time=   3.8s\n",
      "[CV 5/5] END criterion=squared_error, max_depth=20, min_samples_leaf=8, min_samples_split=2;, score=0.858 total time=   3.6s\n",
      "[CV 1/5] END criterion=squared_error, max_depth=20, min_samples_leaf=8, min_samples_split=4;, score=0.852 total time=   3.6s\n",
      "[CV 2/5] END criterion=squared_error, max_depth=20, min_samples_leaf=8, min_samples_split=4;, score=0.856 total time=   3.7s\n",
      "[CV 3/5] END criterion=squared_error, max_depth=20, min_samples_leaf=8, min_samples_split=4;, score=0.849 total time=   3.6s\n",
      "[CV 4/5] END criterion=squared_error, max_depth=20, min_samples_leaf=8, min_samples_split=4;, score=0.845 total time=   3.2s\n",
      "[CV 5/5] END criterion=squared_error, max_depth=20, min_samples_leaf=8, min_samples_split=4;, score=0.858 total time=   4.0s\n",
      "[CV 1/5] END criterion=squared_error, max_depth=20, min_samples_leaf=8, min_samples_split=6;, score=0.852 total time=   3.6s\n",
      "[CV 2/5] END criterion=squared_error, max_depth=20, min_samples_leaf=8, min_samples_split=6;, score=0.855 total time=   3.8s\n",
      "[CV 3/5] END criterion=squared_error, max_depth=20, min_samples_leaf=8, min_samples_split=6;, score=0.849 total time=   3.5s\n",
      "[CV 4/5] END criterion=squared_error, max_depth=20, min_samples_leaf=8, min_samples_split=6;, score=0.845 total time=   3.4s\n",
      "[CV 5/5] END criterion=squared_error, max_depth=20, min_samples_leaf=8, min_samples_split=6;, score=0.858 total time=   3.5s\n",
      "[CV 1/5] END criterion=squared_error, max_depth=20, min_samples_leaf=8, min_samples_split=8;, score=0.851 total time=   3.8s\n",
      "[CV 2/5] END criterion=squared_error, max_depth=20, min_samples_leaf=8, min_samples_split=8;, score=0.856 total time=   3.5s\n",
      "[CV 3/5] END criterion=squared_error, max_depth=20, min_samples_leaf=8, min_samples_split=8;, score=0.850 total time=   3.2s\n",
      "[CV 4/5] END criterion=squared_error, max_depth=20, min_samples_leaf=8, min_samples_split=8;, score=0.845 total time=   3.5s\n",
      "[CV 5/5] END criterion=squared_error, max_depth=20, min_samples_leaf=8, min_samples_split=8;, score=0.858 total time=   3.9s\n",
      "[CV 1/5] END criterion=squared_error, max_depth=25, min_samples_leaf=1, min_samples_split=2;, score=0.843 total time=   6.4s\n",
      "[CV 2/5] END criterion=squared_error, max_depth=25, min_samples_leaf=1, min_samples_split=2;, score=0.863 total time=   6.8s\n",
      "[CV 3/5] END criterion=squared_error, max_depth=25, min_samples_leaf=1, min_samples_split=2;, score=0.862 total time=   7.6s\n",
      "[CV 4/5] END criterion=squared_error, max_depth=25, min_samples_leaf=1, min_samples_split=2;, score=0.836 total time=   7.2s\n",
      "[CV 5/5] END criterion=squared_error, max_depth=25, min_samples_leaf=1, min_samples_split=2;, score=0.857 total time=   7.3s\n",
      "[CV 1/5] END criterion=squared_error, max_depth=25, min_samples_leaf=1, min_samples_split=4;, score=0.842 total time=   6.2s\n",
      "[CV 2/5] END criterion=squared_error, max_depth=25, min_samples_leaf=1, min_samples_split=4;, score=0.864 total time=   6.7s\n",
      "[CV 3/5] END criterion=squared_error, max_depth=25, min_samples_leaf=1, min_samples_split=4;, score=0.865 total time=   5.8s\n",
      "[CV 4/5] END criterion=squared_error, max_depth=25, min_samples_leaf=1, min_samples_split=4;, score=0.840 total time=   6.3s\n",
      "[CV 5/5] END criterion=squared_error, max_depth=25, min_samples_leaf=1, min_samples_split=4;, score=0.860 total time=   6.7s\n",
      "[CV 1/5] END criterion=squared_error, max_depth=25, min_samples_leaf=1, min_samples_split=6;, score=0.839 total time=   5.6s\n",
      "[CV 2/5] END criterion=squared_error, max_depth=25, min_samples_leaf=1, min_samples_split=6;, score=0.858 total time=   5.7s\n",
      "[CV 3/5] END criterion=squared_error, max_depth=25, min_samples_leaf=1, min_samples_split=6;, score=0.864 total time=   5.7s\n",
      "[CV 4/5] END criterion=squared_error, max_depth=25, min_samples_leaf=1, min_samples_split=6;, score=0.843 total time=   5.3s\n",
      "[CV 5/5] END criterion=squared_error, max_depth=25, min_samples_leaf=1, min_samples_split=6;, score=0.861 total time=   6.2s\n",
      "[CV 1/5] END criterion=squared_error, max_depth=25, min_samples_leaf=1, min_samples_split=8;, score=0.844 total time=   5.2s\n",
      "[CV 2/5] END criterion=squared_error, max_depth=25, min_samples_leaf=1, min_samples_split=8;, score=0.856 total time=   5.5s\n",
      "[CV 3/5] END criterion=squared_error, max_depth=25, min_samples_leaf=1, min_samples_split=8;, score=0.861 total time=   5.6s\n",
      "[CV 4/5] END criterion=squared_error, max_depth=25, min_samples_leaf=1, min_samples_split=8;, score=0.844 total time=   4.8s\n",
      "[CV 5/5] END criterion=squared_error, max_depth=25, min_samples_leaf=1, min_samples_split=8;, score=0.866 total time=   5.1s\n",
      "[CV 1/5] END criterion=squared_error, max_depth=25, min_samples_leaf=2, min_samples_split=2;, score=0.849 total time=   6.3s\n",
      "[CV 2/5] END criterion=squared_error, max_depth=25, min_samples_leaf=2, min_samples_split=2;, score=0.865 total time=   5.0s\n",
      "[CV 3/5] END criterion=squared_error, max_depth=25, min_samples_leaf=2, min_samples_split=2;, score=0.864 total time=   6.4s\n",
      "[CV 4/5] END criterion=squared_error, max_depth=25, min_samples_leaf=2, min_samples_split=2;, score=0.837 total time=   6.4s\n",
      "[CV 5/5] END criterion=squared_error, max_depth=25, min_samples_leaf=2, min_samples_split=2;, score=0.864 total time=   5.1s\n",
      "[CV 1/5] END criterion=squared_error, max_depth=25, min_samples_leaf=2, min_samples_split=4;, score=0.850 total time=   5.8s\n",
      "[CV 2/5] END criterion=squared_error, max_depth=25, min_samples_leaf=2, min_samples_split=4;, score=0.865 total time=   5.9s\n",
      "[CV 3/5] END criterion=squared_error, max_depth=25, min_samples_leaf=2, min_samples_split=4;, score=0.863 total time=   5.1s\n",
      "[CV 4/5] END criterion=squared_error, max_depth=25, min_samples_leaf=2, min_samples_split=4;, score=0.838 total time=   6.2s\n",
      "[CV 5/5] END criterion=squared_error, max_depth=25, min_samples_leaf=2, min_samples_split=4;, score=0.866 total time=   5.6s\n"
     ]
    },
    {
     "name": "stdout",
     "output_type": "stream",
     "text": [
      "[CV 1/5] END criterion=squared_error, max_depth=25, min_samples_leaf=2, min_samples_split=6;, score=0.844 total time=   5.8s\n",
      "[CV 2/5] END criterion=squared_error, max_depth=25, min_samples_leaf=2, min_samples_split=6;, score=0.866 total time=   5.9s\n",
      "[CV 3/5] END criterion=squared_error, max_depth=25, min_samples_leaf=2, min_samples_split=6;, score=0.861 total time=   5.1s\n",
      "[CV 4/5] END criterion=squared_error, max_depth=25, min_samples_leaf=2, min_samples_split=6;, score=0.842 total time=   5.5s\n",
      "[CV 5/5] END criterion=squared_error, max_depth=25, min_samples_leaf=2, min_samples_split=6;, score=0.861 total time=   5.5s\n",
      "[CV 1/5] END criterion=squared_error, max_depth=25, min_samples_leaf=2, min_samples_split=8;, score=0.846 total time=   5.3s\n",
      "[CV 2/5] END criterion=squared_error, max_depth=25, min_samples_leaf=2, min_samples_split=8;, score=0.869 total time=   5.1s\n",
      "[CV 3/5] END criterion=squared_error, max_depth=25, min_samples_leaf=2, min_samples_split=8;, score=0.862 total time=   5.4s\n",
      "[CV 4/5] END criterion=squared_error, max_depth=25, min_samples_leaf=2, min_samples_split=8;, score=0.848 total time=   4.8s\n",
      "[CV 5/5] END criterion=squared_error, max_depth=25, min_samples_leaf=2, min_samples_split=8;, score=0.868 total time=   5.3s\n",
      "[CV 1/5] END criterion=squared_error, max_depth=25, min_samples_leaf=4, min_samples_split=2;, score=0.841 total time=   5.5s\n",
      "[CV 2/5] END criterion=squared_error, max_depth=25, min_samples_leaf=4, min_samples_split=2;, score=0.859 total time=   4.5s\n",
      "[CV 3/5] END criterion=squared_error, max_depth=25, min_samples_leaf=4, min_samples_split=2;, score=0.856 total time=   5.1s\n",
      "[CV 4/5] END criterion=squared_error, max_depth=25, min_samples_leaf=4, min_samples_split=2;, score=0.848 total time=   5.0s\n",
      "[CV 5/5] END criterion=squared_error, max_depth=25, min_samples_leaf=4, min_samples_split=2;, score=0.864 total time=   4.5s\n",
      "[CV 1/5] END criterion=squared_error, max_depth=25, min_samples_leaf=4, min_samples_split=4;, score=0.842 total time=   4.8s\n",
      "[CV 2/5] END criterion=squared_error, max_depth=25, min_samples_leaf=4, min_samples_split=4;, score=0.859 total time=   5.2s\n",
      "[CV 3/5] END criterion=squared_error, max_depth=25, min_samples_leaf=4, min_samples_split=4;, score=0.856 total time=   4.9s\n",
      "[CV 4/5] END criterion=squared_error, max_depth=25, min_samples_leaf=4, min_samples_split=4;, score=0.851 total time=   4.6s\n",
      "[CV 5/5] END criterion=squared_error, max_depth=25, min_samples_leaf=4, min_samples_split=4;, score=0.868 total time=   5.1s\n",
      "[CV 1/5] END criterion=squared_error, max_depth=25, min_samples_leaf=4, min_samples_split=6;, score=0.839 total time=   5.0s\n",
      "[CV 2/5] END criterion=squared_error, max_depth=25, min_samples_leaf=4, min_samples_split=6;, score=0.858 total time=   4.6s\n",
      "[CV 3/5] END criterion=squared_error, max_depth=25, min_samples_leaf=4, min_samples_split=6;, score=0.855 total time=   4.8s\n",
      "[CV 4/5] END criterion=squared_error, max_depth=25, min_samples_leaf=4, min_samples_split=6;, score=0.850 total time=   5.2s\n",
      "[CV 5/5] END criterion=squared_error, max_depth=25, min_samples_leaf=4, min_samples_split=6;, score=0.868 total time=   4.0s\n",
      "[CV 1/5] END criterion=squared_error, max_depth=25, min_samples_leaf=4, min_samples_split=8;, score=0.840 total time=   5.1s\n",
      "[CV 2/5] END criterion=squared_error, max_depth=25, min_samples_leaf=4, min_samples_split=8;, score=0.859 total time=   5.2s\n",
      "[CV 3/5] END criterion=squared_error, max_depth=25, min_samples_leaf=4, min_samples_split=8;, score=0.856 total time=   4.5s\n",
      "[CV 4/5] END criterion=squared_error, max_depth=25, min_samples_leaf=4, min_samples_split=8;, score=0.848 total time=   4.9s\n",
      "[CV 5/5] END criterion=squared_error, max_depth=25, min_samples_leaf=4, min_samples_split=8;, score=0.864 total time=   5.0s\n",
      "[CV 1/5] END criterion=squared_error, max_depth=25, min_samples_leaf=6, min_samples_split=2;, score=0.854 total time=   4.3s\n",
      "[CV 2/5] END criterion=squared_error, max_depth=25, min_samples_leaf=6, min_samples_split=2;, score=0.857 total time=   3.7s\n",
      "[CV 3/5] END criterion=squared_error, max_depth=25, min_samples_leaf=6, min_samples_split=2;, score=0.855 total time=   4.5s\n",
      "[CV 4/5] END criterion=squared_error, max_depth=25, min_samples_leaf=6, min_samples_split=2;, score=0.841 total time=   4.3s\n",
      "[CV 5/5] END criterion=squared_error, max_depth=25, min_samples_leaf=6, min_samples_split=2;, score=0.858 total time=   3.9s\n",
      "[CV 1/5] END criterion=squared_error, max_depth=25, min_samples_leaf=6, min_samples_split=4;, score=0.854 total time=   4.1s\n",
      "[CV 2/5] END criterion=squared_error, max_depth=25, min_samples_leaf=6, min_samples_split=4;, score=0.857 total time=   4.7s\n",
      "[CV 3/5] END criterion=squared_error, max_depth=25, min_samples_leaf=6, min_samples_split=4;, score=0.855 total time=   4.6s\n",
      "[CV 4/5] END criterion=squared_error, max_depth=25, min_samples_leaf=6, min_samples_split=4;, score=0.843 total time=   3.7s\n",
      "[CV 5/5] END criterion=squared_error, max_depth=25, min_samples_leaf=6, min_samples_split=4;, score=0.858 total time=   4.6s\n",
      "[CV 1/5] END criterion=squared_error, max_depth=25, min_samples_leaf=6, min_samples_split=6;, score=0.854 total time=   4.5s\n",
      "[CV 2/5] END criterion=squared_error, max_depth=25, min_samples_leaf=6, min_samples_split=6;, score=0.856 total time=   4.2s\n",
      "[CV 3/5] END criterion=squared_error, max_depth=25, min_samples_leaf=6, min_samples_split=6;, score=0.855 total time=   4.0s\n",
      "[CV 4/5] END criterion=squared_error, max_depth=25, min_samples_leaf=6, min_samples_split=6;, score=0.842 total time=   4.5s\n",
      "[CV 5/5] END criterion=squared_error, max_depth=25, min_samples_leaf=6, min_samples_split=6;, score=0.858 total time=   4.5s\n",
      "[CV 1/5] END criterion=squared_error, max_depth=25, min_samples_leaf=6, min_samples_split=8;, score=0.853 total time=   4.2s\n",
      "[CV 2/5] END criterion=squared_error, max_depth=25, min_samples_leaf=6, min_samples_split=8;, score=0.856 total time=   4.3s\n",
      "[CV 3/5] END criterion=squared_error, max_depth=25, min_samples_leaf=6, min_samples_split=8;, score=0.855 total time=   4.5s\n",
      "[CV 4/5] END criterion=squared_error, max_depth=25, min_samples_leaf=6, min_samples_split=8;, score=0.843 total time=   4.6s\n",
      "[CV 5/5] END criterion=squared_error, max_depth=25, min_samples_leaf=6, min_samples_split=8;, score=0.857 total time=   3.8s\n",
      "[CV 1/5] END criterion=squared_error, max_depth=25, min_samples_leaf=8, min_samples_split=2;, score=0.852 total time=   4.1s\n",
      "[CV 2/5] END criterion=squared_error, max_depth=25, min_samples_leaf=8, min_samples_split=2;, score=0.855 total time=   4.2s\n",
      "[CV 3/5] END criterion=squared_error, max_depth=25, min_samples_leaf=8, min_samples_split=2;, score=0.850 total time=   4.1s\n",
      "[CV 4/5] END criterion=squared_error, max_depth=25, min_samples_leaf=8, min_samples_split=2;, score=0.845 total time=   3.6s\n",
      "[CV 5/5] END criterion=squared_error, max_depth=25, min_samples_leaf=8, min_samples_split=2;, score=0.858 total time=   4.4s\n",
      "[CV 1/5] END criterion=squared_error, max_depth=25, min_samples_leaf=8, min_samples_split=4;, score=0.851 total time=   4.1s\n",
      "[CV 2/5] END criterion=squared_error, max_depth=25, min_samples_leaf=8, min_samples_split=4;, score=0.856 total time=   3.8s\n",
      "[CV 3/5] END criterion=squared_error, max_depth=25, min_samples_leaf=8, min_samples_split=4;, score=0.849 total time=   3.5s\n",
      "[CV 4/5] END criterion=squared_error, max_depth=25, min_samples_leaf=8, min_samples_split=4;, score=0.845 total time=   4.2s\n",
      "[CV 5/5] END criterion=squared_error, max_depth=25, min_samples_leaf=8, min_samples_split=4;, score=0.858 total time=   4.1s\n",
      "[CV 1/5] END criterion=squared_error, max_depth=25, min_samples_leaf=8, min_samples_split=6;, score=0.851 total time=   4.0s\n",
      "[CV 2/5] END criterion=squared_error, max_depth=25, min_samples_leaf=8, min_samples_split=6;, score=0.855 total time=   3.8s\n",
      "[CV 3/5] END criterion=squared_error, max_depth=25, min_samples_leaf=8, min_samples_split=6;, score=0.850 total time=   4.1s\n",
      "[CV 4/5] END criterion=squared_error, max_depth=25, min_samples_leaf=8, min_samples_split=6;, score=0.845 total time=   4.2s\n",
      "[CV 5/5] END criterion=squared_error, max_depth=25, min_samples_leaf=8, min_samples_split=6;, score=0.858 total time=   3.4s\n",
      "[CV 1/5] END criterion=squared_error, max_depth=25, min_samples_leaf=8, min_samples_split=8;, score=0.852 total time=   4.0s\n"
     ]
    },
    {
     "name": "stdout",
     "output_type": "stream",
     "text": [
      "[CV 2/5] END criterion=squared_error, max_depth=25, min_samples_leaf=8, min_samples_split=8;, score=0.855 total time=   4.2s\n",
      "[CV 3/5] END criterion=squared_error, max_depth=25, min_samples_leaf=8, min_samples_split=8;, score=0.850 total time=   4.1s\n",
      "[CV 4/5] END criterion=squared_error, max_depth=25, min_samples_leaf=8, min_samples_split=8;, score=0.845 total time=   3.9s\n",
      "[CV 5/5] END criterion=squared_error, max_depth=25, min_samples_leaf=8, min_samples_split=8;, score=0.857 total time=   3.9s\n"
     ]
    },
    {
     "data": {
      "text/html": [
       "<style>#sk-container-id-1 {color: black;}#sk-container-id-1 pre{padding: 0;}#sk-container-id-1 div.sk-toggleable {background-color: white;}#sk-container-id-1 label.sk-toggleable__label {cursor: pointer;display: block;width: 100%;margin-bottom: 0;padding: 0.3em;box-sizing: border-box;text-align: center;}#sk-container-id-1 label.sk-toggleable__label-arrow:before {content: \"▸\";float: left;margin-right: 0.25em;color: #696969;}#sk-container-id-1 label.sk-toggleable__label-arrow:hover:before {color: black;}#sk-container-id-1 div.sk-estimator:hover label.sk-toggleable__label-arrow:before {color: black;}#sk-container-id-1 div.sk-toggleable__content {max-height: 0;max-width: 0;overflow: hidden;text-align: left;background-color: #f0f8ff;}#sk-container-id-1 div.sk-toggleable__content pre {margin: 0.2em;color: black;border-radius: 0.25em;background-color: #f0f8ff;}#sk-container-id-1 input.sk-toggleable__control:checked~div.sk-toggleable__content {max-height: 200px;max-width: 100%;overflow: auto;}#sk-container-id-1 input.sk-toggleable__control:checked~label.sk-toggleable__label-arrow:before {content: \"▾\";}#sk-container-id-1 div.sk-estimator input.sk-toggleable__control:checked~label.sk-toggleable__label {background-color: #d4ebff;}#sk-container-id-1 div.sk-label input.sk-toggleable__control:checked~label.sk-toggleable__label {background-color: #d4ebff;}#sk-container-id-1 input.sk-hidden--visually {border: 0;clip: rect(1px 1px 1px 1px);clip: rect(1px, 1px, 1px, 1px);height: 1px;margin: -1px;overflow: hidden;padding: 0;position: absolute;width: 1px;}#sk-container-id-1 div.sk-estimator {font-family: monospace;background-color: #f0f8ff;border: 1px dotted black;border-radius: 0.25em;box-sizing: border-box;margin-bottom: 0.5em;}#sk-container-id-1 div.sk-estimator:hover {background-color: #d4ebff;}#sk-container-id-1 div.sk-parallel-item::after {content: \"\";width: 100%;border-bottom: 1px solid gray;flex-grow: 1;}#sk-container-id-1 div.sk-label:hover label.sk-toggleable__label {background-color: #d4ebff;}#sk-container-id-1 div.sk-serial::before {content: \"\";position: absolute;border-left: 1px solid gray;box-sizing: border-box;top: 0;bottom: 0;left: 50%;z-index: 0;}#sk-container-id-1 div.sk-serial {display: flex;flex-direction: column;align-items: center;background-color: white;padding-right: 0.2em;padding-left: 0.2em;position: relative;}#sk-container-id-1 div.sk-item {position: relative;z-index: 1;}#sk-container-id-1 div.sk-parallel {display: flex;align-items: stretch;justify-content: center;background-color: white;position: relative;}#sk-container-id-1 div.sk-item::before, #sk-container-id-1 div.sk-parallel-item::before {content: \"\";position: absolute;border-left: 1px solid gray;box-sizing: border-box;top: 0;bottom: 0;left: 50%;z-index: -1;}#sk-container-id-1 div.sk-parallel-item {display: flex;flex-direction: column;z-index: 1;position: relative;background-color: white;}#sk-container-id-1 div.sk-parallel-item:first-child::after {align-self: flex-end;width: 50%;}#sk-container-id-1 div.sk-parallel-item:last-child::after {align-self: flex-start;width: 50%;}#sk-container-id-1 div.sk-parallel-item:only-child::after {width: 0;}#sk-container-id-1 div.sk-dashed-wrapped {border: 1px dashed gray;margin: 0 0.4em 0.5em 0.4em;box-sizing: border-box;padding-bottom: 0.4em;background-color: white;}#sk-container-id-1 div.sk-label label {font-family: monospace;font-weight: bold;display: inline-block;line-height: 1.2em;}#sk-container-id-1 div.sk-label-container {text-align: center;}#sk-container-id-1 div.sk-container {/* jupyter's `normalize.less` sets `[hidden] { display: none; }` but bootstrap.min.css set `[hidden] { display: none !important; }` so we also need the `!important` here to be able to override the default hidden behavior on the sphinx rendered scikit-learn.org. See: https://github.com/scikit-learn/scikit-learn/issues/21755 */display: inline-block !important;position: relative;}#sk-container-id-1 div.sk-text-repr-fallback {display: none;}</style><div id=\"sk-container-id-1\" class=\"sk-top-container\"><div class=\"sk-text-repr-fallback\"><pre>GridSearchCV(cv=5, estimator=DecisionTreeRegressor(),\n",
       "             param_grid={&#x27;criterion&#x27;: [&#x27;squared_error&#x27;],\n",
       "                         &#x27;max_depth&#x27;: [10, 15, 20, 25],\n",
       "                         &#x27;min_samples_leaf&#x27;: [1, 2, 4, 6, 8],\n",
       "                         &#x27;min_samples_split&#x27;: [2, 4, 6, 8]},\n",
       "             verbose=3)</pre><b>In a Jupyter environment, please rerun this cell to show the HTML representation or trust the notebook. <br />On GitHub, the HTML representation is unable to render, please try loading this page with nbviewer.org.</b></div><div class=\"sk-container\" hidden><div class=\"sk-item sk-dashed-wrapped\"><div class=\"sk-label-container\"><div class=\"sk-label sk-toggleable\"><input class=\"sk-toggleable__control sk-hidden--visually\" id=\"sk-estimator-id-1\" type=\"checkbox\" ><label for=\"sk-estimator-id-1\" class=\"sk-toggleable__label sk-toggleable__label-arrow\">GridSearchCV</label><div class=\"sk-toggleable__content\"><pre>GridSearchCV(cv=5, estimator=DecisionTreeRegressor(),\n",
       "             param_grid={&#x27;criterion&#x27;: [&#x27;squared_error&#x27;],\n",
       "                         &#x27;max_depth&#x27;: [10, 15, 20, 25],\n",
       "                         &#x27;min_samples_leaf&#x27;: [1, 2, 4, 6, 8],\n",
       "                         &#x27;min_samples_split&#x27;: [2, 4, 6, 8]},\n",
       "             verbose=3)</pre></div></div></div><div class=\"sk-parallel\"><div class=\"sk-parallel-item\"><div class=\"sk-item\"><div class=\"sk-label-container\"><div class=\"sk-label sk-toggleable\"><input class=\"sk-toggleable__control sk-hidden--visually\" id=\"sk-estimator-id-2\" type=\"checkbox\" ><label for=\"sk-estimator-id-2\" class=\"sk-toggleable__label sk-toggleable__label-arrow\">estimator: DecisionTreeRegressor</label><div class=\"sk-toggleable__content\"><pre>DecisionTreeRegressor()</pre></div></div></div><div class=\"sk-serial\"><div class=\"sk-item\"><div class=\"sk-estimator sk-toggleable\"><input class=\"sk-toggleable__control sk-hidden--visually\" id=\"sk-estimator-id-3\" type=\"checkbox\" ><label for=\"sk-estimator-id-3\" class=\"sk-toggleable__label sk-toggleable__label-arrow\">DecisionTreeRegressor</label><div class=\"sk-toggleable__content\"><pre>DecisionTreeRegressor()</pre></div></div></div></div></div></div></div></div></div></div>"
      ],
      "text/plain": [
       "GridSearchCV(cv=5, estimator=DecisionTreeRegressor(),\n",
       "             param_grid={'criterion': ['squared_error'],\n",
       "                         'max_depth': [10, 15, 20, 25],\n",
       "                         'min_samples_leaf': [1, 2, 4, 6, 8],\n",
       "                         'min_samples_split': [2, 4, 6, 8]},\n",
       "             verbose=3)"
      ]
     },
     "execution_count": 11,
     "metadata": {},
     "output_type": "execute_result"
    }
   ],
   "source": [
    "from sklearn.model_selection import GridSearchCV\n",
    "\n",
    "##instantiate\n",
    "dtcv = DecisionTreeRegressor()\n",
    "\n",
    "# # Define the parameter grid\n",
    "paramgrid = {\n",
    "     \"max_depth\": [10,15,20,25],  #how deep the tree is allowed to go\n",
    "     \"min_samples_split\": [2, 4, 6, 8],  #minimum number of samples required to split node\n",
    "    \"min_samples_leaf\": [1, 2, 4, 6, 8],  #minimum number of samples required at leaf node\n",
    "     \"criterion\": [\"squared_error\"],  # splitting criteria squared error\n",
    " }\n",
    "\n",
    " #import gridsearchcv, link it to our pipeline and fit to our train\n",
    "gridsearch = GridSearchCV(dtcv, paramgrid,verbose=3, cv=5)\n",
    "gridsearch.fit(X_train_s, y_train)\n"
   ]
  },
  {
   "cell_type": "markdown",
   "metadata": {},
   "source": [
    "My gridsearch cross-validation has run and I can now pass that into `.best_score_` and `.best_estimator_` attributes to get my best-fitted model."
   ]
  },
  {
   "cell_type": "code",
   "execution_count": 12,
   "metadata": {},
   "outputs": [
    {
     "name": "stdout",
     "output_type": "stream",
     "text": [
      "0.8589093175667626\n",
      "DecisionTreeRegressor(max_depth=15, min_samples_leaf=2)\n"
     ]
    }
   ],
   "source": [
    "\n",
    "#get best hyperparameters and their corresponding score\n",
    "bestscore = gridsearch.best_score_\n",
    "bestmodel = gridsearch.best_estimator_\n",
    "\n",
    "print(bestscore)\n",
    "print(bestmodel)\n"
   ]
  },
  {
   "cell_type": "markdown",
   "metadata": {},
   "source": [
    "My optimal Decision Tree model here, configured with max_depth=15 & min_samples_leaf=2, shows a cross-validated score of approximately 0.86% which whilst not as good as our basic decision tree model from before has now protected us from overfitting on the training set."
   ]
  },
  {
   "cell_type": "markdown",
   "metadata": {},
   "source": [
    "### Optimised Decision Tree Regressor"
   ]
  },
  {
   "cell_type": "markdown",
   "metadata": {},
   "source": [
    "We can look at our hyperparameter-optimised Decision Tree Model more closely."
   ]
  },
  {
   "cell_type": "code",
   "execution_count": 13,
   "metadata": {},
   "outputs": [
    {
     "name": "stdout",
     "output_type": "stream",
     "text": [
      "0.9572410825727748\n",
      "0.8685520668465768\n"
     ]
    }
   ],
   "source": [
    "#instantiate\n",
    "dtbest=DecisionTreeRegressor(max_depth=15,min_samples_leaf=2)\n",
    "\n",
    "#fit\n",
    "dtbest.fit(X_train_s,y_train)\n",
    "\n",
    "# Predictions\n",
    "y_train_pred = dtbest.predict(X_train_s)\n",
    "y_val_pred = dtbest.predict(X_val_s)\n",
    "\n",
    "#Score\n",
    "#Train\n",
    "print(dtbest.score(X_train_s,y_train))\n",
    "\n",
    "#Val\n",
    "print(dtbest.score(X_val_s,y_val))"
   ]
  },
  {
   "cell_type": "markdown",
   "metadata": {},
   "source": [
    "As we can see although our train score has gone down by about 4% and our test score has gone down by about 1%. Our hyperparameters has now been well-optimised."
   ]
  },
  {
   "cell_type": "markdown",
   "metadata": {},
   "source": [
    "## Model Evaluation"
   ]
  },
  {
   "cell_type": "markdown",
   "metadata": {},
   "source": [
    "### Decision Tree Plot"
   ]
  },
  {
   "cell_type": "markdown",
   "metadata": {},
   "source": [
    "### Mean Absolute Error"
   ]
  },
  {
   "cell_type": "markdown",
   "metadata": {},
   "source": [
    "I can evaluate my Decision Tree Model using the secondary metric I set out before of mean absolute error."
   ]
  },
  {
   "cell_type": "code",
   "execution_count": 27,
   "metadata": {
    "scrolled": true
   },
   "outputs": [
    {
     "name": "stdout",
     "output_type": "stream",
     "text": [
      "\n",
      "Train MAE: 1034007\n",
      "Validation MAE: 1619810\n"
     ]
    }
   ],
   "source": [
    "from sklearn.metrics import mean_absolute_error\n",
    "\n",
    "#calculate MAE\n",
    "mae_train = mean_absolute_error(y_train, y_train_pred)\n",
    "mae_val = mean_absolute_error(y_val, y_val_pred)\n",
    "\n",
    "print(\"\\nTrain MAE:\", round(mae_train))\n",
    "print(\"Validation MAE:\",round(mae_val))"
   ]
  },
  {
   "cell_type": "markdown",
   "metadata": {},
   "source": [
    "My train MAE has a value of approximately €1,000,000, Whilst my Validation MSE has a value of about €1,600,000. These at first glance, Look like very high values but we should look closer. It is essentially saying here that my model is either over or underpredicting by around about a million each time, which for smaller valuations can be quite detrimental, If i have a player of valuation €2 million and my model is off by a million, I'm essentially slicing off half of his transfer value, but on the flip side if I had a player of value €50,000,000 and i valuate him at 49/51,000,000 my model has done a fantastic job & for that reason, we should also take into consideration the Mean Absolute Percentage Error (MAPE)."
   ]
  },
  {
   "cell_type": "code",
   "execution_count": 28,
   "metadata": {},
   "outputs": [
    {
     "name": "stdout",
     "output_type": "stream",
     "text": [
      "\n",
      "Train MAPE:20%\n",
      "Validation MAPE:32%\n"
     ]
    }
   ],
   "source": [
    "percentage_error_train = mean_absolute_error(y_train, y_train_pred) / y_train.mean() * 100\n",
    "percentage_error_val = mean_absolute_error(y_val, y_val_pred) / y_val.mean() * 100\n",
    "\n",
    "print(f\"\\nTrain MAPE:{round(percentage_error_train)}%\")\n",
    "print(f\"Validation MAPE:{round(percentage_error_val)}%\")"
   ]
  },
  {
   "cell_type": "markdown",
   "metadata": {},
   "source": [
    "As we can see, the MAPE score gives us a better relative measure of the error compared to the mean absolute error. For example, the 20% on the training set indicates that on average the models predictions deviate by around 20% from the mean valuation in the training data."
   ]
  },
  {
   "cell_type": "markdown",
   "metadata": {},
   "source": [
    "### Feature Importance"
   ]
  },
  {
   "cell_type": "markdown",
   "metadata": {},
   "source": [
    "We can analyse the importance of each feature using the .feature_importances_ attribute."
   ]
  },
  {
   "cell_type": "code",
   "execution_count": 15,
   "metadata": {},
   "outputs": [
    {
     "data": {
      "text/html": [
       "<div>\n",
       "<style scoped>\n",
       "    .dataframe tbody tr th:only-of-type {\n",
       "        vertical-align: middle;\n",
       "    }\n",
       "\n",
       "    .dataframe tbody tr th {\n",
       "        vertical-align: top;\n",
       "    }\n",
       "\n",
       "    .dataframe thead th {\n",
       "        text-align: right;\n",
       "    }\n",
       "</style>\n",
       "<table border=\"1\" class=\"dataframe\">\n",
       "  <thead>\n",
       "    <tr style=\"text-align: right;\">\n",
       "      <th></th>\n",
       "      <th>Feature</th>\n",
       "      <th>Importance</th>\n",
       "    </tr>\n",
       "  </thead>\n",
       "  <tbody>\n",
       "    <tr>\n",
       "      <th>2</th>\n",
       "      <td>highest_ever_market_value</td>\n",
       "      <td>6.870333e-01</td>\n",
       "    </tr>\n",
       "    <tr>\n",
       "      <th>3</th>\n",
       "      <td>age</td>\n",
       "      <td>8.590690e-02</td>\n",
       "    </tr>\n",
       "    <tr>\n",
       "      <th>6</th>\n",
       "      <td>year</td>\n",
       "      <td>6.789369e-02</td>\n",
       "    </tr>\n",
       "    <tr>\n",
       "      <th>11</th>\n",
       "      <td>minutes_played</td>\n",
       "      <td>5.628946e-02</td>\n",
       "    </tr>\n",
       "    <tr>\n",
       "      <th>14</th>\n",
       "      <td>national_team_players</td>\n",
       "      <td>1.981643e-02</td>\n",
       "    </tr>\n",
       "    <tr>\n",
       "      <th>...</th>\n",
       "      <td>...</td>\n",
       "      <td>...</td>\n",
       "    </tr>\n",
       "    <tr>\n",
       "      <th>71</th>\n",
       "      <td>Country_Sweden</td>\n",
       "      <td>4.245553e-06</td>\n",
       "    </tr>\n",
       "    <tr>\n",
       "      <th>46</th>\n",
       "      <td>league_id_SC1</td>\n",
       "      <td>3.491133e-06</td>\n",
       "    </tr>\n",
       "    <tr>\n",
       "      <th>48</th>\n",
       "      <td>league_id_UKR1</td>\n",
       "      <td>6.567889e-07</td>\n",
       "    </tr>\n",
       "    <tr>\n",
       "      <th>28</th>\n",
       "      <td>sub_position_Left Midfield</td>\n",
       "      <td>6.239155e-07</td>\n",
       "    </tr>\n",
       "    <tr>\n",
       "      <th>52</th>\n",
       "      <td>Country_Cote d'Ivoire</td>\n",
       "      <td>7.359757e-08</td>\n",
       "    </tr>\n",
       "  </tbody>\n",
       "</table>\n",
       "<p>75 rows × 2 columns</p>\n",
       "</div>"
      ],
      "text/plain": [
       "                       Feature    Importance\n",
       "2    highest_ever_market_value  6.870333e-01\n",
       "3                          age  8.590690e-02\n",
       "6                         year  6.789369e-02\n",
       "11              minutes_played  5.628946e-02\n",
       "14       national_team_players  1.981643e-02\n",
       "..                         ...           ...\n",
       "71              Country_Sweden  4.245553e-06\n",
       "46               league_id_SC1  3.491133e-06\n",
       "48              league_id_UKR1  6.567889e-07\n",
       "28  sub_position_Left Midfield  6.239155e-07\n",
       "52       Country_Cote d'Ivoire  7.359757e-08\n",
       "\n",
       "[75 rows x 2 columns]"
      ]
     },
     "execution_count": 15,
     "metadata": {},
     "output_type": "execute_result"
    }
   ],
   "source": [
    "#get the feature importance for my best model\n",
    "feature_importance = dtbest.feature_importances_\n",
    "\n",
    "# set up a dataframe\n",
    "importance_df = pd.DataFrame({'Feature': X_train_s.columns, 'Importance': feature_importance})\n",
    "\n",
    "#sort in desc order\n",
    "importance_df = importance_df.sort_values(by='Importance', ascending=False)\n",
    "\n",
    "#display the feature importances\n",
    "importance_df\n"
   ]
  },
  {
   "cell_type": "markdown",
   "metadata": {},
   "source": [
    "We can look at the top 10 here."
   ]
  },
  {
   "cell_type": "code",
   "execution_count": 16,
   "metadata": {
    "scrolled": false
   },
   "outputs": [
    {
     "data": {
      "text/html": [
       "<div>\n",
       "<style scoped>\n",
       "    .dataframe tbody tr th:only-of-type {\n",
       "        vertical-align: middle;\n",
       "    }\n",
       "\n",
       "    .dataframe tbody tr th {\n",
       "        vertical-align: top;\n",
       "    }\n",
       "\n",
       "    .dataframe thead th {\n",
       "        text-align: right;\n",
       "    }\n",
       "</style>\n",
       "<table border=\"1\" class=\"dataframe\">\n",
       "  <thead>\n",
       "    <tr style=\"text-align: right;\">\n",
       "      <th></th>\n",
       "      <th>Feature</th>\n",
       "      <th>Importance</th>\n",
       "    </tr>\n",
       "  </thead>\n",
       "  <tbody>\n",
       "    <tr>\n",
       "      <th>2</th>\n",
       "      <td>highest_ever_market_value</td>\n",
       "      <td>0.687033</td>\n",
       "    </tr>\n",
       "    <tr>\n",
       "      <th>3</th>\n",
       "      <td>age</td>\n",
       "      <td>0.085907</td>\n",
       "    </tr>\n",
       "    <tr>\n",
       "      <th>6</th>\n",
       "      <td>year</td>\n",
       "      <td>0.067894</td>\n",
       "    </tr>\n",
       "    <tr>\n",
       "      <th>11</th>\n",
       "      <td>minutes_played</td>\n",
       "      <td>0.056289</td>\n",
       "    </tr>\n",
       "    <tr>\n",
       "      <th>14</th>\n",
       "      <td>national_team_players</td>\n",
       "      <td>0.019816</td>\n",
       "    </tr>\n",
       "    <tr>\n",
       "      <th>5</th>\n",
       "      <td>month</td>\n",
       "      <td>0.010291</td>\n",
       "    </tr>\n",
       "    <tr>\n",
       "      <th>8</th>\n",
       "      <td>assists</td>\n",
       "      <td>0.009825</td>\n",
       "    </tr>\n",
       "    <tr>\n",
       "      <th>7</th>\n",
       "      <td>goals</td>\n",
       "      <td>0.009125</td>\n",
       "    </tr>\n",
       "    <tr>\n",
       "      <th>13</th>\n",
       "      <td>net_transfer_record</td>\n",
       "      <td>0.007747</td>\n",
       "    </tr>\n",
       "    <tr>\n",
       "      <th>12</th>\n",
       "      <td>player_club_id</td>\n",
       "      <td>0.007443</td>\n",
       "    </tr>\n",
       "  </tbody>\n",
       "</table>\n",
       "</div>"
      ],
      "text/plain": [
       "                      Feature  Importance\n",
       "2   highest_ever_market_value    0.687033\n",
       "3                         age    0.085907\n",
       "6                        year    0.067894\n",
       "11             minutes_played    0.056289\n",
       "14      national_team_players    0.019816\n",
       "5                       month    0.010291\n",
       "8                     assists    0.009825\n",
       "7                       goals    0.009125\n",
       "13        net_transfer_record    0.007747\n",
       "12             player_club_id    0.007443"
      ]
     },
     "execution_count": 16,
     "metadata": {},
     "output_type": "execute_result"
    }
   ],
   "source": [
    "importance_df.head(10)"
   ]
  },
  {
   "cell_type": "markdown",
   "metadata": {},
   "source": [
    "We can make a stacked bar chart to visualise this importance."
   ]
  },
  {
   "cell_type": "code",
   "execution_count": 30,
   "metadata": {},
   "outputs": [
    {
     "data": {
      "image/png": "[encoded data removed]",
      "text/plain": [
       "<Figure size 2000x1200 with 1 Axes>"
      ]
     },
     "metadata": {},
     "output_type": "display_data"
    }
   ],
   "source": [
    "#filter rows where importance  not 0\n",
    "filtered_importance_df = importance_df[importance_df['Importance'] > 0]\n",
    "\n",
    "#create stacked bar chart\n",
    "plt.figure(figsize=(20, 12))\n",
    "plt.bar(filtered_importance_df['Feature'].head(10), filtered_importance_df['Importance'].head(10), color='steelblue',edgecolor=\"black\")\n",
    "\n",
    "\n",
    "# log scale my y axis\n",
    "plt.yscale('log')\n",
    "\n",
    "#layout graphing\n",
    "plt.xlabel('Features')\n",
    "plt.ylabel('Importance')\n",
    "plt.title('Feature Importances')\n",
    "plt.xticks(rotation=45, ha='right')\n",
    "plt.tight_layout()\n",
    "plt.show()\n"
   ]
  },
  {
   "cell_type": "markdown",
   "metadata": {},
   "source": [
    "`highest_ever_market_value`: highest ever market value is the most important feature when predicting a players market value by a huge margin. "
   ]
  },
  {
   "cell_type": "markdown",
   "metadata": {},
   "source": [
    "\n",
    "`age`:\n",
    "Age ranks highest in importance, suggesting its substantial role in influencing market value predictions.\n",
    "\n",
    "`year`:\n",
    "The year is also an important temporal factor, indicating that market values are influenced by trends or changes over time.\n",
    "\n",
    "`minutes_played`:\n",
    "Playing time is a significant factor, suggesting its impact on predicting player market values.\n",
    "\n",
    "`national_team_players`:\n",
    "How many national team players a team has is also significant as better teams usually have more of them.\n",
    "\n",
    "`net_transfer_record`:\n",
    "The transfer record of the club, reflected in the net transfer record, plays a role in determining market values.\n",
    "\n",
    "`goals`:\n",
    "Goal-scoring ability is considered, indicating its influence on predicting player market values.\n",
    "\n",
    "`assists`:\n",
    "Contributions to goals through assists also contribute to predictions.\n",
    "\n",
    "`month`:\n",
    "The month may indicate periodic trends, but it holds relatively less importance compared to other features.\n",
    "\n",
    "`player_club_id`:\n",
    "The actual club id holds less information about the valuation than other certain attributes of the club which is a bit strange.\n",
    "\n",
    "These importance scores guide my understanding of which features are more influential in determining player market values and help in feature selection and further analysis."
   ]
  }
 ],
 "metadata": {
  "kernelspec": {
   "display_name": "Python 3 (ipykernel)",
   "language": "python",
   "name": "python3"
  },
  "language_info": {
   "codemirror_mode": {
    "name": "ipython",
    "version": 3
   },
   "file_extension": ".py",
   "mimetype": "text/x-python",
   "name": "python",
   "nbconvert_exporter": "python",
   "pygments_lexer": "ipython3",
   "version": "3.11.4"
  }
 },
 "nbformat": 4,
 "nbformat_minor": 2
}
